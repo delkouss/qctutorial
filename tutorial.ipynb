{
 "cells": [
  {
   "cell_type": "markdown",
   "metadata": {
    "cell_style": "center",
    "slideshow": {
     "slide_type": "slide"
    }
   },
   "source": [
    "# Quantum Computing Seminar\n",
    "David Elkouss\n",
    "<div>\n",
    "<img src=https://delkouss.github.io/qctutorial/QuTech_Main.svg width=300px></div>"
   ]
  },
  {
   "cell_type": "markdown",
   "metadata": {
    "slideshow": {
     "slide_type": "slide"
    }
   },
   "source": [
    "**What:** A hands on introduction into programming quantum computers (no physics!)\n",
    "\n",
    "**How:** Jointly workout this notebook\n",
    "* Binder: https://bit.ly/qcdelft\n",
    "* GitHub: https://github.com/delkouss/qctutorial/\n"
   ]
  },
  {
   "cell_type": "code",
   "execution_count": 105,
   "metadata": {
    "slideshow": {
     "slide_type": "slide"
    }
   },
   "outputs": [],
   "source": [
    "from qiskit import *\n",
    "\n",
    "from qiskit.quantum_info import Statevector\n",
    "from qiskit.extensions import Barrier, CnotGate, RXGate, RYGate, \\\n",
    "                              RZGate, SGate, ToffoliGate, UnitaryGate\n",
    "from qiskit.circuit import Measure, Gate\n",
    "from qiskit.visualization import plot_histogram\n",
    "\n",
    "import numpy as np\n",
    "EPSILON = 1e-6\n",
    "\n",
    "backendUnitary = Aer.get_backend('unitary_simulator')\n",
    "backendStateVector = Aer.get_backend('statevector_simulator')\n",
    "backendQASM = Aer.get_backend('qasm_simulator')\n",
    "%matplotlib inline\n",
    "%config InlineBackend.figure_format = 'svg'"
   ]
  },
  {
   "cell_type": "markdown",
   "metadata": {
    "slideshow": {
     "slide_type": "slide"
    }
   },
   "source": [
    "## The menu for today\n",
    "\n",
    "* Why quantum computing? \n",
    "* Qubit states, gates and measurements\n",
    "* Quantum circuits\n",
    "\n",
    "(5 min) pause \n",
    "\n",
    "* Encoding functions into unitaries\n",
    "* Deutch's algorithm\n",
    "* Simon's algorithm"
   ]
  },
  {
   "cell_type": "markdown",
   "metadata": {
    "slideshow": {
     "slide_type": "slide"
    }
   },
   "source": [
    "# Why quantum computing?"
   ]
  },
  {
   "cell_type": "markdown",
   "metadata": {
    "slideshow": {
     "slide_type": "slide"
    }
   },
   "source": [
    "## About myself"
   ]
  },
  {
   "cell_type": "markdown",
   "metadata": {
    "cell_style": "split",
    "slideshow": {
     "slide_type": "-"
    }
   },
   "source": [
    "#### Past\n",
    "<small>\n",
    "    <ul>\n",
    "        <li> Double EE masters Madrid Technical University and ParisTech</li>\n",
    "        <li> Industry positions Critical Software / Thales Alenia Space</li>\n",
    "        <li> PhD Computer Science Madrid Technical University</li>\n",
    "        <li> Postdoc Quantum Information Theory Madrid Complutense University</li>\n",
    "</small>"
   ]
  },
  {
   "cell_type": "markdown",
   "metadata": {
    "cell_style": "split",
    "slideshow": {
     "slide_type": "-"
    }
   },
   "source": [
    "#### Currently (since 2017)\n",
    "<small>\n",
    "<ul>\n",
    "    <li>Assistant Professor @Quantum Computer Engineering department - EWI</li>\n",
    "\n",
    "<li> Junior group leader @QuTech</li>\n",
    "</small>"
   ]
  },
  {
   "cell_type": "markdown",
   "metadata": {
    "slideshow": {
     "slide_type": "slide"
    }
   },
   "source": [
    "## Quantum computers"
   ]
  },
  {
   "cell_type": "markdown",
   "metadata": {
    "cell_style": "split",
    "slideshow": {
     "slide_type": "-"
    }
   },
   "source": [
    "**What:** <small>\n",
    "Machines that rely on characteristically quantum phenomena, such as quantum interference and quantum entanglement, to perform computation. \n",
    "</small>\n",
    "\n",
    "**Why:**\n",
    "<small>\n",
    "Speedups in computational problems: searching, factoring, simulating quantum systems\n",
    "</small>"
   ]
  },
  {
   "cell_type": "markdown",
   "metadata": {
    "cell_style": "split",
    "slideshow": {
     "slide_type": "-"
    }
   },
   "source": [
    "<div><img src=\"https://delkouss.github.io/qctutorial/qutechfridge.jpg\"></div>"
   ]
  },
  {
   "cell_type": "markdown",
   "metadata": {
    "slideshow": {
     "slide_type": "slide"
    }
   },
   "source": [
    "## 2012 Nobel prize"
   ]
  },
  {
   "cell_type": "markdown",
   "metadata": {
    "cell_style": "split",
    "slideshow": {
     "slide_type": "-"
    }
   },
   "source": [
    "<div><img src=\"https://delkouss.github.io/qctutorial/nobelprize.jpg\" width=500px></div>\n",
    "<div style=\"text-align:center\"><small>Serge Haroche - Dave Wineland. </small></div>\n",
    "\n"
   ]
  },
  {
   "cell_type": "markdown",
   "metadata": {
    "cell_style": "split",
    "slideshow": {
     "slide_type": "-"
    }
   },
   "source": [
    "<small>\n",
    "<p>Their ground-breaking methods have enabled [...] to take the very first steps towards building a new type of super\n",
    "fast computer based on quantum physics.</p> \n",
    "\n",
    "<p>Perhaps the quantum computer will\n",
    "change our everyday lives in this century in the same radical way as the classical\n",
    "computer did in the last century.</p>\n",
    "</small>"
   ]
  },
  {
   "cell_type": "markdown",
   "metadata": {
    "slideshow": {
     "slide_type": "slide"
    }
   },
   "source": [
    "## EU funding\n",
    "<div><img src=\"https://delkouss.github.io/qctutorial/flagship.png\" width=750px></div>"
   ]
  },
  {
   "cell_type": "markdown",
   "metadata": {
    "cell_style": "split",
    "slideshow": {
     "slide_type": "slide"
    }
   },
   "source": [
    "## Industry participation"
   ]
  },
  {
   "attachments": {},
   "cell_type": "markdown",
   "metadata": {
    "cell_style": "split",
    "slideshow": {
     "slide_type": "-"
    }
   },
   "source": [
    "<div><img src=\"https://delkouss.github.io/qctutorial/landscape.png\" width=600px></div>"
   ]
  },
  {
   "cell_type": "markdown",
   "metadata": {
    "slideshow": {
     "slide_type": "slide"
    }
   },
   "source": [
    "## Airbus challenge\n",
    "<div>\n",
    "    <img width=700px src=https://delkouss.github.io/qctutorial/airbus.png>\n",
    "</div>"
   ]
  },
  {
   "cell_type": "markdown",
   "metadata": {
    "cell_style": "center",
    "slideshow": {
     "slide_type": "slide"
    }
   },
   "source": [
    "<div>\n",
    "<img src=\"https://delkouss.github.io/qctutorial/QuTech_Main.svg\" width=350px>\n",
    "</div>"
   ]
  },
  {
   "cell_type": "markdown",
   "metadata": {
    "cell_style": "center",
    "slideshow": {
     "slide_type": "-"
    }
   },
   "source": [
    "* Research institute collaboration of TU Delft and TNO\n",
    "* Goal: Realize the **quantum computer** and the **quantum internet**\n",
    "* ~200 members"
   ]
  },
  {
   "cell_type": "markdown",
   "metadata": {
    "cell_style": "center",
    "slideshow": {
     "slide_type": "slide"
    }
   },
   "source": [
    "## Intel and Microsoft invest in QuTech\n",
    "<div><img src=\"https://delkouss.github.io/qctutorial/intelms.png\" width=800px></div>"
   ]
  },
  {
   "cell_type": "markdown",
   "metadata": {
    "slideshow": {
     "slide_type": "slide"
    }
   },
   "source": [
    "## Delft based startups in quantum\n",
    "\n",
    "<div><img src=https://delkouss.github.io/qctutorial/startups.png width=750px></div>"
   ]
  },
  {
   "cell_type": "markdown",
   "metadata": {
    "cell_style": "center",
    "slideshow": {
     "slide_type": "slide"
    }
   },
   "source": [
    "## State of the art accessible online\n",
    "<div><img src=\"https://delkouss.github.io/qctutorial/ibmqe.png\" width=800px></div>"
   ]
  },
  {
   "cell_type": "markdown",
   "metadata": {
    "slideshow": {
     "slide_type": "slide"
    }
   },
   "source": [
    "## Quantum Inspire\n",
    "<div><img src=\"https://delkouss.github.io/qctutorial/qinspire.PNG\" width=800px></div>"
   ]
  },
  {
   "cell_type": "markdown",
   "metadata": {
    "slideshow": {
     "slide_type": "slide"
    }
   },
   "source": [
    "## Learning quantum computation in TU Delft"
   ]
  },
  {
   "cell_type": "markdown",
   "metadata": {
    "slideshow": {
     "slide_type": "slide"
    }
   },
   "source": [
    "<div>\n",
    "<img src=\"https://delkouss.github.io/qctutorial/qutechacademymoocs.png\">\n",
    "</div>"
   ]
  },
  {
   "cell_type": "markdown",
   "metadata": {
    "cell_style": "center",
    "slideshow": {
     "slide_type": "slide"
    }
   },
   "source": [
    "<style>.CodeMirror{min-width:100% !important;}</style>\n",
    "<div>\n",
    "    <img src=\"https://delkouss.github.io/qctutorial/qutechacademy.png\">\n",
    "</div>"
   ]
  },
  {
   "cell_type": "markdown",
   "metadata": {
    "slideshow": {
     "slide_type": "slide"
    }
   },
   "source": [
    "## CSE3130: intro to quantum CS\n",
    "\n",
    "* Learn quantum computation by doing\n",
    "* Not required: knowledge of quantum mechanics! \n",
    "* Required:  linear algebra, rudiments of probability, and complex numbers.  \n",
    "* Required: object oriented programming \n",
    "\n",
    "<div><img src=https://imgs.xkcd.com/comics/circuit_diagram.png width=700></div>"
   ]
  },
  {
   "cell_type": "markdown",
   "metadata": {
    "slideshow": {
     "slide_type": "slide"
    }
   },
   "source": [
    "## Textbook"
   ]
  },
  {
   "cell_type": "markdown",
   "metadata": {
    "cell_style": "split",
    "slideshow": {
     "slide_type": "-"
    }
   },
   "source": [
    "<div><img src=\"https://delkouss.github.io/qctutorial/qiskitbook.png\" width=300px></div>"
   ]
  },
  {
   "cell_type": "markdown",
   "metadata": {
    "cell_style": "split",
    "slideshow": {
     "slide_type": "-"
    }
   },
   "source": [
    "<p>\n",
    "    </p>\n",
    "    \n",
    "<small>\n",
    "<ul>The qiskit textbook:\n",
    "    <li> <a href=https://qiskit.org/textbook/preface.html>Official site</a></li>\n",
    "    <li><a href=https://github.com/Qiskit/qiskit-textbook>Repo</a></li>\n",
    "    </ul>\n",
    "<ul>Other resources:\n",
    "    <li> Scott Aaronson's <a href=\"https://www.scottaaronson.com/blog/?p=3943\">lecture notes</a></li>\n",
    "<li> John Preskill's <a href=http://www.theory.caltech.edu/~preskill/ph219/index.html#lecture>lecture notes</a></li>\n",
    "    </ul></small>"
   ]
  },
  {
   "cell_type": "markdown",
   "metadata": {
    "slideshow": {
     "slide_type": "slide"
    }
   },
   "source": [
    "# Qubit states, gates and measurements"
   ]
  },
  {
   "cell_type": "markdown",
   "metadata": {
    "slideshow": {
     "slide_type": "slide"
    }
   },
   "source": [
    "## Learning goals\n",
    "\n",
    "* From bit to Qubit\n",
    "\n",
    "* Notion of superposition\n",
    "\n",
    "* Predict measurement outcomes of one qubit\n",
    "\n",
    "* Manipulate qubits via gates"
   ]
  },
  {
   "cell_type": "markdown",
   "metadata": {
    "slideshow": {
     "slide_type": "slide"
    }
   },
   "source": [
    "## From bit to qubit"
   ]
  },
  {
   "cell_type": "markdown",
   "metadata": {
    "cell_style": "split",
    "slideshow": {
     "slide_type": "-"
    }
   },
   "source": [
    "### A classical bit register can be in the state\n",
    "\n",
    "0 **or** 1"
   ]
  },
  {
   "cell_type": "markdown",
   "metadata": {
    "cell_style": "split",
    "slideshow": {
     "slide_type": "-"
    }
   },
   "source": [
    "### A quantum bit register can be in the state\n",
    "\n",
    "$|0\\rangle$ **and** $|1\\rangle$\n",
    "\n",
    "Dirac notation, $|\\cdot\\rangle$ is called a *ket*."
   ]
  },
  {
   "cell_type": "markdown",
   "metadata": {
    "slideshow": {
     "slide_type": "slide"
    }
   },
   "source": [
    "## The qubit\n",
    "\n",
    "A quantum bit register $|\\phi\\rangle$ can be in the state\n",
    "\n",
    "$$|\\phi\\rangle=a|0\\rangle+b|1\\rangle$$\n",
    "\n",
    "where $a,b$ are called probability amplitudes and verify:\n",
    "\n",
    "$$|a|^2+|b|^2=1$$\n",
    "\n",
    "with $a,b\\in\\mathbb C$."
   ]
  },
  {
   "cell_type": "markdown",
   "metadata": {
    "slideshow": {
     "slide_type": "subslide"
    }
   },
   "source": [
    "\n",
    "$$|\\phi\\rangle=a|0\\rangle+b|1\\rangle$$\n",
    "\n",
    "---\n",
    "\n",
    "\n",
    "$$|0\\rangle=\\begin{pmatrix}1\\\\0\\end{pmatrix}\\qquad|1\\rangle=\\begin{pmatrix}0\\\\1\\end{pmatrix}$$\n",
    "\n",
    "---\n",
    "$$|\\phi\\rangle=a|0\\rangle+b|1\\rangle=a\\begin{pmatrix}1\\\\0\\end{pmatrix}+b\\begin{pmatrix}0\\\\1\\end{pmatrix}=\\begin{pmatrix}a\\\\b\\end{pmatrix}$$\n"
   ]
  },
  {
   "cell_type": "markdown",
   "metadata": {
    "slideshow": {
     "slide_type": "slide"
    }
   },
   "source": [
    "## Example: vector picture\n",
    "\n",
    "---\n",
    "\n",
    "\\begin{align}|\\phi\\rangle&=\\frac{1}{\\sqrt 3}|0\\rangle+\\sqrt{\\frac{2}{3}}|1\\rangle\\\\\n",
    "&=\\frac{1}{\\sqrt 3}\\begin{pmatrix}1\\\\0\\end{pmatrix}+\\sqrt{\\frac{2}{3}}\\begin{pmatrix}0\\\\1\\end{pmatrix}\\\\\n",
    "&=\\begin{pmatrix}\\sqrt{\\frac{1}{3}}\\\\\\sqrt{\\frac{2}{3}}\\end{pmatrix}\\end{align}\n"
   ]
  },
  {
   "cell_type": "markdown",
   "metadata": {
    "slideshow": {
     "slide_type": "slide"
    }
   },
   "source": [
    "## Which of the following are valid qubit states?\n",
    "---\n",
    "* $|0\\rangle$\n",
    "* $\\frac{1}{2}|0\\rangle+\\frac{1}{2}|1\\rangle$\n",
    "* $\\frac{1}{\\sqrt2}|0\\rangle+\\frac{1}{\\sqrt2}|1\\rangle$"
   ]
  },
  {
   "cell_type": "markdown",
   "metadata": {
    "slideshow": {
     "slide_type": "slide"
    }
   },
   "source": [
    "## Measurement\n",
    "<div><img src=\"https://delkouss.github.io/qctutorial/measure.png\" width=700px></div>\n",
    "\n",
    "1. we find the qubit in state $|0\\rangle$, $|1\\rangle$ with prob $|\\alpha_0|^2$, $|\\alpha_1|^2$\n",
    "\n",
    "2. after the measurement the state is projected to the measurement outcome\n",
    "\n"
   ]
  },
  {
   "cell_type": "markdown",
   "metadata": {
    "slideshow": {
     "slide_type": "slide"
    }
   },
   "source": [
    "## Example: measurement\n",
    "\n",
    "$$|\\phi\\rangle=\\sqrt{\\frac{1}{3}}|0\\rangle-\\sqrt{\\frac{2}{3}}|1\\rangle$$"
   ]
  },
  {
   "cell_type": "markdown",
   "metadata": {
    "slideshow": {
     "slide_type": "slide"
    }
   },
   "source": [
    "## Gates are unitary matrices\n",
    "---\n",
    "<div><img src=\"https://delkouss.github.io/qctutorial/gates.png\" width=500px></div>\n",
    "   \n",
    "* $|\\Psi_{\\textrm{out}}\\rangle=U|\\Psi_{\\textrm{in}}\\rangle$\n",
    "\n",
    "* $U$ is a unitary matrix: $UU^\\dagger=U^\\dagger U=I$\n",
    "\n",
    "* $^\\dagger$ means conjugate transpose"
   ]
  },
  {
   "cell_type": "markdown",
   "metadata": {
    "slideshow": {
     "slide_type": "slide"
    }
   },
   "source": [
    "## Example conjugate transpose\n",
    "\n",
    "$$A=\\begin{pmatrix}1 + i & 3i \\\\ -2 i & 5\\end{pmatrix}$$\n",
    "\n",
    "$$\\textrm{Transpose: }A^T=\\begin{pmatrix}1 + i & -2i \\\\ 3i & 5\\end{pmatrix}$$ \n",
    "\n",
    "$$\\textrm{Conjugate: }A^*=\\begin{pmatrix}1 - i & -3i \\\\ 2 i & 5\\end{pmatrix}$$\n",
    "\n",
    "$$\\textrm{Conjugate transpose: }A^\\dagger=\\begin{pmatrix}1 - i & 2i \\\\ -3 i & 5\\end{pmatrix}$$"
   ]
  },
  {
   "cell_type": "markdown",
   "metadata": {
    "slideshow": {
     "slide_type": "slide"
    }
   },
   "source": [
    "## Example $I$ gate\n",
    "\n",
    "---\n",
    "* $I=\\begin{pmatrix}1 &0\\\\0&1\\end{pmatrix}$"
   ]
  },
  {
   "cell_type": "markdown",
   "metadata": {
    "slideshow": {
     "slide_type": "fragment"
    }
   },
   "source": [
    "* $|0\\rangle\\mapsto|0\\rangle$\n",
    "* $|1\\rangle\\mapsto|1\\rangle$"
   ]
  },
  {
   "cell_type": "markdown",
   "metadata": {
    "slideshow": {
     "slide_type": "slide"
    }
   },
   "source": [
    "## Example $X$ gate\n",
    "\n",
    "---\n",
    "* $X=\\begin{pmatrix}0 &1\\\\1&0\\end{pmatrix}$"
   ]
  },
  {
   "cell_type": "markdown",
   "metadata": {
    "slideshow": {
     "slide_type": "fragment"
    }
   },
   "source": [
    "* $X|0\\rangle = \\begin{pmatrix}0&1\\\\1&0\\end{pmatrix} \\begin{pmatrix}1\\\\0\\end{pmatrix} = \\begin{pmatrix}0\\\\1\\end{pmatrix}=|1\\rangle$"
   ]
  },
  {
   "cell_type": "markdown",
   "metadata": {
    "slideshow": {
     "slide_type": "fragment"
    }
   },
   "source": [
    "* $X|1\\rangle = \\begin{pmatrix}0&1\\\\1&0\\end{pmatrix} \\begin{pmatrix}0\\\\1\\end{pmatrix} = \\begin{pmatrix}1\\\\0\\end{pmatrix}=|0\\rangle$"
   ]
  },
  {
   "cell_type": "markdown",
   "metadata": {
    "slideshow": {
     "slide_type": "slide"
    }
   },
   "source": [
    "## Example Hadamard $H$ gate and $|+\\rangle,|-\\rangle$\n",
    "\n",
    "---\n",
    "* $H=\\frac{1}{\\sqrt 2}\\begin{pmatrix}1 &1\\\\1&-1\\end{pmatrix}$"
   ]
  },
  {
   "cell_type": "markdown",
   "metadata": {
    "slideshow": {
     "slide_type": "fragment"
    }
   },
   "source": [
    "* $H|0\\rangle = \\frac{1}{\\sqrt 2}\\begin{pmatrix}1\\\\1\\end{pmatrix}=\\frac{1}{\\sqrt 2}(|0\\rangle+|1\\rangle)=|+\\rangle$"
   ]
  },
  {
   "cell_type": "markdown",
   "metadata": {
    "slideshow": {
     "slide_type": "fragment"
    }
   },
   "source": [
    "* $H|1\\rangle = \\frac{1}{\\sqrt 2}\\begin{pmatrix}1\\\\-1\\end{pmatrix}=\\frac{1}{\\sqrt 2}(|0\\rangle-|1\\rangle)=|-\\rangle$"
   ]
  },
  {
   "cell_type": "markdown",
   "metadata": {
    "slideshow": {
     "slide_type": "slide"
    }
   },
   "source": [
    "## Example $Z$ gate\n",
    "* $Z=\\begin{pmatrix}1 &0\\\\0&-1\\end{pmatrix}$"
   ]
  },
  {
   "cell_type": "markdown",
   "metadata": {
    "slideshow": {
     "slide_type": "fragment"
    }
   },
   "source": [
    "* $Z|0\\rangle = \\begin{pmatrix}1 &0\\\\0&-1\\end{pmatrix} \\begin{pmatrix}1\\\\0\\end{pmatrix} = |0\\rangle$"
   ]
  },
  {
   "cell_type": "markdown",
   "metadata": {
    "slideshow": {
     "slide_type": "fragment"
    }
   },
   "source": [
    "* $Z|1\\rangle = \\begin{pmatrix}1 &0\\\\0&-1\\end{pmatrix} \\begin{pmatrix}0\\\\1\\end{pmatrix} = -|1\\rangle$"
   ]
  },
  {
   "cell_type": "markdown",
   "metadata": {
    "slideshow": {
     "slide_type": "slide"
    }
   },
   "source": [
    "## Quantum circuits: stacking gates\n",
    "<div><img src=\"https://delkouss.github.io/qctutorial/stackgates.png\"></div>"
   ]
  },
  {
   "cell_type": "markdown",
   "metadata": {
    "slideshow": {
     "slide_type": "slide"
    }
   },
   "source": [
    "## A quantum circuit on qiskit"
   ]
  },
  {
   "cell_type": "code",
   "execution_count": 86,
   "metadata": {
    "slideshow": {
     "slide_type": "-"
    }
   },
   "outputs": [
    {
     "data": {
      "image/svg+xml": [
       "<?xml version=\"1.0\" encoding=\"utf-8\" standalone=\"no\"?>\n",
       "<!DOCTYPE svg PUBLIC \"-//W3C//DTD SVG 1.1//EN\"\n",
       "  \"http://www.w3.org/Graphics/SVG/1.1/DTD/svg11.dtd\">\n",
       "<!-- Created with matplotlib (https://matplotlib.org/) -->\n",
       "<svg height=\"78.0314pt\" version=\"1.1\" viewBox=\"0 0 161.66124 78.0314\" width=\"161.66124pt\" xmlns=\"http://www.w3.org/2000/svg\" xmlns:xlink=\"http://www.w3.org/1999/xlink\">\n",
       " <defs>\n",
       "  <style type=\"text/css\">\n",
       "*{stroke-linecap:butt;stroke-linejoin:round;}\n",
       "  </style>\n",
       " </defs>\n",
       " <g id=\"figure_1\">\n",
       "  <g id=\"patch_1\">\n",
       "   <path d=\"M 0 78.0314 \n",
       "L 161.66124 78.0314 \n",
       "L 161.66124 0 \n",
       "L 0 0 \n",
       "z\n",
       "\" style=\"fill:#ffffff;\"/>\n",
       "  </g>\n",
       "  <g id=\"axes_1\">\n",
       "   <g id=\"line2d_1\">\n",
       "    <path clip-path=\"url(#pca0f94e3a9)\" d=\"M 81.73964 43.5608 \n",
       "L 149.91614 43.5608 \n",
       "\" style=\"fill:none;stroke:#000000;stroke-linecap:square;stroke-width:2;\"/>\n",
       "   </g>\n",
       "   <g id=\"patch_2\">\n",
       "    <path clip-path=\"url(#pca0f94e3a9)\" d=\"M 89.693565 58.332375 \n",
       "L 119.236715 58.332375 \n",
       "L 119.236715 28.789225 \n",
       "L 89.693565 28.789225 \n",
       "z\n",
       "\" style=\"fill:#05bab6;\"/>\n",
       "   </g>\n",
       "   <g id=\"text_1\">\n",
       "    <g clip-path=\"url(#pca0f94e3a9)\">\n",
       "     <!-- $X$ -->\n",
       "     <defs>\n",
       "      <path d=\"M 13.71875 72.90625 \n",
       "L 23.6875 72.90625 \n",
       "L 36.1875 46.578125 \n",
       "L 58.796875 72.90625 \n",
       "L 70.3125 72.90625 \n",
       "L 40.28125 38.09375 \n",
       "L 58.40625 0 \n",
       "L 48.484375 0 \n",
       "L 33.796875 30.71875 \n",
       "L 7.171875 0 \n",
       "L -4.296875 0 \n",
       "L 29.78125 39.203125 \n",
       "z\n",
       "\" id=\"DejaVuSans-Oblique-88\"/>\n",
       "     </defs>\n",
       "     <g transform=\"translate(99.98014 47.147987)scale(0.13 -0.13)\">\n",
       "      <use transform=\"translate(0 0.09375)\" xlink:href=\"#DejaVuSans-Oblique-88\"/>\n",
       "     </g>\n",
       "    </g>\n",
       "   </g>\n",
       "   <g id=\"text_2\">\n",
       "    <g clip-path=\"url(#pca0f94e3a9)\">\n",
       "     <!-- $q47$ -->\n",
       "     <defs>\n",
       "      <path d=\"M 41.703125 8.203125 \n",
       "Q 38.09375 3.46875 33.171875 1.015625 \n",
       "Q 28.265625 -1.421875 22.3125 -1.421875 \n",
       "Q 14.015625 -1.421875 9.296875 4.171875 \n",
       "Q 4.59375 9.765625 4.59375 19.578125 \n",
       "Q 4.59375 27.484375 7.5 34.859375 \n",
       "Q 10.40625 42.234375 15.828125 48.09375 \n",
       "Q 19.34375 51.90625 23.90625 53.953125 \n",
       "Q 28.46875 56 33.5 56 \n",
       "Q 39.546875 56 43.453125 53.609375 \n",
       "Q 47.359375 51.21875 49.125 46.390625 \n",
       "L 50.6875 54.59375 \n",
       "L 59.71875 54.59375 \n",
       "L 45.125 -20.609375 \n",
       "L 36.078125 -20.609375 \n",
       "z\n",
       "M 13.921875 20.90625 \n",
       "Q 13.921875 13.671875 16.9375 9.890625 \n",
       "Q 19.96875 6.109375 25.6875 6.109375 \n",
       "Q 34.1875 6.109375 40.1875 14.234375 \n",
       "Q 46.1875 22.359375 46.1875 33.984375 \n",
       "Q 46.1875 41.015625 43.078125 44.75 \n",
       "Q 39.984375 48.484375 34.1875 48.484375 \n",
       "Q 29.9375 48.484375 26.3125 46.5 \n",
       "Q 22.703125 44.53125 20.015625 40.71875 \n",
       "Q 17.1875 36.71875 15.546875 31.34375 \n",
       "Q 13.921875 25.984375 13.921875 20.90625 \n",
       "z\n",
       "\" id=\"DejaVuSans-Oblique-113\"/>\n",
       "      <path d=\"M 37.796875 64.3125 \n",
       "L 12.890625 25.390625 \n",
       "L 37.796875 25.390625 \n",
       "z\n",
       "M 35.203125 72.90625 \n",
       "L 47.609375 72.90625 \n",
       "L 47.609375 25.390625 \n",
       "L 58.015625 25.390625 \n",
       "L 58.015625 17.1875 \n",
       "L 47.609375 17.1875 \n",
       "L 47.609375 0 \n",
       "L 37.796875 0 \n",
       "L 37.796875 17.1875 \n",
       "L 4.890625 17.1875 \n",
       "L 4.890625 26.703125 \n",
       "z\n",
       "\" id=\"DejaVuSans-52\"/>\n",
       "      <path d=\"M 8.203125 72.90625 \n",
       "L 55.078125 72.90625 \n",
       "L 55.078125 68.703125 \n",
       "L 28.609375 0 \n",
       "L 18.3125 0 \n",
       "L 43.21875 64.59375 \n",
       "L 8.203125 64.59375 \n",
       "z\n",
       "\" id=\"DejaVuSans-55\"/>\n",
       "     </defs>\n",
       "     <g transform=\"translate(27.97664 48.011777)scale(0.1625 -0.1625)\">\n",
       "      <use transform=\"translate(0 0.09375)\" xlink:href=\"#DejaVuSans-Oblique-113\"/>\n",
       "      <use transform=\"translate(63.476562 0.09375)\" xlink:href=\"#DejaVuSans-52\"/>\n",
       "      <use transform=\"translate(127.099609 0.09375)\" xlink:href=\"#DejaVuSans-55\"/>\n",
       "     </g>\n",
       "    </g>\n",
       "   </g>\n",
       "  </g>\n",
       " </g>\n",
       " <defs>\n",
       "  <clipPath id=\"pca0f94e3a9\">\n",
       "   <rect height=\"63.6314\" width=\"147.26124\" x=\"7.2\" y=\"7.2\"/>\n",
       "  </clipPath>\n",
       " </defs>\n",
       "</svg>\n"
      ],
      "text/plain": [
       "<Figure size 195.048x84.28 with 1 Axes>"
      ]
     },
     "execution_count": 86,
     "metadata": {},
     "output_type": "execute_result"
    }
   ],
   "source": [
    "q = QuantumRegister(1) # create one qubit register\n",
    "qc = QuantumCircuit(q) # create circuit, all qubits initialized to |0>\n",
    "\n",
    "qc.x(q) # apply X gate \n",
    "\n",
    "qc.draw(output='mpl')"
   ]
  },
  {
   "cell_type": "code",
   "execution_count": 91,
   "metadata": {
    "slideshow": {
     "slide_type": "subslide"
    }
   },
   "outputs": [
    {
     "name": "stdout",
     "output_type": "stream",
     "text": [
      "[0.+0.j 1.+0.j]\n"
     ]
    }
   ],
   "source": [
    "job = execute(qc,backendStateVector)\n",
    "vector = job.result().get_statevector(qc, decimals=3)\n",
    "print(vector)"
   ]
  },
  {
   "cell_type": "markdown",
   "metadata": {
    "slideshow": {
     "slide_type": "slide"
    }
   },
   "source": [
    "## A trivial game of randomness...\n",
    "\n",
    "Supppose that we initialize a quantum register in the state $|0\\rangle$ and then apply a Hadamard gate. What are the probabilities of the measurement outcomes?"
   ]
  },
  {
   "cell_type": "code",
   "execution_count": 17,
   "metadata": {
    "slideshow": {
     "slide_type": "fragment"
    }
   },
   "outputs": [
    {
     "data": {
      "image/png": "[encoded data removed]",
      "text/plain": [
       "<Figure size 244.412x144.48 with 1 Axes>"
      ]
     },
     "execution_count": 17,
     "metadata": {},
     "output_type": "execute_result"
    }
   ],
   "source": [
    "q = QuantumRegister(1) # create one qubit register\n",
    "r = ClassicalRegister(1) # create one bit register\n",
    "\n",
    "qc = QuantumCircuit(q,r) # create circuit with a qubit and a bit registers\n",
    "\n",
    "qc.h(q) # apply H gate\n",
    "\n",
    "qc.measure(q,r) # measure the state of the qubit register\n",
    "qc.draw(output='mpl')"
   ]
  },
  {
   "cell_type": "code",
   "execution_count": 18,
   "metadata": {},
   "outputs": [
    {
     "name": "stdout",
     "output_type": "stream",
     "text": [
      "{'1': 4164, '0': 4028}\n"
     ]
    }
   ],
   "source": [
    "job = execute(qc, backendQASM, shots=8192 )\n",
    "hist = job.result().get_counts()\n",
    "print(hist)"
   ]
  },
  {
   "cell_type": "markdown",
   "metadata": {
    "slideshow": {
     "slide_type": "slide"
    }
   },
   "source": [
    "## ...which is commercial!\n",
    "\n",
    "---\n",
    "\n",
    "<div><img src=\"https://delkouss.github.io/qctutorial/idquantique.png\" width=1100px></div>"
   ]
  },
  {
   "cell_type": "markdown",
   "metadata": {
    "slideshow": {
     "slide_type": "slide"
    }
   },
   "source": [
    "## Exercise 1: a biased randomness source\n",
    "Construct a circuit that takes $|0\\rangle$ to a state $|\\phi\\rangle$ such that if we measure $|\\phi\\rangle$ in the computational basis the probability of observing outcome $0$ is $p_0=1/4$ and the probability of observing outcome $1$ is $p_1=3/4$."
   ]
  },
  {
   "cell_type": "code",
   "execution_count": 36,
   "metadata": {
    "slideshow": {
     "slide_type": "subslide"
    }
   },
   "outputs": [
    {
     "name": "stdout",
     "output_type": "stream",
     "text": [
      "final qubit state incorrect\n"
     ]
    },
    {
     "ename": "AssertionError",
     "evalue": "None",
     "output_type": "error",
     "traceback": [
      "\u001b[0;31m-------------------------------------------------\u001b[0m",
      "\u001b[0;31mAssertionError\u001b[0m  Traceback (most recent call last)",
      "\u001b[0;32m<ipython-input-36-7ee62462a696>\u001b[0m in \u001b[0;36m<module>\u001b[0;34m\u001b[0m\n\u001b[1;32m     12\u001b[0m \u001b[0mvector\u001b[0m \u001b[0;34m=\u001b[0m \u001b[0mjob\u001b[0m\u001b[0;34m.\u001b[0m\u001b[0mresult\u001b[0m\u001b[0;34m(\u001b[0m\u001b[0;34m)\u001b[0m\u001b[0;34m.\u001b[0m\u001b[0mget_statevector\u001b[0m\u001b[0;34m(\u001b[0m\u001b[0mqc\u001b[0m\u001b[0;34m,\u001b[0m \u001b[0mdecimals\u001b[0m\u001b[0;34m=\u001b[0m\u001b[0;36m6\u001b[0m\u001b[0;34m)\u001b[0m\u001b[0;34m\u001b[0m\u001b[0;34m\u001b[0m\u001b[0m\n\u001b[1;32m     13\u001b[0m \u001b[0;32massert\u001b[0m \u001b[0mnp\u001b[0m\u001b[0;34m.\u001b[0m\u001b[0mallclose\u001b[0m\u001b[0;34m(\u001b[0m\u001b[0mnp\u001b[0m\u001b[0;34m.\u001b[0m\u001b[0mabsolute\u001b[0m\u001b[0;34m(\u001b[0m\u001b[0mvector\u001b[0m\u001b[0;34m)\u001b[0m\u001b[0;34m**\u001b[0m\u001b[0;36m2\u001b[0m\u001b[0;34m,\u001b[0m \u001b[0;34m[\u001b[0m\u001b[0;36m0.25\u001b[0m\u001b[0;34m,\u001b[0m \u001b[0;36m0.75\u001b[0m\u001b[0;34m]\u001b[0m\u001b[0;34m)\u001b[0m\u001b[0;34m,\u001b[0m\u001b[0;31m \u001b[0m\u001b[0;31m\\\u001b[0m\u001b[0;34m\u001b[0m\u001b[0;34m\u001b[0m\u001b[0m\n\u001b[0;32m---> 14\u001b[0;31m        \u001b[0mprint\u001b[0m\u001b[0;34m(\u001b[0m\u001b[0;34m\"final qubit state incorrect\"\u001b[0m\u001b[0;34m)\u001b[0m\u001b[0;34m\u001b[0m\u001b[0;34m\u001b[0m\u001b[0m\n\u001b[0m\u001b[1;32m     15\u001b[0m \u001b[0mprint\u001b[0m\u001b[0;34m(\u001b[0m\u001b[0;34m\"Passed test\"\u001b[0m\u001b[0;34m)\u001b[0m\u001b[0;34m\u001b[0m\u001b[0;34m\u001b[0m\u001b[0m\n",
      "\u001b[0;31mAssertionError\u001b[0m: None"
     ]
    }
   ],
   "source": [
    "def exercise1(): \n",
    "    q = QuantumRegister(1)\n",
    "    qc = QuantumCircuit(q)\n",
    "    # Modify the following unitary such that it performs the desired transformation\n",
    "    qc.unitary([[1, 0],[0,1]], q) \n",
    "    return qc\n",
    "\n",
    "#### Test correctness\n",
    "qc = exercise1()\n",
    "job = execute(qc,backendStateVector)\n",
    "\n",
    "vector = job.result().get_statevector(qc, decimals=6)\n",
    "assert np.allclose(np.absolute(vector)**2, [0.25, 0.75]), \\\n",
    "       print(\"final qubit state incorrect\")\n",
    "print(\"Passed test\")"
   ]
  },
  {
   "cell_type": "markdown",
   "metadata": {
    "slideshow": {
     "slide_type": "slide"
    }
   },
   "source": [
    "# Multiqubit circuits"
   ]
  },
  {
   "cell_type": "markdown",
   "metadata": {
    "slideshow": {
     "slide_type": "slide"
    }
   },
   "source": [
    "Learning goals:\n",
    "* Multiqubit states, gates and measurements\n",
    "* Gate sets\n",
    "* Notation conventions"
   ]
  },
  {
   "cell_type": "markdown",
   "metadata": {
    "slideshow": {
     "slide_type": "slide"
    }
   },
   "source": [
    "## Qubits\n",
    "\n",
    "A quantum bit register $|\\phi\\rangle$ can be in the state\n",
    "\n",
    "$$|\\phi\\rangle=a_0|0\\rangle+a_1|1\\rangle$$\n",
    "\n",
    "where $a_0,a_1\\in\\mathbb C$ and $\\sum_i|a_i|^2=1$."
   ]
  },
  {
   "cell_type": "markdown",
   "metadata": {
    "slideshow": {
     "slide_type": "slide"
    }
   },
   "source": [
    "## A two qubit register $|\\phi\\rangle$ can be in the state\n",
    "\n",
    "$$\\begin{align}|\\phi\\rangle&=a_{00}|00\\rangle+a_{01}|01\\rangle+a_{10}|10\\rangle+a_{11}|11\\rangle\\\\\n",
    "&=a_{00}\\begin{pmatrix}1\\\\0\\\\0\\\\0\\end{pmatrix}+a_{01}\\begin{pmatrix}0\\\\1\\\\0\\\\0\\end{pmatrix}+a_{10}\\begin{pmatrix}0\\\\0\\\\1\\\\0\\end{pmatrix}+a_{11}\\begin{pmatrix}0\\\\0\\\\0\\\\1\\end{pmatrix}\n",
    "\\end{align}$$\n",
    "\n",
    "where $a_{00},a_{01},a_{10},a_{11}\\in\\mathbb C$ and $\\sum_i|a_i|^2=1$."
   ]
  },
  {
   "cell_type": "markdown",
   "metadata": {
    "slideshow": {
     "slide_type": "slide"
    }
   },
   "source": [
    "## Example\n",
    "\n",
    "$$\\begin{align}|\\phi\\rangle&=\\frac{1}{\\sqrt2}|00\\rangle+\\frac{1}{\\sqrt2}|11\\rangle\\\\\n",
    "&=\\frac{1}{\\sqrt2}\\begin{pmatrix}1\\\\0\\\\0\\\\0\\end{pmatrix}+0\\begin{pmatrix}0\\\\1\\\\0\\\\0\\end{pmatrix}+0\\begin{pmatrix}0\\\\0\\\\1\\\\0\\end{pmatrix}+\\frac{1}{\\sqrt2}\\begin{pmatrix}0\\\\0\\\\0\\\\1\\end{pmatrix}\\\\&=\\begin{pmatrix}\\frac{1}{\\sqrt2}\\\\0\\\\0\\\\\\frac{1}{\\sqrt2}\\end{pmatrix}\n",
    "\\end{align}$$"
   ]
  },
  {
   "cell_type": "markdown",
   "metadata": {
    "slideshow": {
     "slide_type": "slide"
    }
   },
   "source": [
    "## The state of a $n$-qubit register \n",
    "\n",
    "An $n$ qubit register $|\\phi\\rangle$ can be in the state"
   ]
  },
  {
   "cell_type": "markdown",
   "metadata": {
    "slideshow": {
     "slide_type": "fragment"
    }
   },
   "source": [
    "$$|\\phi\\rangle=\\sum_{x\\in\\{0,1\\}^n}a_{x}|x\\rangle$$\n",
    "\n",
    "where $a_x\\in\\mathbb C$ and $\\sum_x|a_x|^2=1$."
   ]
  },
  {
   "cell_type": "markdown",
   "metadata": {
    "cell_style": "split",
    "slideshow": {
     "slide_type": "fragment"
    }
   },
   "source": [
    "How many complex parameters we need to specify the state of $|\\phi\\rangle$?"
   ]
  },
  {
   "cell_type": "markdown",
   "metadata": {
    "cell_style": "split",
    "slideshow": {
     "slide_type": "fragment"
    }
   },
   "source": [
    "How many parameters do we need to specify the state of an $n$ bit register?"
   ]
  },
  {
   "cell_type": "markdown",
   "metadata": {
    "slideshow": {
     "slide_type": "slide"
    }
   },
   "source": [
    "## Composite systems\n",
    "\n",
    "The state of a composite system is the tensor product of the components. If we have qubits $A,B$ in the states $|\\phi\\rangle_A,|\\phi\\rangle_B$. The composite two qubit system $AB$ is in the state  $$|\\phi\\rangle_A\\otimes|\\phi\\rangle_B$$"
   ]
  },
  {
   "cell_type": "markdown",
   "metadata": {
    "slideshow": {
     "slide_type": "slide"
    }
   },
   "source": [
    "## The tensor product\n",
    "\n",
    "<p>Let</p> $$M=\\begin{pmatrix} m_{00} & m_{01} & \\ldots & m_{0(b-1)}\\\\ \\vdots & \\vdots &  & \\vdots\\\\ m_{(a-1)0} & m_{(a-1)1} & \\ldots & m_{(a-1)(b-1)} \\end{pmatrix}$$ \n",
    "\n",
    "<p>be an $a\\times b$ matrix and $N$ a matrix of dimension $c\\times d$.</p><p>Then $M\\otimes N$ is a $ac\\times bd$ matrix given by</p>\n",
    "\n",
    "$$M\\otimes N=\\begin{pmatrix} m_{00}N & m_{01}N & \\ldots & m_{0(b-1)}N\\\\ \\vdots & \\vdots &  & \\vdots\\\\ m_{(a-1)0}N & m_{(a-1)1}N & \\ldots & m_{(a-1)(b-1)}N \\end{pmatrix}$$"
   ]
  },
  {
   "cell_type": "markdown",
   "metadata": {
    "slideshow": {
     "slide_type": "slide"
    }
   },
   "source": [
    "## Example\n",
    "\n",
    "The matrix that represents $Z\\otimes X$ is:\n",
    "\n",
    "$$\n",
    "Z\\otimes X= \\begin{pmatrix}1 & 0 \\\\ 0 & -1\\end{pmatrix}\\otimes \\begin{pmatrix}0 & 1 \\\\ 1 & 0\\end{pmatrix}= \\begin{pmatrix} 0 & 1 & 0 & 0 \\\\ 1 & 0 & 0 & 0 \\\\ 0 & 0 & 0 & -1\\\\ 0 & 0 & -1 & 0\\end{pmatrix}\n",
    "$$"
   ]
  },
  {
   "cell_type": "markdown",
   "metadata": {
    "slideshow": {
     "slide_type": "slide"
    }
   },
   "source": [
    "## Example\n",
    "\n",
    "$$|0\\rangle\\otimes|0\\rangle\n",
    "= \\begin{pmatrix}1 \\\\ 0 \\end{pmatrix}\\otimes \\begin{pmatrix}1 \\\\ 0\\end{pmatrix}= \\begin{pmatrix}  1 \\\\ 0 \\\\ 0\\\\ 0\\end{pmatrix}\n",
    "$$"
   ]
  },
  {
   "cell_type": "markdown",
   "metadata": {
    "slideshow": {
     "slide_type": "slide"
    }
   },
   "source": [
    "## Lazy tensor convention\n",
    "\n",
    "Whenever clear from context, in order to avoid clutter, we will omit the tensor symbol $\\otimes$:\n",
    "\n",
    "$$|\\phi\\rangle\\otimes|\\psi\\rangle=|\\phi\\rangle|\\psi\\rangle$$\n",
    "\n",
    "Note also that \n",
    "\n",
    "$$|00\\rangle=|0\\rangle\\otimes|0\\rangle=|0\\rangle|0\\rangle$$"
   ]
  },
  {
   "cell_type": "markdown",
   "metadata": {
    "slideshow": {
     "slide_type": "slide"
    }
   },
   "source": [
    "## Subscript indicates system name\n",
    "\n",
    "(redundant) The state of qubit $A$ is $|\\phi\\rangle_A$\n",
    "\n",
    "The state of the two qubit system $AB$ is \n",
    "\n",
    "$$|\\phi\\rangle_{AB}=\\phi_{00}|0\\rangle_A|0\\rangle_B+\\phi_{01}|0\\rangle_A|1\\rangle_B+\\phi_{10}|1\\rangle_A|0\\rangle_B+\\phi_{11}|1\\rangle_A|1\\rangle_B$$"
   ]
  },
  {
   "cell_type": "markdown",
   "metadata": {
    "slideshow": {
     "slide_type": "slide"
    }
   },
   "source": [
    "## Convention\n",
    "\n",
    "In (qiskit's textbook) qubits are written from least significant to most significant right to left. A state with three qubits could be  \n",
    "\n",
    "$$|\\color{red}i\\rangle_2|\\color{blue}j\\rangle_1|\\color{green}k\\rangle_0$$\n"
   ]
  },
  {
   "cell_type": "code",
   "execution_count": 82,
   "metadata": {
    "slideshow": {
     "slide_type": "fragment"
    }
   },
   "outputs": [
    {
     "data": {
      "image/svg+xml": [
       "<?xml version=\"1.0\" encoding=\"utf-8\" standalone=\"no\"?>\n",
       "<!DOCTYPE svg PUBLIC \"-//W3C//DTD SVG 1.1//EN\"\n",
       "  \"http://www.w3.org/Graphics/SVG/1.1/DTD/svg11.dtd\">\n",
       "<!-- Created with matplotlib (https://matplotlib.org/) -->\n",
       "<svg height=\"214.3844pt\" version=\"1.1\" viewBox=\"0 0 210.74832 214.3844\" width=\"210.74832pt\" xmlns=\"http://www.w3.org/2000/svg\" xmlns:xlink=\"http://www.w3.org/1999/xlink\">\n",
       " <defs>\n",
       "  <style type=\"text/css\">\n",
       "*{stroke-linecap:butt;stroke-linejoin:round;}\n",
       "  </style>\n",
       " </defs>\n",
       " <g id=\"figure_1\">\n",
       "  <g id=\"patch_1\">\n",
       "   <path d=\"M 0 214.3844 \n",
       "L 210.74832 214.3844 \n",
       "L 210.74832 0 \n",
       "L 0 0 \n",
       "z\n",
       "\" style=\"fill:#ffffff;\"/>\n",
       "  </g>\n",
       "  <g id=\"axes_1\">\n",
       "   <g id=\"line2d_1\">\n",
       "    <path clip-path=\"url(#pce3b14bf32)\" d=\"M 130.82672 43.5608 \n",
       "L 199.00322 43.5608 \n",
       "\" style=\"fill:none;stroke:#000000;stroke-linecap:square;stroke-width:2;\"/>\n",
       "   </g>\n",
       "   <g id=\"line2d_2\">\n",
       "    <path clip-path=\"url(#pce3b14bf32)\" d=\"M 130.82672 89.0118 \n",
       "L 199.00322 89.0118 \n",
       "\" style=\"fill:none;stroke:#000000;stroke-linecap:square;stroke-width:2;\"/>\n",
       "   </g>\n",
       "   <g id=\"line2d_3\">\n",
       "    <path clip-path=\"url(#pce3b14bf32)\" d=\"M 130.82672 134.4628 \n",
       "L 199.00322 134.4628 \n",
       "\" style=\"fill:none;stroke:#000000;stroke-linecap:square;stroke-width:2;\"/>\n",
       "   </g>\n",
       "   <g id=\"line2d_4\">\n",
       "    <path clip-path=\"url(#pce3b14bf32)\" d=\"M 130.82672 179.9138 \n",
       "L 199.00322 179.9138 \n",
       "\" style=\"fill:none;stroke:#000000;stroke-linecap:square;stroke-width:2;\"/>\n",
       "   </g>\n",
       "   <g id=\"patch_2\">\n",
       "    <path clip-path=\"url(#pce3b14bf32)\" d=\"M 138.780645 194.685375 \n",
       "L 168.323795 194.685375 \n",
       "L 168.323795 165.142225 \n",
       "L 138.780645 165.142225 \n",
       "z\n",
       "\" style=\"fill:#6fa4ff;\"/>\n",
       "   </g>\n",
       "   <g id=\"patch_3\">\n",
       "    <path clip-path=\"url(#pce3b14bf32)\" d=\"M 138.780645 149.234375 \n",
       "L 168.323795 149.234375 \n",
       "L 168.323795 119.691225 \n",
       "L 138.780645 119.691225 \n",
       "z\n",
       "\" style=\"fill:#05bab6;\"/>\n",
       "   </g>\n",
       "   <g id=\"patch_4\">\n",
       "    <path clip-path=\"url(#pce3b14bf32)\" d=\"M 138.780645 103.783375 \n",
       "L 168.323795 103.783375 \n",
       "L 168.323795 74.240225 \n",
       "L 138.780645 74.240225 \n",
       "z\n",
       "\" style=\"fill:#05bab6;\"/>\n",
       "   </g>\n",
       "   <g id=\"patch_5\">\n",
       "    <path clip-path=\"url(#pce3b14bf32)\" d=\"M 138.780645 58.332375 \n",
       "L 168.323795 58.332375 \n",
       "L 168.323795 28.789225 \n",
       "L 138.780645 28.789225 \n",
       "z\n",
       "\" style=\"fill:#05bab6;\"/>\n",
       "   </g>\n",
       "   <g id=\"text_1\">\n",
       "    <g clip-path=\"url(#pce3b14bf32)\">\n",
       "     <!-- $H$ -->\n",
       "     <defs>\n",
       "      <path d=\"M 16.890625 72.90625 \n",
       "L 26.8125 72.90625 \n",
       "L 21 43.015625 \n",
       "L 56.78125 43.015625 \n",
       "L 62.59375 72.90625 \n",
       "L 72.515625 72.90625 \n",
       "L 58.296875 0 \n",
       "L 48.390625 0 \n",
       "L 55.171875 34.71875 \n",
       "L 19.390625 34.71875 \n",
       "L 12.59375 0 \n",
       "L 2.6875 0 \n",
       "z\n",
       "\" id=\"DejaVuSans-Oblique-72\"/>\n",
       "     </defs>\n",
       "     <g transform=\"translate(148.61222 183.500987)scale(0.13 -0.13)\">\n",
       "      <use transform=\"translate(0 0.09375)\" xlink:href=\"#DejaVuSans-Oblique-72\"/>\n",
       "     </g>\n",
       "    </g>\n",
       "   </g>\n",
       "   <g id=\"text_2\">\n",
       "    <g clip-path=\"url(#pce3b14bf32)\">\n",
       "     <!-- $X$ -->\n",
       "     <defs>\n",
       "      <path d=\"M 13.71875 72.90625 \n",
       "L 23.6875 72.90625 \n",
       "L 36.1875 46.578125 \n",
       "L 58.796875 72.90625 \n",
       "L 70.3125 72.90625 \n",
       "L 40.28125 38.09375 \n",
       "L 58.40625 0 \n",
       "L 48.484375 0 \n",
       "L 33.796875 30.71875 \n",
       "L 7.171875 0 \n",
       "L -4.296875 0 \n",
       "L 29.78125 39.203125 \n",
       "z\n",
       "\" id=\"DejaVuSans-Oblique-88\"/>\n",
       "     </defs>\n",
       "     <g transform=\"translate(149.06722 138.049987)scale(0.13 -0.13)\">\n",
       "      <use transform=\"translate(0 0.09375)\" xlink:href=\"#DejaVuSans-Oblique-88\"/>\n",
       "     </g>\n",
       "    </g>\n",
       "   </g>\n",
       "   <g id=\"text_3\">\n",
       "    <g clip-path=\"url(#pce3b14bf32)\">\n",
       "     <!-- $Y$ -->\n",
       "     <defs>\n",
       "      <path d=\"M 6.296875 72.90625 \n",
       "L 16.890625 72.90625 \n",
       "L 30.515625 42.921875 \n",
       "L 56.5 72.90625 \n",
       "L 67.578125 72.90625 \n",
       "L 34.515625 34.71875 \n",
       "L 27.78125 0 \n",
       "L 17.921875 0 \n",
       "L 24.609375 34.71875 \n",
       "z\n",
       "\" id=\"DejaVuSans-Oblique-89\"/>\n",
       "     </defs>\n",
       "     <g transform=\"translate(149.52222 92.598987)scale(0.13 -0.13)\">\n",
       "      <use transform=\"translate(0 0.09375)\" xlink:href=\"#DejaVuSans-Oblique-89\"/>\n",
       "     </g>\n",
       "    </g>\n",
       "   </g>\n",
       "   <g id=\"text_4\">\n",
       "    <g clip-path=\"url(#pce3b14bf32)\">\n",
       "     <!-- $Z$ -->\n",
       "     <defs>\n",
       "      <path d=\"M 13.09375 72.90625 \n",
       "L 70.3125 72.90625 \n",
       "L 68.890625 65.375 \n",
       "L 12.40625 8.296875 \n",
       "L 58.890625 8.296875 \n",
       "L 57.328125 0 \n",
       "L -2.203125 0 \n",
       "L -0.78125 7.515625 \n",
       "L 55.71875 64.59375 \n",
       "L 11.53125 64.59375 \n",
       "z\n",
       "\" id=\"DejaVuSans-Oblique-90\"/>\n",
       "     </defs>\n",
       "     <g transform=\"translate(149.06722 47.147987)scale(0.13 -0.13)\">\n",
       "      <use transform=\"translate(0 0.09375)\" xlink:href=\"#DejaVuSans-Oblique-90\"/>\n",
       "     </g>\n",
       "    </g>\n",
       "   </g>\n",
       "   <g id=\"text_5\">\n",
       "    <g clip-path=\"url(#pce3b14bf32)\">\n",
       "     <!-- ${q45}_{3}$ -->\n",
       "     <defs>\n",
       "      <path d=\"M 41.703125 8.203125 \n",
       "Q 38.09375 3.46875 33.171875 1.015625 \n",
       "Q 28.265625 -1.421875 22.3125 -1.421875 \n",
       "Q 14.015625 -1.421875 9.296875 4.171875 \n",
       "Q 4.59375 9.765625 4.59375 19.578125 \n",
       "Q 4.59375 27.484375 7.5 34.859375 \n",
       "Q 10.40625 42.234375 15.828125 48.09375 \n",
       "Q 19.34375 51.90625 23.90625 53.953125 \n",
       "Q 28.46875 56 33.5 56 \n",
       "Q 39.546875 56 43.453125 53.609375 \n",
       "Q 47.359375 51.21875 49.125 46.390625 \n",
       "L 50.6875 54.59375 \n",
       "L 59.71875 54.59375 \n",
       "L 45.125 -20.609375 \n",
       "L 36.078125 -20.609375 \n",
       "z\n",
       "M 13.921875 20.90625 \n",
       "Q 13.921875 13.671875 16.9375 9.890625 \n",
       "Q 19.96875 6.109375 25.6875 6.109375 \n",
       "Q 34.1875 6.109375 40.1875 14.234375 \n",
       "Q 46.1875 22.359375 46.1875 33.984375 \n",
       "Q 46.1875 41.015625 43.078125 44.75 \n",
       "Q 39.984375 48.484375 34.1875 48.484375 \n",
       "Q 29.9375 48.484375 26.3125 46.5 \n",
       "Q 22.703125 44.53125 20.015625 40.71875 \n",
       "Q 17.1875 36.71875 15.546875 31.34375 \n",
       "Q 13.921875 25.984375 13.921875 20.90625 \n",
       "z\n",
       "\" id=\"DejaVuSans-Oblique-113\"/>\n",
       "      <path d=\"M 37.796875 64.3125 \n",
       "L 12.890625 25.390625 \n",
       "L 37.796875 25.390625 \n",
       "z\n",
       "M 35.203125 72.90625 \n",
       "L 47.609375 72.90625 \n",
       "L 47.609375 25.390625 \n",
       "L 58.015625 25.390625 \n",
       "L 58.015625 17.1875 \n",
       "L 47.609375 17.1875 \n",
       "L 47.609375 0 \n",
       "L 37.796875 0 \n",
       "L 37.796875 17.1875 \n",
       "L 4.890625 17.1875 \n",
       "L 4.890625 26.703125 \n",
       "z\n",
       "\" id=\"DejaVuSans-52\"/>\n",
       "      <path d=\"M 10.796875 72.90625 \n",
       "L 49.515625 72.90625 \n",
       "L 49.515625 64.59375 \n",
       "L 19.828125 64.59375 \n",
       "L 19.828125 46.734375 \n",
       "Q 21.96875 47.46875 24.109375 47.828125 \n",
       "Q 26.265625 48.1875 28.421875 48.1875 \n",
       "Q 40.625 48.1875 47.75 41.5 \n",
       "Q 54.890625 34.8125 54.890625 23.390625 \n",
       "Q 54.890625 11.625 47.5625 5.09375 \n",
       "Q 40.234375 -1.421875 26.90625 -1.421875 \n",
       "Q 22.3125 -1.421875 17.546875 -0.640625 \n",
       "Q 12.796875 0.140625 7.71875 1.703125 \n",
       "L 7.71875 11.625 \n",
       "Q 12.109375 9.234375 16.796875 8.0625 \n",
       "Q 21.484375 6.890625 26.703125 6.890625 \n",
       "Q 35.15625 6.890625 40.078125 11.328125 \n",
       "Q 45.015625 15.765625 45.015625 23.390625 \n",
       "Q 45.015625 31 40.078125 35.4375 \n",
       "Q 35.15625 39.890625 26.703125 39.890625 \n",
       "Q 22.75 39.890625 18.8125 39.015625 \n",
       "Q 14.890625 38.140625 10.796875 36.28125 \n",
       "z\n",
       "\" id=\"DejaVuSans-53\"/>\n",
       "      <path d=\"M 40.578125 39.3125 \n",
       "Q 47.65625 37.796875 51.625 33 \n",
       "Q 55.609375 28.21875 55.609375 21.1875 \n",
       "Q 55.609375 10.40625 48.1875 4.484375 \n",
       "Q 40.765625 -1.421875 27.09375 -1.421875 \n",
       "Q 22.515625 -1.421875 17.65625 -0.515625 \n",
       "Q 12.796875 0.390625 7.625 2.203125 \n",
       "L 7.625 11.71875 \n",
       "Q 11.71875 9.328125 16.59375 8.109375 \n",
       "Q 21.484375 6.890625 26.8125 6.890625 \n",
       "Q 36.078125 6.890625 40.9375 10.546875 \n",
       "Q 45.796875 14.203125 45.796875 21.1875 \n",
       "Q 45.796875 27.640625 41.28125 31.265625 \n",
       "Q 36.765625 34.90625 28.71875 34.90625 \n",
       "L 20.21875 34.90625 \n",
       "L 20.21875 43.015625 \n",
       "L 29.109375 43.015625 \n",
       "Q 36.375 43.015625 40.234375 45.921875 \n",
       "Q 44.09375 48.828125 44.09375 54.296875 \n",
       "Q 44.09375 59.90625 40.109375 62.90625 \n",
       "Q 36.140625 65.921875 28.71875 65.921875 \n",
       "Q 24.65625 65.921875 20.015625 65.03125 \n",
       "Q 15.375 64.15625 9.8125 62.3125 \n",
       "L 9.8125 71.09375 \n",
       "Q 15.4375 72.65625 20.34375 73.4375 \n",
       "Q 25.25 74.21875 29.59375 74.21875 \n",
       "Q 40.828125 74.21875 47.359375 69.109375 \n",
       "Q 53.90625 64.015625 53.90625 55.328125 \n",
       "Q 53.90625 49.265625 50.4375 45.09375 \n",
       "Q 46.96875 40.921875 40.578125 39.3125 \n",
       "z\n",
       "\" id=\"DejaVuSans-51\"/>\n",
       "     </defs>\n",
       "     <g transform=\"translate(69.26372 48.011777)scale(0.1625 -0.1625)\">\n",
       "      <use transform=\"translate(0 0.09375)\" xlink:href=\"#DejaVuSans-Oblique-113\"/>\n",
       "      <use transform=\"translate(63.476562 0.09375)\" xlink:href=\"#DejaVuSans-52\"/>\n",
       "      <use transform=\"translate(127.099609 0.09375)\" xlink:href=\"#DejaVuSans-53\"/>\n",
       "      <use transform=\"translate(191.679688 -16.3125)scale(0.7)\" xlink:href=\"#DejaVuSans-51\"/>\n",
       "     </g>\n",
       "    </g>\n",
       "   </g>\n",
       "   <g id=\"text_6\">\n",
       "    <g clip-path=\"url(#pce3b14bf32)\">\n",
       "     <!-- ${q45}_{2}$ -->\n",
       "     <defs>\n",
       "      <path d=\"M 19.1875 8.296875 \n",
       "L 53.609375 8.296875 \n",
       "L 53.609375 0 \n",
       "L 7.328125 0 \n",
       "L 7.328125 8.296875 \n",
       "Q 12.9375 14.109375 22.625 23.890625 \n",
       "Q 32.328125 33.6875 34.8125 36.53125 \n",
       "Q 39.546875 41.84375 41.421875 45.53125 \n",
       "Q 43.3125 49.21875 43.3125 52.78125 \n",
       "Q 43.3125 58.59375 39.234375 62.25 \n",
       "Q 35.15625 65.921875 28.609375 65.921875 \n",
       "Q 23.96875 65.921875 18.8125 64.3125 \n",
       "Q 13.671875 62.703125 7.8125 59.421875 \n",
       "L 7.8125 69.390625 \n",
       "Q 13.765625 71.78125 18.9375 73 \n",
       "Q 24.125 74.21875 28.421875 74.21875 \n",
       "Q 39.75 74.21875 46.484375 68.546875 \n",
       "Q 53.21875 62.890625 53.21875 53.421875 \n",
       "Q 53.21875 48.921875 51.53125 44.890625 \n",
       "Q 49.859375 40.875 45.40625 35.40625 \n",
       "Q 44.1875 33.984375 37.640625 27.21875 \n",
       "Q 31.109375 20.453125 19.1875 8.296875 \n",
       "z\n",
       "\" id=\"DejaVuSans-50\"/>\n",
       "     </defs>\n",
       "     <g transform=\"translate(69.26372 93.462777)scale(0.1625 -0.1625)\">\n",
       "      <use transform=\"translate(0 0.09375)\" xlink:href=\"#DejaVuSans-Oblique-113\"/>\n",
       "      <use transform=\"translate(63.476562 0.09375)\" xlink:href=\"#DejaVuSans-52\"/>\n",
       "      <use transform=\"translate(127.099609 0.09375)\" xlink:href=\"#DejaVuSans-53\"/>\n",
       "      <use transform=\"translate(191.679688 -16.3125)scale(0.7)\" xlink:href=\"#DejaVuSans-50\"/>\n",
       "     </g>\n",
       "    </g>\n",
       "   </g>\n",
       "   <g id=\"text_7\">\n",
       "    <g clip-path=\"url(#pce3b14bf32)\">\n",
       "     <!-- ${q45}_{1}$ -->\n",
       "     <defs>\n",
       "      <path d=\"M 12.40625 8.296875 \n",
       "L 28.515625 8.296875 \n",
       "L 28.515625 63.921875 \n",
       "L 10.984375 60.40625 \n",
       "L 10.984375 69.390625 \n",
       "L 28.421875 72.90625 \n",
       "L 38.28125 72.90625 \n",
       "L 38.28125 8.296875 \n",
       "L 54.390625 8.296875 \n",
       "L 54.390625 0 \n",
       "L 12.40625 0 \n",
       "z\n",
       "\" id=\"DejaVuSans-49\"/>\n",
       "     </defs>\n",
       "     <g transform=\"translate(69.26372 138.913777)scale(0.1625 -0.1625)\">\n",
       "      <use transform=\"translate(0 0.09375)\" xlink:href=\"#DejaVuSans-Oblique-113\"/>\n",
       "      <use transform=\"translate(63.476562 0.09375)\" xlink:href=\"#DejaVuSans-52\"/>\n",
       "      <use transform=\"translate(127.099609 0.09375)\" xlink:href=\"#DejaVuSans-53\"/>\n",
       "      <use transform=\"translate(191.679688 -16.3125)scale(0.7)\" xlink:href=\"#DejaVuSans-49\"/>\n",
       "     </g>\n",
       "    </g>\n",
       "   </g>\n",
       "   <g id=\"text_8\">\n",
       "    <g clip-path=\"url(#pce3b14bf32)\">\n",
       "     <!-- ${q45}_{0}$ -->\n",
       "     <defs>\n",
       "      <path d=\"M 31.78125 66.40625 \n",
       "Q 24.171875 66.40625 20.328125 58.90625 \n",
       "Q 16.5 51.421875 16.5 36.375 \n",
       "Q 16.5 21.390625 20.328125 13.890625 \n",
       "Q 24.171875 6.390625 31.78125 6.390625 \n",
       "Q 39.453125 6.390625 43.28125 13.890625 \n",
       "Q 47.125 21.390625 47.125 36.375 \n",
       "Q 47.125 51.421875 43.28125 58.90625 \n",
       "Q 39.453125 66.40625 31.78125 66.40625 \n",
       "z\n",
       "M 31.78125 74.21875 \n",
       "Q 44.046875 74.21875 50.515625 64.515625 \n",
       "Q 56.984375 54.828125 56.984375 36.375 \n",
       "Q 56.984375 17.96875 50.515625 8.265625 \n",
       "Q 44.046875 -1.421875 31.78125 -1.421875 \n",
       "Q 19.53125 -1.421875 13.0625 8.265625 \n",
       "Q 6.59375 17.96875 6.59375 36.375 \n",
       "Q 6.59375 54.828125 13.0625 64.515625 \n",
       "Q 19.53125 74.21875 31.78125 74.21875 \n",
       "z\n",
       "\" id=\"DejaVuSans-48\"/>\n",
       "     </defs>\n",
       "     <g transform=\"translate(69.26372 184.364777)scale(0.1625 -0.1625)\">\n",
       "      <use transform=\"translate(0 0.09375)\" xlink:href=\"#DejaVuSans-Oblique-113\"/>\n",
       "      <use transform=\"translate(63.476562 0.09375)\" xlink:href=\"#DejaVuSans-52\"/>\n",
       "      <use transform=\"translate(127.099609 0.09375)\" xlink:href=\"#DejaVuSans-53\"/>\n",
       "      <use transform=\"translate(191.679688 -16.3125)scale(0.7)\" xlink:href=\"#DejaVuSans-48\"/>\n",
       "     </g>\n",
       "    </g>\n",
       "   </g>\n",
       "  </g>\n",
       " </g>\n",
       " <defs>\n",
       "  <clipPath id=\"pce3b14bf32\">\n",
       "   <rect height=\"199.9844\" width=\"196.34832\" x=\"7.2\" y=\"7.2\"/>\n",
       "  </clipPath>\n",
       " </defs>\n",
       "</svg>\n"
      ],
      "text/plain": [
       "<Figure size 260.064x264.88 with 1 Axes>"
      ]
     },
     "execution_count": 82,
     "metadata": {},
     "output_type": "execute_result"
    }
   ],
   "source": [
    "# we will draw them from most significant to least significant from top to bottom\n",
    "q = QuantumRegister(4) \n",
    "qc = QuantumCircuit(q) \n",
    "qc.h(0) \n",
    "qc.x(1) \n",
    "qc.y(2) \n",
    "qc.z(3) \n",
    "qc.draw(output='mpl', reverse_bits='true')"
   ]
  },
  {
   "cell_type": "markdown",
   "metadata": {
    "slideshow": {
     "slide_type": "slide"
    }
   },
   "source": [
    "## Composite gates\n",
    "\n",
    "* Consider two qubit registers $A,B$ with state $|\\phi\\rangle_A,|\\psi\\rangle_B$: the joint system is in the state $|\\phi\\rangle_A\\otimes|\\psi\\rangle_B$"
   ]
  },
  {
   "cell_type": "markdown",
   "metadata": {
    "slideshow": {
     "slide_type": "fragment"
    }
   },
   "source": [
    "* If we apply gate $U,V$ to qubits $A,B$, their states become $U|\\phi\\rangle_A,V|\\psi\\rangle_B$: the joint system becomes $\\left(U|\\phi\\rangle_A\\right)\\otimes\\left(V|\\psi\\rangle_B\\right)$"
   ]
  },
  {
   "cell_type": "markdown",
   "metadata": {
    "slideshow": {
     "slide_type": "fragment"
    }
   },
   "source": [
    "* The unitary that performs the mapping \n",
    "\n",
    "$$|\\phi\\rangle_A\\otimes|\\psi\\rangle_B\\mapsto \\left(U|\\phi\\rangle_A\\right)\\otimes\\left(V|\\psi\\rangle_B\\right)$$\n",
    "\n",
    "is \n",
    "\n",
    "$$U\\otimes V$$"
   ]
  },
  {
   "attachments": {},
   "cell_type": "markdown",
   "metadata": {
    "slideshow": {
     "slide_type": "slide"
    }
   },
   "source": [
    "## Example a general gate: CNOT\n",
    "\n",
    "Consider a gate with the following action and write the corresponding matrix"
   ]
  },
  {
   "cell_type": "markdown",
   "metadata": {
    "slideshow": {
     "slide_type": "-"
    }
   },
   "source": [
    "$$C_0(X):|b\\rangle|a\\rangle\\mapsto|a\\oplus b\\rangle|a\\rangle$$"
   ]
  },
  {
   "cell_type": "markdown",
   "metadata": {
    "slideshow": {
     "slide_type": "subslide"
    }
   },
   "source": [
    "* $|0\\rangle|0\\rangle\\mapsto|0\\oplus 0\\rangle|0\\rangle=|0\\rangle|0\\rangle$\n",
    "* $|0\\rangle|1\\rangle\\mapsto|1\\rangle|1\\rangle$\n",
    "* $|1\\rangle|0\\rangle\\mapsto|1\\rangle|0\\rangle$\n",
    "* $|1\\rangle|1\\rangle\\mapsto|0\\rangle|1\\rangle$"
   ]
  },
  {
   "cell_type": "markdown",
   "metadata": {
    "slideshow": {
     "slide_type": "subslide"
    }
   },
   "source": [
    "$$\\begin{matrix}\n",
    "|00\\rangle&|01\\rangle&|10\\rangle&|11\\rangle\\\\\n",
    "\\end{matrix}\\\\\n",
    "\\begin{pmatrix}\n",
    "\\,\\,\\,1\\,\\,\\,&\\,\\,\\,0\\,\\,\\,&\\,\\,\\,0\\,\\,\\,&\\,\\,\\,0\\,\\,\\,\\\\\n",
    "0&0&0&1\\\\\n",
    "0&0&1&0\\\\\n",
    "0&1&0&0\n",
    "\\end{pmatrix}$$"
   ]
  },
  {
   "cell_type": "markdown",
   "metadata": {
    "slideshow": {
     "slide_type": "slide"
    }
   },
   "source": [
    "## Qubit measurements for multiqubit states\n",
    "\n",
    "<div><img src=\"https://delkouss.github.io/qctutorial/genmeas.png\" width=700px></div>\n",
    "\n",
    "1. we find the qubit in state $|\\psi_0\\rangle|0\\rangle$, $|\\psi_0\\rangle|1\\rangle$ with prob $|\\alpha_0|^2$, $|\\alpha_1|^2$\n",
    "\n",
    "2. after the measurement the state is projected to the measurement outcome\n",
    "\n"
   ]
  },
  {
   "cell_type": "markdown",
   "metadata": {
    "slideshow": {
     "slide_type": "slide"
    }
   },
   "source": [
    "## Quantum SWAP\n",
    "\n",
    "Construct with **cnot gates** a gate that performs the following tranformation:\n",
    "* $|0\\rangle|0\\rangle\\mapsto|0\\rangle|0\\rangle$ \n",
    "* $|0\\rangle|1\\rangle\\mapsto|1\\rangle|0\\rangle$\n",
    "* $|1\\rangle|0\\rangle\\mapsto|0\\rangle|1\\rangle$\n",
    "* $|1\\rangle|1\\rangle\\mapsto|1\\rangle|1\\rangle$\n",
    "\n",
    "By linearity such a gate swaps the states of a two qubit register:  $|\\phi\\rangle|\\psi\\rangle\\mapsto|\\psi\\rangle|\\phi\\rangle$. "
   ]
  },
  {
   "cell_type": "code",
   "execution_count": 67,
   "metadata": {
    "slideshow": {
     "slide_type": "fragment"
    }
   },
   "outputs": [
    {
     "name": "stdout",
     "output_type": "stream",
     "text": [
      "the gate is different than swap\n",
      " [[1.+0.j 0.+0.j 0.+0.j 0.+0.j]\n",
      " [0.+0.j 1.+0.j 0.+0.j 0.+0.j]\n",
      " [0.+0.j 0.+0.j 0.+0.j 1.+0.j]\n",
      " [0.+0.j 0.+0.j 1.+0.j 0.+0.j]]\n"
     ]
    },
    {
     "ename": "AssertionError",
     "evalue": "None",
     "output_type": "error",
     "traceback": [
      "\u001b[0;31m-------------------------------------------------\u001b[0m",
      "\u001b[0;31mAssertionError\u001b[0m  Traceback (most recent call last)",
      "\u001b[0;32m<ipython-input-67-2c9927ee0381>\u001b[0m in \u001b[0;36m<module>\u001b[0;34m\u001b[0m\n\u001b[1;32m     13\u001b[0m \u001b[0munitary\u001b[0m \u001b[0;34m=\u001b[0m \u001b[0mjob\u001b[0m\u001b[0;34m.\u001b[0m\u001b[0mresult\u001b[0m\u001b[0;34m(\u001b[0m\u001b[0;34m)\u001b[0m\u001b[0;34m.\u001b[0m\u001b[0mget_unitary\u001b[0m\u001b[0;34m(\u001b[0m\u001b[0mqc\u001b[0m\u001b[0;34m,\u001b[0m \u001b[0mdecimals\u001b[0m\u001b[0;34m=\u001b[0m\u001b[0;36m8\u001b[0m\u001b[0;34m)\u001b[0m\u001b[0;34m\u001b[0m\u001b[0;34m\u001b[0m\u001b[0m\n\u001b[1;32m     14\u001b[0m \u001b[0;34m\u001b[0m\u001b[0m\n\u001b[0;32m---> 15\u001b[0;31m \u001b[0;32massert\u001b[0m \u001b[0mnp\u001b[0m\u001b[0;34m.\u001b[0m\u001b[0mabs\u001b[0m\u001b[0;34m(\u001b[0m\u001b[0mnp\u001b[0m\u001b[0;34m.\u001b[0m\u001b[0mtrace\u001b[0m\u001b[0;34m(\u001b[0m\u001b[0munitary\u001b[0m\u001b[0;34m)\u001b[0m \u001b[0;34m/\u001b[0m \u001b[0;36m4\u001b[0m\u001b[0;34m)\u001b[0m\u001b[0;34m**\u001b[0m\u001b[0;36m2\u001b[0m \u001b[0;34m>\u001b[0m \u001b[0;36m1\u001b[0m \u001b[0;34m-\u001b[0m \u001b[0mEPSILON\u001b[0m\u001b[0;34m,\u001b[0m \u001b[0mprint\u001b[0m\u001b[0;34m(\u001b[0m\u001b[0;34m\"the gate is different than swap\\n\"\u001b[0m\u001b[0;34m,\u001b[0m \u001b[0munitary\u001b[0m\u001b[0;34m)\u001b[0m\u001b[0;34m\u001b[0m\u001b[0;34m\u001b[0m\u001b[0m\n\u001b[0m\u001b[1;32m     16\u001b[0m \u001b[0mprint\u001b[0m\u001b[0;34m(\u001b[0m\u001b[0;34m\"Passed test\"\u001b[0m\u001b[0;34m)\u001b[0m\u001b[0;34m\u001b[0m\u001b[0;34m\u001b[0m\u001b[0m\n",
      "\u001b[0;31mAssertionError\u001b[0m: None"
     ]
    }
   ],
   "source": [
    "def exercise2():\n",
    "    qc = QuantumCircuit(2) \n",
    "    # construct a swap with one or several uses of:\n",
    "    qc.cx(0,1) \n",
    "    qc.cx(1,0) \n",
    "    return qc\n",
    "\n",
    "#### Test correctness\n",
    "qc = exercise2()\n",
    "qc.swap(qc.qubits[0],qc.qubits[1])\n",
    "job = execute(qc,backendUnitary)\n",
    "\n",
    "unitary = job.result().get_unitary(qc, decimals=8)\n",
    "\n",
    "assert np.abs(np.trace(unitary) / 4)**2 > 1 - EPSILON, print(\"the gate is different than swap\\n\", unitary)\n",
    "print(\"Passed test\")"
   ]
  },
  {
   "cell_type": "markdown",
   "metadata": {
    "slideshow": {
     "slide_type": "slide"
    }
   },
   "source": [
    "## SWAP\n",
    "\n",
    "Suppose that you have two integer variables $\\text{int}_2,\\text{int}_2$, how do you swap their values?"
   ]
  },
  {
   "cell_type": "code",
   "execution_count": 28,
   "metadata": {
    "slideshow": {
     "slide_type": "fragment"
    }
   },
   "outputs": [
    {
     "name": "stdout",
     "output_type": "stream",
     "text": [
      "23 65\n",
      "65 23\n"
     ]
    }
   ],
   "source": [
    "int1 = 23\n",
    "int2 = 65\n",
    "print(int1,int2)\n",
    "aux = int1\n",
    "int1 = int2\n",
    "int2 = aux\n",
    "print(int1,int2)"
   ]
  },
  {
   "cell_type": "markdown",
   "metadata": {
    "slideshow": {
     "slide_type": "subslide"
    }
   },
   "source": [
    "Can you swap the values *in place*? In place means without any auxiliary variable."
   ]
  },
  {
   "cell_type": "code",
   "execution_count": 93,
   "metadata": {
    "slideshow": {
     "slide_type": "fragment"
    }
   },
   "outputs": [
    {
     "name": "stdout",
     "output_type": "stream",
     "text": [
      "23 65\n",
      "65 23\n"
     ]
    }
   ],
   "source": [
    "int1 = 23\n",
    "int2 = 65\n",
    "print(int1,int2)\n",
    "int1 = int1 + int2 \n",
    "int2 = int1 - int2 # = int1 + int2 - int2 = int1\n",
    "int1 = int1 - int2 # = int1 + int2 - int1 = int2\n",
    "print(int1,int2)"
   ]
  },
  {
   "cell_type": "markdown",
   "metadata": {
    "slideshow": {
     "slide_type": "subslide"
    }
   },
   "source": [
    "How can we swap in place the values of two bits?"
   ]
  },
  {
   "cell_type": "markdown",
   "metadata": {
    "slideshow": {
     "slide_type": "fragment"
    }
   },
   "source": [
    "Let $a,b$ be two bit registers\n",
    "$$\\begin{align}\n",
    "a &= a\\oplus b \\\\\n",
    "b &= a\\oplus b \\\\\n",
    "a &= a\\oplus b\n",
    "\\end{align}\n",
    "$$"
   ]
  },
  {
   "cell_type": "markdown",
   "metadata": {
    "slideshow": {
     "slide_type": "slide"
    }
   },
   "source": [
    "# Encoding functions into unitaries"
   ]
  },
  {
   "cell_type": "markdown",
   "metadata": {
    "slideshow": {
     "slide_type": "slide"
    }
   },
   "source": [
    "## Boolean functions\n",
    "\n",
    "A Boolean function $f:\\{0,1\\}^n\\rightarrow\\{0,1\\}^m$ is a map from bit strings of length $n$ to bit strings of length $m$."
   ]
  },
  {
   "cell_type": "markdown",
   "metadata": {
    "slideshow": {
     "slide_type": "subslide"
    }
   },
   "source": [
    "## Example\n",
    "\n",
    "The NOT function is a function from one bit to one bit $\\text{NOT}:\\{0,1\\}\\rightarrow\\{0,1\\}$ defined by $\\text{NOT}(x)=x\\oplus 1$."
   ]
  },
  {
   "cell_type": "markdown",
   "metadata": {
    "cell_style": "split",
    "slideshow": {
     "slide_type": "-"
    }
   },
   "source": [
    "<table style=\"font-size:100%;width:80%;text-align=center\">\n",
    "  <tr>\n",
    "    <th>$x$</th>\n",
    "    <th>$\\text{NOT}(x)$</th>\n",
    "  </tr>\n",
    "  <tr>\n",
    "    <td>0</td>\n",
    "    <td>1</td>\n",
    "  </tr>\n",
    "  <tr>\n",
    "    <td>1</td>\n",
    "    <td>0</td>\n",
    "  </tr>    \n",
    "</table>"
   ]
  },
  {
   "cell_type": "markdown",
   "metadata": {
    "cell_style": "split",
    "slideshow": {
     "slide_type": "-"
    }
   },
   "source": [
    "<div><img src=https://delkouss.github.io/qctutorial/cnot.png></div>"
   ]
  },
  {
   "cell_type": "markdown",
   "metadata": {
    "slideshow": {
     "slide_type": "subslide"
    }
   },
   "source": [
    "## Example\n",
    "\n",
    "The RESET function is a function from one bit to one bit $\\text{RESET}:\\{0,1\\}\\rightarrow\\{0,1\\}$ defined by $\\text{RESET}(x)=0$."
   ]
  },
  {
   "cell_type": "markdown",
   "metadata": {
    "cell_style": "split",
    "slideshow": {
     "slide_type": "-"
    }
   },
   "source": [
    "<table style=\"font-size:100%;width:80%;text-align=center\">\n",
    "  <tr>\n",
    "    <th>$x$</th>\n",
    "    <th>$\\text{RESET}(x)$</th>\n",
    "  </tr>\n",
    "  <tr>\n",
    "    <td>0</td>\n",
    "    <td>0</td>\n",
    "  </tr>\n",
    "  <tr>\n",
    "    <td>1</td>\n",
    "    <td>0</td>\n",
    "  </tr>    \n",
    "</table>"
   ]
  },
  {
   "cell_type": "markdown",
   "metadata": {
    "slideshow": {
     "slide_type": "subslide"
    }
   },
   "source": [
    "## Example\n",
    "\n",
    "The AND function is a function from one bit to one bit $\\text{NOT}:\\{0,1\\}^2\\rightarrow\\{0,1\\}$ defined by $\\text{AND}(x_1,x_0)=x_1x_0$."
   ]
  },
  {
   "cell_type": "markdown",
   "metadata": {
    "cell_style": "split",
    "slideshow": {
     "slide_type": "-"
    }
   },
   "source": [
    "<table style=\"font-size:60%;width:100%;text-align=center\">\n",
    "  <tr>\n",
    "    <th>$x_1$</th>\n",
    "    <th>$x_0$</th>  \n",
    "    <th>$\\text{AND}(x_1,x_0)$</th>\n",
    "  </tr>\n",
    "  <tr>\n",
    "    <td>0</td>\n",
    "    <td>0</td>      \n",
    "    <td>0</td>\n",
    "  </tr>\n",
    "  <tr>\n",
    "    <td>0</td>\n",
    "    <td>1</td>      \n",
    "    <td>0</td>\n",
    "  </tr>\n",
    "  <tr>\n",
    "    <td>1</td>\n",
    "    <td>0</td>      \n",
    "    <td>0</td>\n",
    "  </tr>\n",
    "  <tr>\n",
    "    <td>1</td>\n",
    "    <td>1</td>      \n",
    "    <td>1</td>\n",
    "  </tr>\n",
    "</table>"
   ]
  },
  {
   "cell_type": "markdown",
   "metadata": {
    "cell_style": "split",
    "slideshow": {
     "slide_type": "-"
    }
   },
   "source": [
    "<div><img src=https://delkouss.github.io/qctutorial/and.png></div>"
   ]
  },
  {
   "cell_type": "markdown",
   "metadata": {
    "slideshow": {
     "slide_type": "slide"
    }
   },
   "source": [
    "## Encoding Boolean functions into unitaries\n",
    "\n",
    "Given $f:\\{0,1\\}^n\\rightarrow\\{0,1\\}^m$, we can embed it into a unitary $U_f$ acting on $n+m$ qubits such that:\n",
    "\n",
    "$$\n",
    "|y\\rangle|x\\rangle\\mapsto|y\\oplus f(x)\\rangle|x\\rangle\n",
    "$$\n",
    "\n",
    "where $x\\in\\{0,1\\}^n,y\\in\\{0,1\\}^m$"
   ]
  },
  {
   "cell_type": "markdown",
   "metadata": {
    "slideshow": {
     "slide_type": "fragment"
    }
   },
   "source": [
    "## Example: unitary for RESET\n",
    "\n",
    "* $\\text{RESET}(x)=0$\n",
    "* $U_\\text{RESET}:|y\\rangle|x\\rangle\\mapsto|y\\oplus 0\\rangle|x\\rangle$"
   ]
  },
  {
   "cell_type": "markdown",
   "metadata": {
    "slideshow": {
     "slide_type": "slide"
    }
   },
   "source": [
    "## Examples\n",
    "\n",
    "How many one bit Boolean functions exist?"
   ]
  },
  {
   "cell_type": "markdown",
   "metadata": {
    "slideshow": {
     "slide_type": "subslide"
    }
   },
   "source": [
    "Unbalanced functions\n",
    "* $U_{\\text{reset}}: |y\\rangle|x\\rangle\\mapsto|y\\rangle|x\\rangle$\n",
    "* $U_{\\text{set}}: |y\\rangle|x\\rangle\\mapsto|y\\oplus 1\\rangle|x\\rangle$"
   ]
  },
  {
   "cell_type": "markdown",
   "metadata": {
    "slideshow": {
     "slide_type": "subslide"
    }
   },
   "source": [
    "Balanced functions\n",
    "* $U_{\\text{identity}}: |y\\rangle|x\\rangle\\mapsto|y\\oplus x\\rangle|x\\rangle$\n",
    "* $U_{\\text{not}}: |y\\rangle|x\\rangle\\mapsto|y\\oplus x \\oplus 1\\rangle|x\\rangle$"
   ]
  },
  {
   "cell_type": "markdown",
   "metadata": {
    "slideshow": {
     "slide_type": "slide"
    }
   },
   "source": [
    "# Deutch's problem"
   ]
  },
  {
   "cell_type": "markdown",
   "metadata": {
    "slideshow": {
     "slide_type": "slide"
    }
   },
   "source": [
    "## Deutsch's problem (1985)"
   ]
  },
  {
   "cell_type": "markdown",
   "metadata": {
    "cell_style": "split",
    "slideshow": {
     "slide_type": "-"
    }
   },
   "source": [
    "Given an oracle (black-box) implementing, $f$, a one bit Boolean function determine if it is balanced or unbalanced."
   ]
  },
  {
   "cell_type": "markdown",
   "metadata": {
    "slideshow": {
     "slide_type": "slide"
    }
   },
   "source": [
    "## Classical version\n",
    "\n",
    "* The oracle is a classical machine implementing $f$\n",
    "\n",
    "* How many times do we need to query the oracle?"
   ]
  },
  {
   "cell_type": "markdown",
   "metadata": {
    "slideshow": {
     "slide_type": "slide"
    }
   },
   "source": [
    "## Quantum version\n",
    "\n",
    "* The oracle is a quantum machine implementing $U_f$\n",
    "* How many times do we need to query the oracle?"
   ]
  },
  {
   "cell_type": "markdown",
   "metadata": {
    "slideshow": {
     "slide_type": "slide"
    }
   },
   "source": [
    "## Deutsch's algorithm"
   ]
  },
  {
   "cell_type": "code",
   "execution_count": 83,
   "metadata": {},
   "outputs": [
    {
     "data": {
      "image/svg+xml": [
       "<?xml version=\"1.0\" encoding=\"utf-8\" standalone=\"no\"?>\n",
       "<!DOCTYPE svg PUBLIC \"-//W3C//DTD SVG 1.1//EN\"\n",
       "  \"http://www.w3.org/Graphics/SVG/1.1/DTD/svg11.dtd\">\n",
       "<!-- Created with matplotlib (https://matplotlib.org/) -->\n",
       "<svg height=\"168.9334pt\" version=\"1.1\" viewBox=\"0 0 665.25832 168.9334\" width=\"665.25832pt\" xmlns=\"http://www.w3.org/2000/svg\" xmlns:xlink=\"http://www.w3.org/1999/xlink\">\n",
       " <defs>\n",
       "  <style type=\"text/css\">\n",
       "*{stroke-linecap:butt;stroke-linejoin:round;}\n",
       "  </style>\n",
       " </defs>\n",
       " <g id=\"figure_1\">\n",
       "  <g id=\"patch_1\">\n",
       "   <path d=\"M -0 168.9334 \n",
       "L 665.25832 168.9334 \n",
       "L 665.25832 0 \n",
       "L -0 0 \n",
       "z\n",
       "\" style=\"fill:#ffffff;\"/>\n",
       "  </g>\n",
       "  <g id=\"axes_1\">\n",
       "   <g id=\"patch_2\">\n",
       "    <path clip-path=\"url(#p82f7c7d57d)\" d=\"M 602.15359 124.122698 \n",
       "L 613.97085 124.122698 \n",
       "L 608.06222 134.4628 \n",
       "z\n",
       "\" style=\"fill:#778899;\"/>\n",
       "   </g>\n",
       "   <g id=\"line2d_1\">\n",
       "    <path clip-path=\"url(#p82f7c7d57d)\" d=\"M 130.82672 43.5608 \n",
       "L 653.51322 43.5608 \n",
       "\" style=\"fill:none;stroke:#000000;stroke-linecap:square;stroke-width:2;\"/>\n",
       "   </g>\n",
       "   <g id=\"line2d_2\">\n",
       "    <path clip-path=\"url(#p82f7c7d57d)\" d=\"M 130.82672 89.0118 \n",
       "L 653.51322 89.0118 \n",
       "\" style=\"fill:none;stroke:#000000;stroke-linecap:square;stroke-width:2;\"/>\n",
       "   </g>\n",
       "   <g id=\"line2d_3\">\n",
       "    <path clip-path=\"url(#p82f7c7d57d)\" d=\"M 130.82672 132.985643 \n",
       "L 653.51322 132.985643 \n",
       "\" style=\"fill:none;stroke:#778899;stroke-linecap:square;stroke-width:2;\"/>\n",
       "   </g>\n",
       "   <g id=\"line2d_4\">\n",
       "    <path clip-path=\"url(#p82f7c7d57d)\" d=\"M 130.82672 135.939958 \n",
       "L 653.51322 135.939958 \n",
       "\" style=\"fill:none;stroke:#778899;stroke-linecap:square;stroke-width:2;\"/>\n",
       "   </g>\n",
       "   <g id=\"patch_3\">\n",
       "    <path clip-path=\"url(#p82f7c7d57d)\" d=\"M 235.591275 111.7373 \n",
       "L 253.317165 111.7373 \n",
       "L 253.317165 20.8353 \n",
       "L 235.591275 20.8353 \n",
       "z\n",
       "\" style=\"fill:#bdbdbd;opacity:0.6;\"/>\n",
       "   </g>\n",
       "   <g id=\"patch_4\">\n",
       "    <path clip-path=\"url(#p82f7c7d57d)\" d=\"M 326.493275 111.7373 \n",
       "L 344.219165 111.7373 \n",
       "L 344.219165 20.8353 \n",
       "L 326.493275 20.8353 \n",
       "z\n",
       "\" style=\"fill:#bdbdbd;opacity:0.6;\"/>\n",
       "   </g>\n",
       "   <g id=\"patch_5\">\n",
       "    <path clip-path=\"url(#p82f7c7d57d)\" d=\"M 462.846275 111.7373 \n",
       "L 480.572165 111.7373 \n",
       "L 480.572165 20.8353 \n",
       "L 462.846275 20.8353 \n",
       "z\n",
       "\" style=\"fill:#bdbdbd;opacity:0.6;\"/>\n",
       "   </g>\n",
       "   <g id=\"patch_6\">\n",
       "    <path clip-path=\"url(#p82f7c7d57d)\" d=\"M 553.748275 111.7373 \n",
       "L 571.474165 111.7373 \n",
       "L 571.474165 20.8353 \n",
       "L 553.748275 20.8353 \n",
       "z\n",
       "\" style=\"fill:#bdbdbd;opacity:0.6;\"/>\n",
       "   </g>\n",
       "   <g id=\"line2d_5\">\n",
       "    <path clip-path=\"url(#p82f7c7d57d)\" d=\"M 609.539378 43.5608 \n",
       "L 609.539378 124.122698 \n",
       "\" style=\"fill:none;stroke:#778899;stroke-linecap:square;stroke-width:2;\"/>\n",
       "   </g>\n",
       "   <g id=\"line2d_6\">\n",
       "    <path clip-path=\"url(#p82f7c7d57d)\" d=\"M 606.585062 43.5608 \n",
       "L 606.585062 124.122698 \n",
       "\" style=\"fill:none;stroke:#778899;stroke-linecap:square;stroke-width:2;\"/>\n",
       "   </g>\n",
       "   <g id=\"patch_7\">\n",
       "    <path clip-path=\"url(#p82f7c7d57d)\" d=\"M 138.780645 103.783375 \n",
       "L 168.323795 103.783375 \n",
       "L 168.323795 74.240225 \n",
       "L 138.780645 74.240225 \n",
       "z\n",
       "\" style=\"fill:#05bab6;\"/>\n",
       "   </g>\n",
       "   <g id=\"patch_8\">\n",
       "    <path clip-path=\"url(#p82f7c7d57d)\" d=\"M 184.231645 103.783375 \n",
       "L 213.774795 103.783375 \n",
       "L 213.774795 74.240225 \n",
       "L 184.231645 74.240225 \n",
       "z\n",
       "\" style=\"fill:#6fa4ff;\"/>\n",
       "   </g>\n",
       "   <g id=\"patch_9\">\n",
       "    <path clip-path=\"url(#p82f7c7d57d)\" d=\"M 275.133645 58.332375 \n",
       "L 304.676795 58.332375 \n",
       "L 304.676795 28.789225 \n",
       "L 275.133645 28.789225 \n",
       "z\n",
       "\" style=\"fill:#6fa4ff;\"/>\n",
       "   </g>\n",
       "   <g id=\"patch_10\">\n",
       "    <path clip-path=\"url(#p82f7c7d57d)\" d=\"M 366.603782 103.783375 \n",
       "L 440.461657 103.783375 \n",
       "L 440.461657 28.789225 \n",
       "L 366.603782 28.789225 \n",
       "z\n",
       "\" style=\"fill:#bb8bff;stroke:#bb8bff;stroke-linejoin:miter;stroke-width:1.5;\"/>\n",
       "   </g>\n",
       "   <g id=\"patch_11\">\n",
       "    <path clip-path=\"url(#p82f7c7d57d)\" d=\"M 502.388645 58.332375 \n",
       "L 531.931795 58.332375 \n",
       "L 531.931795 28.789225 \n",
       "L 502.388645 28.789225 \n",
       "z\n",
       "\" style=\"fill:#6fa4ff;\"/>\n",
       "   </g>\n",
       "   <g id=\"patch_12\">\n",
       "    <path clip-path=\"url(#p82f7c7d57d)\" d=\"M 593.290645 58.332375 \n",
       "L 622.833795 58.332375 \n",
       "L 622.833795 28.789225 \n",
       "L 593.290645 28.789225 \n",
       "z\n",
       "\"/>\n",
       "   </g>\n",
       "   <g id=\"patch_13\">\n",
       "    <path clip-path=\"url(#p82f7c7d57d)\" d=\"M 618.402322 47.992273 \n",
       "C 618.402322 45.250959 617.312178 42.619118 615.373777 40.680716 \n",
       "C 613.435375 38.742314 610.803534 37.65217 608.06222 37.65217 \n",
       "C 605.320906 37.65217 602.689065 38.742314 600.750663 40.680716 \n",
       "C 598.812262 42.619118 597.722117 45.250959 597.722117 47.992273 \n",
       "\" style=\"fill:none;stroke:#ffffff;stroke-linejoin:miter;stroke-width:2;\"/>\n",
       "   </g>\n",
       "   <g id=\"line2d_7\">\n",
       "    <path clip-path=\"url(#p82f7c7d57d)\" d=\"M 608.06222 47.992273 \n",
       "L 618.402322 37.65217 \n",
       "\" style=\"fill:none;stroke:#ffffff;stroke-linecap:square;stroke-width:2;\"/>\n",
       "   </g>\n",
       "   <g id=\"line2d_8\">\n",
       "    <path clip-path=\"url(#p82f7c7d57d)\" d=\"M 244.45422 66.2863 \n",
       "L 244.45422 111.7373 \n",
       "\" style=\"fill:none;stroke:#000000;stroke-dasharray:3.7,1.6;stroke-dashoffset:0;\"/>\n",
       "   </g>\n",
       "   <g id=\"line2d_9\">\n",
       "    <path clip-path=\"url(#p82f7c7d57d)\" d=\"M 244.45422 20.8353 \n",
       "L 244.45422 66.2863 \n",
       "\" style=\"fill:none;stroke:#000000;stroke-dasharray:3.7,1.6;stroke-dashoffset:0;\"/>\n",
       "   </g>\n",
       "   <g id=\"line2d_10\">\n",
       "    <path clip-path=\"url(#p82f7c7d57d)\" d=\"M 335.35622 66.2863 \n",
       "L 335.35622 111.7373 \n",
       "\" style=\"fill:none;stroke:#000000;stroke-dasharray:3.7,1.6;stroke-dashoffset:0;\"/>\n",
       "   </g>\n",
       "   <g id=\"line2d_11\">\n",
       "    <path clip-path=\"url(#p82f7c7d57d)\" d=\"M 335.35622 20.8353 \n",
       "L 335.35622 66.2863 \n",
       "\" style=\"fill:none;stroke:#000000;stroke-dasharray:3.7,1.6;stroke-dashoffset:0;\"/>\n",
       "   </g>\n",
       "   <g id=\"line2d_12\">\n",
       "    <path clip-path=\"url(#p82f7c7d57d)\" d=\"M 471.70922 66.2863 \n",
       "L 471.70922 111.7373 \n",
       "\" style=\"fill:none;stroke:#000000;stroke-dasharray:3.7,1.6;stroke-dashoffset:0;\"/>\n",
       "   </g>\n",
       "   <g id=\"line2d_13\">\n",
       "    <path clip-path=\"url(#p82f7c7d57d)\" d=\"M 471.70922 20.8353 \n",
       "L 471.70922 66.2863 \n",
       "\" style=\"fill:none;stroke:#000000;stroke-dasharray:3.7,1.6;stroke-dashoffset:0;\"/>\n",
       "   </g>\n",
       "   <g id=\"line2d_14\">\n",
       "    <path clip-path=\"url(#p82f7c7d57d)\" d=\"M 562.61122 66.2863 \n",
       "L 562.61122 111.7373 \n",
       "\" style=\"fill:none;stroke:#000000;stroke-dasharray:3.7,1.6;stroke-dashoffset:0;\"/>\n",
       "   </g>\n",
       "   <g id=\"line2d_15\">\n",
       "    <path clip-path=\"url(#p82f7c7d57d)\" d=\"M 562.61122 20.8353 \n",
       "L 562.61122 66.2863 \n",
       "\" style=\"fill:none;stroke:#000000;stroke-dasharray:3.7,1.6;stroke-dashoffset:0;\"/>\n",
       "   </g>\n",
       "   <g id=\"text_1\">\n",
       "    <g clip-path=\"url(#p82f7c7d57d)\">\n",
       "     <!-- $X$ -->\n",
       "     <defs>\n",
       "      <path d=\"M 13.71875 72.90625 \n",
       "L 23.6875 72.90625 \n",
       "L 36.1875 46.578125 \n",
       "L 58.796875 72.90625 \n",
       "L 70.3125 72.90625 \n",
       "L 40.28125 38.09375 \n",
       "L 58.40625 0 \n",
       "L 48.484375 0 \n",
       "L 33.796875 30.71875 \n",
       "L 7.171875 0 \n",
       "L -4.296875 0 \n",
       "L 29.78125 39.203125 \n",
       "z\n",
       "\" id=\"DejaVuSans-Oblique-88\"/>\n",
       "     </defs>\n",
       "     <g transform=\"translate(149.06722 92.598988)scale(0.13 -0.13)\">\n",
       "      <use transform=\"translate(0 0.09375)\" xlink:href=\"#DejaVuSans-Oblique-88\"/>\n",
       "     </g>\n",
       "    </g>\n",
       "   </g>\n",
       "   <g id=\"text_2\">\n",
       "    <g clip-path=\"url(#p82f7c7d57d)\">\n",
       "     <!-- $H$ -->\n",
       "     <defs>\n",
       "      <path d=\"M 16.890625 72.90625 \n",
       "L 26.8125 72.90625 \n",
       "L 21 43.015625 \n",
       "L 56.78125 43.015625 \n",
       "L 62.59375 72.90625 \n",
       "L 72.515625 72.90625 \n",
       "L 58.296875 0 \n",
       "L 48.390625 0 \n",
       "L 55.171875 34.71875 \n",
       "L 19.390625 34.71875 \n",
       "L 12.59375 0 \n",
       "L 2.6875 0 \n",
       "z\n",
       "\" id=\"DejaVuSans-Oblique-72\"/>\n",
       "     </defs>\n",
       "     <g transform=\"translate(194.06322 92.598988)scale(0.13 -0.13)\">\n",
       "      <use transform=\"translate(0 0.09375)\" xlink:href=\"#DejaVuSans-Oblique-72\"/>\n",
       "     </g>\n",
       "    </g>\n",
       "   </g>\n",
       "   <g id=\"text_3\">\n",
       "    <g clip-path=\"url(#p82f7c7d57d)\">\n",
       "     <!-- $H$ -->\n",
       "     <g transform=\"translate(284.96522 47.147988)scale(0.13 -0.13)\">\n",
       "      <use transform=\"translate(0 0.09375)\" xlink:href=\"#DejaVuSans-Oblique-72\"/>\n",
       "     </g>\n",
       "    </g>\n",
       "   </g>\n",
       "   <g id=\"text_4\">\n",
       "    <g clip-path=\"url(#p82f7c7d57d)\">\n",
       "     <!-- 0 -->\n",
       "     <defs>\n",
       "      <path d=\"M 31.78125 66.40625 \n",
       "Q 24.171875 66.40625 20.328125 58.90625 \n",
       "Q 16.5 51.421875 16.5 36.375 \n",
       "Q 16.5 21.390625 20.328125 13.890625 \n",
       "Q 24.171875 6.390625 31.78125 6.390625 \n",
       "Q 39.453125 6.390625 43.28125 13.890625 \n",
       "Q 47.125 21.390625 47.125 36.375 \n",
       "Q 47.125 51.421875 43.28125 58.90625 \n",
       "Q 39.453125 66.40625 31.78125 66.40625 \n",
       "z\n",
       "M 31.78125 74.21875 \n",
       "Q 44.046875 74.21875 50.515625 64.515625 \n",
       "Q 56.984375 54.828125 56.984375 36.375 \n",
       "Q 56.984375 17.96875 50.515625 8.265625 \n",
       "Q 44.046875 -1.421875 31.78125 -1.421875 \n",
       "Q 19.53125 -1.421875 13.0625 8.265625 \n",
       "Q 6.59375 17.96875 6.59375 36.375 \n",
       "Q 6.59375 54.828125 13.0625 64.515625 \n",
       "Q 19.53125 74.21875 31.78125 74.21875 \n",
       "z\n",
       "\" id=\"DejaVuSans-48\"/>\n",
       "     </defs>\n",
       "     <g transform=\"translate(370.296676 92.598988)scale(0.13 -0.13)\">\n",
       "      <use xlink:href=\"#DejaVuSans-48\"/>\n",
       "     </g>\n",
       "    </g>\n",
       "   </g>\n",
       "   <g id=\"text_5\">\n",
       "    <g clip-path=\"url(#p82f7c7d57d)\">\n",
       "     <!-- 1 -->\n",
       "     <defs>\n",
       "      <path d=\"M 12.40625 8.296875 \n",
       "L 28.515625 8.296875 \n",
       "L 28.515625 63.921875 \n",
       "L 10.984375 60.40625 \n",
       "L 10.984375 69.390625 \n",
       "L 28.421875 72.90625 \n",
       "L 38.28125 72.90625 \n",
       "L 38.28125 8.296875 \n",
       "L 54.390625 8.296875 \n",
       "L 54.390625 0 \n",
       "L 12.40625 0 \n",
       "z\n",
       "\" id=\"DejaVuSans-49\"/>\n",
       "     </defs>\n",
       "     <g transform=\"translate(370.296676 47.147988)scale(0.13 -0.13)\">\n",
       "      <use xlink:href=\"#DejaVuSans-49\"/>\n",
       "     </g>\n",
       "    </g>\n",
       "   </g>\n",
       "   <g id=\"text_6\">\n",
       "    <g clip-path=\"url(#p82f7c7d57d)\">\n",
       "     <!-- $U_f$ -->\n",
       "     <defs>\n",
       "      <path d=\"M 15.484375 72.90625 \n",
       "L 25.390625 72.90625 \n",
       "L 16.796875 28.609375 \n",
       "Q 16.265625 25.640625 16.046875 23.703125 \n",
       "Q 15.828125 21.78125 15.828125 20.3125 \n",
       "Q 15.828125 13.578125 19.578125 10.078125 \n",
       "Q 23.34375 6.59375 30.609375 6.59375 \n",
       "Q 40.046875 6.59375 45.28125 11.765625 \n",
       "Q 50.53125 16.9375 52.78125 28.609375 \n",
       "L 61.375 72.90625 \n",
       "L 71.296875 72.90625 \n",
       "L 62.5 27.390625 \n",
       "Q 59.625 12.640625 51.5625 5.609375 \n",
       "Q 43.5 -1.421875 29.5 -1.421875 \n",
       "Q 18.5625 -1.421875 12.1875 4.078125 \n",
       "Q 5.8125 9.578125 5.8125 19 \n",
       "Q 5.8125 20.703125 6.046875 22.828125 \n",
       "Q 6.296875 24.953125 6.78125 27.390625 \n",
       "z\n",
       "\" id=\"DejaVuSans-Oblique-85\"/>\n",
       "      <path d=\"M 47.796875 75.984375 \n",
       "L 46.390625 68.5 \n",
       "L 37.796875 68.5 \n",
       "Q 32.90625 68.5 30.6875 66.578125 \n",
       "Q 28.46875 64.65625 27.390625 59.515625 \n",
       "L 26.421875 54.6875 \n",
       "L 41.21875 54.6875 \n",
       "L 39.890625 47.703125 \n",
       "L 25.09375 47.703125 \n",
       "L 15.828125 0 \n",
       "L 6.78125 0 \n",
       "L 16.109375 47.703125 \n",
       "L 7.515625 47.703125 \n",
       "L 8.796875 54.6875 \n",
       "L 17.390625 54.6875 \n",
       "L 18.109375 58.5 \n",
       "Q 19.96875 68.171875 24.625 72.078125 \n",
       "Q 29.296875 75.984375 39.3125 75.984375 \n",
       "z\n",
       "\" id=\"DejaVuSans-Oblique-102\"/>\n",
       "     </defs>\n",
       "     <g transform=\"translate(396.96772 69.873488)scale(0.13 -0.13)\">\n",
       "      <use transform=\"translate(0 0.09375)\" xlink:href=\"#DejaVuSans-Oblique-85\"/>\n",
       "      <use transform=\"translate(73.193359 -16.3125)scale(0.7)\" xlink:href=\"#DejaVuSans-Oblique-102\"/>\n",
       "     </g>\n",
       "    </g>\n",
       "   </g>\n",
       "   <g id=\"text_7\">\n",
       "    <g clip-path=\"url(#p82f7c7d57d)\">\n",
       "     <!-- $H$ -->\n",
       "     <g transform=\"translate(512.22022 47.147988)scale(0.13 -0.13)\">\n",
       "      <use transform=\"translate(0 0.09375)\" xlink:href=\"#DejaVuSans-Oblique-72\"/>\n",
       "     </g>\n",
       "    </g>\n",
       "   </g>\n",
       "   <g id=\"text_8\">\n",
       "    <g clip-path=\"url(#p82f7c7d57d)\">\n",
       "     <!-- 0 -->\n",
       "     <g transform=\"translate(619.42497 127.754825)scale(0.104 -0.104)\">\n",
       "      <use xlink:href=\"#DejaVuSans-48\"/>\n",
       "     </g>\n",
       "    </g>\n",
       "   </g>\n",
       "   <g id=\"text_9\">\n",
       "    <g clip-path=\"url(#p82f7c7d57d)\">\n",
       "     <!-- ${q46}_{1}$ -->\n",
       "     <defs>\n",
       "      <path d=\"M 41.703125 8.203125 \n",
       "Q 38.09375 3.46875 33.171875 1.015625 \n",
       "Q 28.265625 -1.421875 22.3125 -1.421875 \n",
       "Q 14.015625 -1.421875 9.296875 4.171875 \n",
       "Q 4.59375 9.765625 4.59375 19.578125 \n",
       "Q 4.59375 27.484375 7.5 34.859375 \n",
       "Q 10.40625 42.234375 15.828125 48.09375 \n",
       "Q 19.34375 51.90625 23.90625 53.953125 \n",
       "Q 28.46875 56 33.5 56 \n",
       "Q 39.546875 56 43.453125 53.609375 \n",
       "Q 47.359375 51.21875 49.125 46.390625 \n",
       "L 50.6875 54.59375 \n",
       "L 59.71875 54.59375 \n",
       "L 45.125 -20.609375 \n",
       "L 36.078125 -20.609375 \n",
       "z\n",
       "M 13.921875 20.90625 \n",
       "Q 13.921875 13.671875 16.9375 9.890625 \n",
       "Q 19.96875 6.109375 25.6875 6.109375 \n",
       "Q 34.1875 6.109375 40.1875 14.234375 \n",
       "Q 46.1875 22.359375 46.1875 33.984375 \n",
       "Q 46.1875 41.015625 43.078125 44.75 \n",
       "Q 39.984375 48.484375 34.1875 48.484375 \n",
       "Q 29.9375 48.484375 26.3125 46.5 \n",
       "Q 22.703125 44.53125 20.015625 40.71875 \n",
       "Q 17.1875 36.71875 15.546875 31.34375 \n",
       "Q 13.921875 25.984375 13.921875 20.90625 \n",
       "z\n",
       "\" id=\"DejaVuSans-Oblique-113\"/>\n",
       "      <path d=\"M 37.796875 64.3125 \n",
       "L 12.890625 25.390625 \n",
       "L 37.796875 25.390625 \n",
       "z\n",
       "M 35.203125 72.90625 \n",
       "L 47.609375 72.90625 \n",
       "L 47.609375 25.390625 \n",
       "L 58.015625 25.390625 \n",
       "L 58.015625 17.1875 \n",
       "L 47.609375 17.1875 \n",
       "L 47.609375 0 \n",
       "L 37.796875 0 \n",
       "L 37.796875 17.1875 \n",
       "L 4.890625 17.1875 \n",
       "L 4.890625 26.703125 \n",
       "z\n",
       "\" id=\"DejaVuSans-52\"/>\n",
       "      <path d=\"M 33.015625 40.375 \n",
       "Q 26.375 40.375 22.484375 35.828125 \n",
       "Q 18.609375 31.296875 18.609375 23.390625 \n",
       "Q 18.609375 15.53125 22.484375 10.953125 \n",
       "Q 26.375 6.390625 33.015625 6.390625 \n",
       "Q 39.65625 6.390625 43.53125 10.953125 \n",
       "Q 47.40625 15.53125 47.40625 23.390625 \n",
       "Q 47.40625 31.296875 43.53125 35.828125 \n",
       "Q 39.65625 40.375 33.015625 40.375 \n",
       "z\n",
       "M 52.59375 71.296875 \n",
       "L 52.59375 62.3125 \n",
       "Q 48.875 64.0625 45.09375 64.984375 \n",
       "Q 41.3125 65.921875 37.59375 65.921875 \n",
       "Q 27.828125 65.921875 22.671875 59.328125 \n",
       "Q 17.53125 52.734375 16.796875 39.40625 \n",
       "Q 19.671875 43.65625 24.015625 45.921875 \n",
       "Q 28.375 48.1875 33.59375 48.1875 \n",
       "Q 44.578125 48.1875 50.953125 41.515625 \n",
       "Q 57.328125 34.859375 57.328125 23.390625 \n",
       "Q 57.328125 12.15625 50.6875 5.359375 \n",
       "Q 44.046875 -1.421875 33.015625 -1.421875 \n",
       "Q 20.359375 -1.421875 13.671875 8.265625 \n",
       "Q 6.984375 17.96875 6.984375 36.375 \n",
       "Q 6.984375 53.65625 15.1875 63.9375 \n",
       "Q 23.390625 74.21875 37.203125 74.21875 \n",
       "Q 40.921875 74.21875 44.703125 73.484375 \n",
       "Q 48.484375 72.75 52.59375 71.296875 \n",
       "z\n",
       "\" id=\"DejaVuSans-54\"/>\n",
       "     </defs>\n",
       "     <g transform=\"translate(69.26372 48.011777)scale(0.1625 -0.1625)\">\n",
       "      <use transform=\"translate(0 0.78125)\" xlink:href=\"#DejaVuSans-Oblique-113\"/>\n",
       "      <use transform=\"translate(63.476562 0.78125)\" xlink:href=\"#DejaVuSans-52\"/>\n",
       "      <use transform=\"translate(127.099609 0.78125)\" xlink:href=\"#DejaVuSans-54\"/>\n",
       "      <use transform=\"translate(191.679688 -15.625)scale(0.7)\" xlink:href=\"#DejaVuSans-49\"/>\n",
       "     </g>\n",
       "    </g>\n",
       "   </g>\n",
       "   <g id=\"text_10\">\n",
       "    <g clip-path=\"url(#p82f7c7d57d)\">\n",
       "     <!-- ${q46}_{0}$ -->\n",
       "     <g transform=\"translate(69.26372 93.462777)scale(0.1625 -0.1625)\">\n",
       "      <use transform=\"translate(0 0.78125)\" xlink:href=\"#DejaVuSans-Oblique-113\"/>\n",
       "      <use transform=\"translate(63.476562 0.78125)\" xlink:href=\"#DejaVuSans-52\"/>\n",
       "      <use transform=\"translate(127.099609 0.78125)\" xlink:href=\"#DejaVuSans-54\"/>\n",
       "      <use transform=\"translate(191.679688 -15.625)scale(0.7)\" xlink:href=\"#DejaVuSans-48\"/>\n",
       "     </g>\n",
       "    </g>\n",
       "   </g>\n",
       "   <g id=\"text_11\">\n",
       "    <g clip-path=\"url(#p82f7c7d57d)\">\n",
       "     <!-- $c10$ -->\n",
       "     <defs>\n",
       "      <path d=\"M 53.609375 52.59375 \n",
       "L 51.8125 43.703125 \n",
       "Q 48.578125 46.046875 44.9375 47.21875 \n",
       "Q 41.3125 48.390625 37.40625 48.390625 \n",
       "Q 33.109375 48.390625 29.21875 46.875 \n",
       "Q 25.34375 45.359375 22.703125 42.578125 \n",
       "Q 18.5 38.328125 16.203125 32.609375 \n",
       "Q 13.921875 26.90625 13.921875 20.796875 \n",
       "Q 13.921875 13.421875 17.609375 9.8125 \n",
       "Q 21.296875 6.203125 28.8125 6.203125 \n",
       "Q 32.515625 6.203125 36.6875 7.328125 \n",
       "Q 40.875 8.453125 45.40625 10.6875 \n",
       "L 43.703125 1.8125 \n",
       "Q 39.796875 0.203125 35.671875 -0.609375 \n",
       "Q 31.546875 -1.421875 27.203125 -1.421875 \n",
       "Q 16.3125 -1.421875 10.453125 4.015625 \n",
       "Q 4.59375 9.46875 4.59375 19.578125 \n",
       "Q 4.59375 28.078125 7.640625 35.234375 \n",
       "Q 10.6875 42.390625 16.703125 48.09375 \n",
       "Q 20.796875 52 26.3125 54 \n",
       "Q 31.84375 56 38.375 56 \n",
       "Q 42.1875 56 45.9375 55.140625 \n",
       "Q 49.703125 54.296875 53.609375 52.59375 \n",
       "z\n",
       "\" id=\"DejaVuSans-Oblique-99\"/>\n",
       "     </defs>\n",
       "     <g transform=\"translate(72.41622 139.843581)scale(0.195 -0.195)\">\n",
       "      <use transform=\"translate(0 0.78125)\" xlink:href=\"#DejaVuSans-Oblique-99\"/>\n",
       "      <use transform=\"translate(54.980469 0.78125)\" xlink:href=\"#DejaVuSans-49\"/>\n",
       "      <use transform=\"translate(118.603516 0.78125)\" xlink:href=\"#DejaVuSans-48\"/>\n",
       "     </g>\n",
       "    </g>\n",
       "   </g>\n",
       "  </g>\n",
       " </g>\n",
       " <defs>\n",
       "  <clipPath id=\"p82f7c7d57d\">\n",
       "   <rect height=\"154.5334\" width=\"650.85832\" x=\"7.2\" y=\"7.2\"/>\n",
       "  </clipPath>\n",
       " </defs>\n",
       "</svg>\n"
      ],
      "text/plain": [
       "<Figure size 862.064x204.68 with 1 Axes>"
      ]
     },
     "execution_count": 83,
     "metadata": {},
     "output_type": "execute_result"
    }
   ],
   "source": [
    "q = QuantumRegister(2)\n",
    "c = ClassicalRegister(1)\n",
    "qc = QuantumCircuit(q,c) \n",
    "\n",
    "qc.x(q[0])\n",
    "qc.h(q[0])\n",
    "\n",
    "qc.barrier()\n",
    "qc.h(q[1]) \n",
    "qc.barrier()\n",
    "g = Gate(name='$U_f$', num_qubits=2, params=[])\n",
    "qc.append(g, [qc.qregs[0][0],qc.qregs[0][1]])\n",
    "qc.barrier()\n",
    "qc.h(q[1]) \n",
    "qc.barrier()\n",
    "qc.measure(q[1],c[0])\n",
    "\n",
    "qc.draw(output='mpl', reverse_bits=\"true\")"
   ]
  },
  {
   "cell_type": "markdown",
   "metadata": {
    "slideshow": {
     "slide_type": "slide"
    }
   },
   "source": [
    "1. Prepare two quantum registers: $\\vert0\\rangle\\vert-\\rangle$  \n",
    "2. Apply a Hadamard gate to top qubit:\n",
    "$$\\begin{align}\n",
    "H\\otimes I\\vert0\\rangle\\vert-\\rangle&=\\frac{1}{\\sqrt 2}\\left(\\vert0\\rangle+\\vert1\\rangle\\right)\\vert-\\rangle\\\\\n",
    "&=\\frac{1}{\\sqrt2}\\sum_{x\\in\\{0,1\\}}|x\\rangle\\vert-\\rangle%\\\\\n",
    "%&=\\frac{1}{2}\\sum_{x\\in\\{0,1\\}}|x\\rangle(\\vert0\\rangle-\\vert1\\rangle)\n",
    "\\end{align}$$"
   ]
  },
  {
   "cell_type": "markdown",
   "metadata": {
    "slideshow": {
     "slide_type": "slide"
    }
   },
   "source": [
    "3. Apply the quantum oracle:\n",
    "$$\\begin{align}U_f\\vert x\\rangle\\vert-\\rangle&=\\frac{1}{\\sqrt 2}(U_f\\vert x\\rangle\\vert0\\rangle-U_f\\vert x\\rangle\\vert1\\rangle)\\\\\n",
    "&=\\frac{1}{\\sqrt 2}(\\vert x\\rangle\\vert f(x)\\rangle-\\vert x\\rangle\\vert1\\oplus f(x)\\rangle)\\end{align}$$\n",
    "\n",
    "\n",
    "Now let us particularize for $f(x)=0,f(x)=1$:\n",
    "    $$\\begin{align}\n",
    "    f(x)=0\\qquad&|x\\rangle\\left(|0\\rangle-|1\\rangle\\right)\\\\\n",
    "    f(x)=1\\qquad&|x\\rangle\\left(|1\\rangle-|0\\rangle\\right)\n",
    "    \\end{align}\n",
    "    =(-1)^{f(x)}|x\\rangle|-\\rangle$$\n",
    "    \n",
    "**this is called phase kick back**\n",
    "$$%\\begin{align}\n",
    "%U_f&\\frac{1}{2}\\sum_{x\\in\\{0,1\\}}\\left(|0\\rangle-|1\\rangle\\right)|x\\rangle\\\\\n",
    "%&= \\frac{1}{2}\\sum_{x\\in\\{0,1\\}}\\left(|f(x)\\rangle-|1\\oplus f(x)\\rangle\\right)|x\\rangle\n",
    "%\\end{align}$$"
   ]
  },
  {
   "cell_type": "markdown",
   "metadata": {
    "slideshow": {
     "slide_type": "slide"
    }
   },
   "source": [
    "and take this derivation back to the state resulting from the application of the oracle\n",
    "    $$\\begin{align}\n",
    "    &=\\frac{1}{\\sqrt2}\\sum_{x\\in\\{0,1\\}}(-1)^{f(x)}|x\\rangle|-\\rangle\n",
    "    \\end{align}$$\n",
    "which becomes:\n",
    "<ol>\n",
    "<li> for balanced functions ($f(0)=f(1)\\oplus 1$): $\\pm|-\\rangle|-\\rangle$</li>\n",
    "<li> for unbalanced functions ($f(0)=f(1)$): $\\pm|+\\rangle|-\\rangle$</li>\n",
    "</ol>"
   ]
  },
  {
   "cell_type": "markdown",
   "metadata": {
    "slideshow": {
     "slide_type": "slide"
    }
   },
   "source": [
    "5. The action of the final Hadamard is:\n",
    "<ol>\n",
    "<li> for balanced functions: $|1\\rangle|-\\rangle$</li>\n",
    "<li> for unbalanced functions: $|0\\rangle|-\\rangle$</li>\n",
    "</ol>\n"
   ]
  },
  {
   "cell_type": "markdown",
   "metadata": {
    "slideshow": {
     "slide_type": "slide"
    }
   },
   "source": [
    "## Recap\n",
    "\n",
    "* Classic version requires two calls to the oracle\n",
    "* Quantum version requires a single call to the oracle"
   ]
  },
  {
   "cell_type": "code",
   "execution_count": 79,
   "metadata": {},
   "outputs": [
    {
     "name": "stdout",
     "output_type": "stream",
     "text": [
      "{'0': 8192}\n"
     ]
    }
   ],
   "source": [
    "q = QuantumRegister(2)\n",
    "c = ClassicalRegister(1)\n",
    "qc = QuantumCircuit(q,c) \n",
    "\n",
    "qc.x(q[0])\n",
    "qc.h(q[0])\n",
    "\n",
    "qc.barrier()\n",
    "qc.h(q[1]) \n",
    "qc.barrier()\n",
    "# unitary implementing balanced or unbalanced function\n",
    "pass\n",
    "qc.barrier()\n",
    "qc.h(q[1]) \n",
    "qc.barrier()\n",
    "qc.measure(q[1],c[0])\n",
    "\n",
    "\n",
    "job = execute(qc, backendQASM, shots=8192 )\n",
    "hist = job.result().get_counts()\n",
    "print(hist)"
   ]
  },
  {
   "cell_type": "markdown",
   "metadata": {
    "slideshow": {
     "slide_type": "slide"
    }
   },
   "source": [
    "## Creating arbitrary superpositions\n",
    "\n",
    "* Notation: $|0\\rangle^{\\otimes 2}=|0\\rangle|0\\rangle$\n",
    "* Construct a circuit that takes $|0\\rangle$ to $\\frac{1}{\\sqrt2}(|0\\rangle+ |1\\rangle)$ \n",
    "* Construct a circuit that takes $|0\\rangle^{\\otimes 2}$ to $\\frac{1}{2}(|00\\rangle+ |01\\rangle+|10\\rangle+ |11\\rangle)$ \n",
    "* Construct a circuit that takes $|0\\rangle^{\\otimes n}$ to $\\sum_{x\\in\\{0,1\\}^n}2^{-n/2}|x\\rangle$ "
   ]
  },
  {
   "cell_type": "markdown",
   "metadata": {
    "slideshow": {
     "slide_type": "slide"
    }
   },
   "source": [
    "## Quantum parallelism\n",
    "\n",
    "<div><img src=\"https://delkouss.github.io/qctutorial/parallelism.png\" width=800px></div>"
   ]
  },
  {
   "cell_type": "markdown",
   "metadata": {
    "slideshow": {
     "slide_type": "slide"
    }
   },
   "source": [
    "## The Hadamard transform\n",
    "\n",
    "Consider $x\\in\\{0,1\\}^n$. What is the result of $H^{\\otimes n}|x\\rangle$?"
   ]
  },
  {
   "cell_type": "markdown",
   "metadata": {
    "slideshow": {
     "slide_type": "fragment"
    }
   },
   "source": [
    "$$H^{\\otimes n}|x\\rangle=\\sum_{y\\in\\{0,1\\}^n}(-1)^{yx}|y\\rangle$$"
   ]
  },
  {
   "cell_type": "markdown",
   "metadata": {
    "slideshow": {
     "slide_type": "slide"
    }
   },
   "source": [
    "## General structure of quantum algorithms\n",
    "\n",
    "1.  Initialize the qubits\n",
    "2. Create superposition\n",
    "3. Evaluate an interesting Boolean function encoded in a unitary\n",
    "4. Do some smart processing\n",
    "5. Measure everything"
   ]
  },
  {
   "cell_type": "markdown",
   "metadata": {
    "slideshow": {
     "slide_type": "subslide"
    }
   },
   "source": [
    "<div><img src=https://delkouss.github.io/qctutorial/genstructure.png></div>"
   ]
  },
  {
   "cell_type": "markdown",
   "metadata": {
    "slideshow": {
     "slide_type": "slide"
    }
   },
   "source": [
    "# Simon's Problem (1994)"
   ]
  },
  {
   "cell_type": "markdown",
   "metadata": {
    "cell_style": "split",
    "slideshow": {
     "slide_type": "-"
    }
   },
   "source": [
    "<small>Let $f:\\{0,1\\}^n\\rightarrow\\{0,1\\}^n$ such that for $x,y\\in\\{0,1\\}^n$ with $x\\neq y$:\n",
    "$f(x)=f(y)$ if and only if $y=x\\oplus s$\n",
    "for some unknown $s\\neq 0$. </small>"
   ]
  },
  {
   "cell_type": "markdown",
   "metadata": {
    "cell_style": "center",
    "slideshow": {
     "slide_type": "-"
    }
   },
   "source": [
    "**Problem:** Given an oracle implementation of $f$ find $s$."
   ]
  },
  {
   "cell_type": "markdown",
   "metadata": {
    "cell_style": "center",
    "slideshow": {
     "slide_type": "slide"
    }
   },
   "source": [
    "## Function example"
   ]
  },
  {
   "cell_type": "markdown",
   "metadata": {
    "cell_style": "center",
    "slideshow": {
     "slide_type": "fragment"
    }
   },
   "source": [
    "Consider the function $f(x_1,x_0)=(x_1\\oplus x_0,x_1\\oplus x_0)$. We have:\n",
    "\n",
    "$$\\begin{align}\n",
    "f(0,0)&=(0,0)\\\\\n",
    "f(0,1)&=(1,1)\\\\\n",
    "f(1,0)&=(1,1)\\\\\n",
    "f(1,1)&=(0,0)\n",
    "\\end{align}$$"
   ]
  },
  {
   "cell_type": "markdown",
   "metadata": {
    "cell_style": "center",
    "slideshow": {
     "slide_type": "fragment"
    }
   },
   "source": [
    "for this function $s=(1,1)$:\n",
    "\n",
    "$$\\begin{align}\n",
    "f(0,0)&=f(1,1)\\\\\n",
    "f(0,1)&=f(1,0)\n",
    "\\end{align}$$"
   ]
  },
  {
   "cell_type": "markdown",
   "metadata": {
    "slideshow": {
     "slide_type": "slide"
    }
   },
   "source": [
    "## Classical Solution\n",
    "\n",
    "\n",
    "* Intuition, we need $x,y$ such that $f(x)=f(y)$ \n",
    "* Hard even for probabilistic algorithms, they require on average $\\sqrt {2^{n}}$ calls"
   ]
  },
  {
   "cell_type": "markdown",
   "metadata": {
    "slideshow": {
     "slide_type": "slide"
    }
   },
   "source": [
    "## Simon's quantum algorithm"
   ]
  },
  {
   "cell_type": "markdown",
   "metadata": {
    "slideshow": {
     "slide_type": "-"
    }
   },
   "source": [
    "<div><center><img src=https://delkouss.github.io/qctutorial/simon_ck.png width=400px></center></div>"
   ]
  },
  {
   "cell_type": "markdown",
   "metadata": {
    "slideshow": {
     "slide_type": "slide"
    }
   },
   "source": [
    "## Analysis of Simon's algorithm\n",
    "\n",
    "The oracle $\\text{U}_f$ action is:\n",
    "\n",
    "$$   \\lvert x \\rangle\\lvert 0 \\rangle \\rightarrow \\lvert x \\rangle \\lvert f(x) \\rangle $$"
   ]
  },
  {
   "cell_type": "markdown",
   "metadata": {
    "slideshow": {
     "slide_type": "fragment"
    }
   },
   "source": [
    "1. Two $n$-qubit registers initialized to the zero state: \n",
    "\n",
    "$$\\lvert \\psi_1 \\rangle = \\lvert 0 \\rangle^{\\otimes n} \\lvert 0 \\rangle^{\\otimes n} $$"
   ]
  },
  {
   "cell_type": "markdown",
   "metadata": {
    "slideshow": {
     "slide_type": "fragment"
    }
   },
   "source": [
    "2. Apply a Hadamard transform to the top register:    \n",
    "\n",
    "$$\\lvert \\psi_2 \\rangle = \\frac{1}{\\sqrt{2^n}} \\sum_{x \\in \\{0,1\\}^{n} }\\lvert x \\rangle\\lvert 0 \\rangle^{\\otimes n}   $$"
   ]
  },
  {
   "cell_type": "markdown",
   "metadata": {
    "slideshow": {
     "slide_type": "fragment"
    }
   },
   "source": [
    "3. Apply $U_f$: \n",
    "\n",
    "$$ \\lvert \\psi_3 \\rangle = \\frac{1}{\\sqrt{2^n}} \\sum_{x \\in \\{0,1\\}^{n} } \\lvert x \\rangle  \\lvert f(x) \\rangle $$"
   ]
  },
  {
   "cell_type": "markdown",
   "metadata": {
    "slideshow": {
     "slide_type": "fragment"
    }
   },
   "source": [
    "4. Measure the bottom register:\n",
    "\n",
    "$$\\lvert \\psi_4 \\rangle = \\frac{1}{\\sqrt{2}} \\left( \\lvert x \\rangle + \\lvert y \\rangle \\right) |f(x)\\rangle$$\n",
    "\n",
    "we drop the bottom register as it plays no further role"
   ]
  },
  {
   "cell_type": "markdown",
   "metadata": {
    "slideshow": {
     "slide_type": "fragment"
    }
   },
   "source": [
    "5. Apply Hadamard on the top register:\n",
    "    \n",
    "$$ \\lvert \\psi_5 \\rangle = \\frac{1}{\\sqrt{2^{n+1}}} \\sum_{z \\in \\{0,1\\}^{n} } \\left[  (-1)^{x \\cdot z} + (-1)^{y \\cdot z} \\right]  \\lvert z \\rangle  $$"
   ]
  },
  {
   "cell_type": "markdown",
   "metadata": {
    "slideshow": {
     "slide_type": "fragment"
    }
   },
   "source": [
    "6. Measuring the top register yields $z$ such that:  \n",
    "\n",
    "$$ (-1)^{x \\cdot z} = (-1)^{y \\cdot z} $$\n",
    "\n",
    "which means:\n",
    "\n",
    "$$ x \\cdot z = y \\cdot z \\\\\n",
    "     x \\cdot z = \\left( x \\oplus s \\right) \\cdot z \\\\\n",
    "     x \\cdot z = x \\cdot z \\oplus s \\cdot z \\\\\n",
    "     s \\cdot z = 0 \\text{ (mod 2)} $$\n",
    "     \n",
    "**repeat!**     "
   ]
  },
  {
   "cell_type": "markdown",
   "metadata": {
    "slideshow": {
     "slide_type": "fragment"
    }
   },
   "source": [
    "## Simon's algorithm\n",
    "\n",
    "1. Run quantum algorithm $m\\approx n$ times: obtain $z_{0},\\ldots,z_{m-1}.$\n",
    "\n",
    "2. Solve the linear system of equations:\n",
    "\n",
    "$$ \\begin{cases} s \\cdot z_0 = 0 \\\\ s \\cdot z_2 = 0 \\\\ ... \\\\ s \\cdot z_{m-1} = 0 \\end{cases}$$"
   ]
  },
  {
   "cell_type": "markdown",
   "metadata": {
    "slideshow": {
     "slide_type": "slide"
    }
   },
   "source": [
    "## Qiskit implementation"
   ]
  },
  {
   "cell_type": "markdown",
   "metadata": {
    "slideshow": {
     "slide_type": "-"
    }
   },
   "source": [
    "Consider the function $f(x_1,x_0)=(x_1\\oplus x_0,x_1\\oplus x_0)$, recall $s=11$.\n",
    "\n",
    "We can implement it (check):\n",
    "\n",
    "<div><center><img src=https://delkouss.github.io/qctutorial/circuit.png width=400px></center></div>"
   ]
  },
  {
   "cell_type": "code",
   "execution_count": 100,
   "metadata": {
    "slideshow": {
     "slide_type": "fragment"
    }
   },
   "outputs": [],
   "source": [
    "simonCircuit = QuantumCircuit(4)\n",
    "\n",
    "# Apply Hadamard gates before querying the oracle\n",
    "simonCircuit.h(range(2,4)) \n",
    "simonCircuit.barrier()\n",
    "\n",
    "# Apply the query function\n",
    "## 2-qubit oracle for s = 11\n",
    "simonCircuit.cx(3, 0)\n",
    "simonCircuit.cx(3, 1)\n",
    "simonCircuit.cx(2, 0)\n",
    "simonCircuit.cx(2, 1)\n",
    "simonCircuit.barrier()\n",
    "\n",
    "# Apply Hadamard gates to the input register\n",
    "simonCircuit.h(range(2,4))\n",
    "\n",
    "# Measure ancilla qubits\n",
    "simonCircuit.measure_all()"
   ]
  },
  {
   "cell_type": "code",
   "execution_count": 101,
   "metadata": {
    "scrolled": true,
    "slideshow": {
     "slide_type": "fragment"
    }
   },
   "outputs": [
    {
     "data": {
      "image/svg+xml": [
       "<?xml version=\"1.0\" encoding=\"utf-8\" standalone=\"no\"?>\n",
       "<!DOCTYPE svg PUBLIC \"-//W3C//DTD SVG 1.1//EN\"\n",
       "  \"http://www.w3.org/Graphics/SVG/1.1/DTD/svg11.dtd\">\n",
       "<!-- Created with matplotlib (https://matplotlib.org/) -->\n",
       "<svg height=\"207.2421pt\" version=\"1.1\" viewBox=\"0 0 584.35554 207.2421\" width=\"584.35554pt\" xmlns=\"http://www.w3.org/2000/svg\" xmlns:xlink=\"http://www.w3.org/1999/xlink\">\n",
       " <defs>\n",
       "  <style type=\"text/css\">\n",
       "*{stroke-linecap:butt;stroke-linejoin:round;}\n",
       "  </style>\n",
       " </defs>\n",
       " <g id=\"figure_1\">\n",
       "  <g id=\"patch_1\">\n",
       "   <path d=\"M 0 207.2421 \n",
       "L 584.35554 207.2421 \n",
       "L 584.35554 0 \n",
       "L 0 0 \n",
       "z\n",
       "\" style=\"fill:#ffffff;\"/>\n",
       "  </g>\n",
       "  <g id=\"axes_1\">\n",
       "   <g id=\"patch_2\">\n",
       "    <path clip-path=\"url(#p66e9e2db6e)\" d=\"M 426.095895 170.490834 \n",
       "L 435.380885 170.490834 \n",
       "L 430.73839 178.6152 \n",
       "z\n",
       "\" style=\"fill:#778899;\"/>\n",
       "   </g>\n",
       "   <g id=\"patch_3\">\n",
       "    <path clip-path=\"url(#p66e9e2db6e)\" d=\"M 461.807395 170.490834 \n",
       "L 471.092385 170.490834 \n",
       "L 466.44989 178.6152 \n",
       "z\n",
       "\" style=\"fill:#778899;\"/>\n",
       "   </g>\n",
       "   <g id=\"patch_4\">\n",
       "    <path clip-path=\"url(#p66e9e2db6e)\" d=\"M 497.518895 170.490834 \n",
       "L 506.803885 170.490834 \n",
       "L 502.16139 178.6152 \n",
       "z\n",
       "\" style=\"fill:#778899;\"/>\n",
       "   </g>\n",
       "   <g id=\"patch_5\">\n",
       "    <path clip-path=\"url(#p66e9e2db6e)\" d=\"M 533.230395 170.490834 \n",
       "L 542.515385 170.490834 \n",
       "L 537.87289 178.6152 \n",
       "z\n",
       "\" style=\"fill:#778899;\"/>\n",
       "   </g>\n",
       "   <g id=\"line2d_1\">\n",
       "    <path clip-path=\"url(#p66e9e2db6e)\" d=\"M 91.47914 35.7692 \n",
       "L 573.58439 35.7692 \n",
       "\" style=\"fill:none;stroke:#000000;stroke-linecap:square;stroke-width:2;\"/>\n",
       "   </g>\n",
       "   <g id=\"line2d_2\">\n",
       "    <path clip-path=\"url(#p66e9e2db6e)\" d=\"M 91.47914 71.4807 \n",
       "L 573.58439 71.4807 \n",
       "\" style=\"fill:none;stroke:#000000;stroke-linecap:square;stroke-width:2;\"/>\n",
       "   </g>\n",
       "   <g id=\"line2d_3\">\n",
       "    <path clip-path=\"url(#p66e9e2db6e)\" d=\"M 91.47914 107.1922 \n",
       "L 573.58439 107.1922 \n",
       "\" style=\"fill:none;stroke:#000000;stroke-linecap:square;stroke-width:2;\"/>\n",
       "   </g>\n",
       "   <g id=\"line2d_4\">\n",
       "    <path clip-path=\"url(#p66e9e2db6e)\" d=\"M 91.47914 142.9037 \n",
       "L 573.58439 142.9037 \n",
       "\" style=\"fill:none;stroke:#000000;stroke-linecap:square;stroke-width:2;\"/>\n",
       "   </g>\n",
       "   <g id=\"line2d_5\">\n",
       "    <path clip-path=\"url(#p66e9e2db6e)\" d=\"M 91.47914 177.454576 \n",
       "L 573.58439 177.454576 \n",
       "\" style=\"fill:none;stroke:#778899;stroke-linecap:square;stroke-width:2;\"/>\n",
       "   </g>\n",
       "   <g id=\"line2d_6\">\n",
       "    <path clip-path=\"url(#p66e9e2db6e)\" d=\"M 91.47914 179.775824 \n",
       "L 573.58439 179.775824 \n",
       "\" style=\"fill:none;stroke:#778899;stroke-linecap:square;stroke-width:2;\"/>\n",
       "   </g>\n",
       "   <g id=\"patch_6\">\n",
       "    <path clip-path=\"url(#p66e9e2db6e)\" d=\"M 138.082648 160.75945 \n",
       "L 152.010133 160.75945 \n",
       "L 152.010133 17.91345 \n",
       "L 138.082648 17.91345 \n",
       "z\n",
       "\" style=\"fill:#bdbdbd;opacity:0.6;\"/>\n",
       "   </g>\n",
       "   <g id=\"patch_7\">\n",
       "    <path clip-path=\"url(#p66e9e2db6e)\" d=\"M 316.640148 160.75945 \n",
       "L 330.567633 160.75945 \n",
       "L 330.567633 17.91345 \n",
       "L 316.640148 17.91345 \n",
       "z\n",
       "\" style=\"fill:#bdbdbd;opacity:0.6;\"/>\n",
       "   </g>\n",
       "   <g id=\"patch_8\">\n",
       "    <path clip-path=\"url(#p66e9e2db6e)\" d=\"M 388.063148 160.75945 \n",
       "L 401.990633 160.75945 \n",
       "L 401.990633 17.91345 \n",
       "L 388.063148 17.91345 \n",
       "z\n",
       "\" style=\"fill:#bdbdbd;opacity:0.6;\"/>\n",
       "   </g>\n",
       "   <g id=\"line2d_7\">\n",
       "    <path clip-path=\"url(#p66e9e2db6e)\" d=\"M 180.75789 142.9037 \n",
       "L 180.75789 35.7692 \n",
       "\" style=\"fill:none;stroke:#6fa4ff;stroke-linecap:square;stroke-width:2;\"/>\n",
       "   </g>\n",
       "   <g id=\"line2d_8\">\n",
       "    <path clip-path=\"url(#p66e9e2db6e)\" d=\"M 216.46939 107.1922 \n",
       "L 216.46939 35.7692 \n",
       "\" style=\"fill:none;stroke:#6fa4ff;stroke-linecap:square;stroke-width:2;\"/>\n",
       "   </g>\n",
       "   <g id=\"line2d_9\">\n",
       "    <path clip-path=\"url(#p66e9e2db6e)\" d=\"M 252.18089 142.9037 \n",
       "L 252.18089 71.4807 \n",
       "\" style=\"fill:none;stroke:#6fa4ff;stroke-linecap:square;stroke-width:2;\"/>\n",
       "   </g>\n",
       "   <g id=\"line2d_10\">\n",
       "    <path clip-path=\"url(#p66e9e2db6e)\" d=\"M 287.89239 107.1922 \n",
       "L 287.89239 71.4807 \n",
       "\" style=\"fill:none;stroke:#6fa4ff;stroke-linecap:square;stroke-width:2;\"/>\n",
       "   </g>\n",
       "   <g id=\"line2d_11\">\n",
       "    <path clip-path=\"url(#p66e9e2db6e)\" d=\"M 431.899014 142.9037 \n",
       "L 431.899014 170.490834 \n",
       "\" style=\"fill:none;stroke:#778899;stroke-linecap:square;stroke-width:2;\"/>\n",
       "   </g>\n",
       "   <g id=\"line2d_12\">\n",
       "    <path clip-path=\"url(#p66e9e2db6e)\" d=\"M 429.577766 142.9037 \n",
       "L 429.577766 170.490834 \n",
       "\" style=\"fill:none;stroke:#778899;stroke-linecap:square;stroke-width:2;\"/>\n",
       "   </g>\n",
       "   <g id=\"line2d_13\">\n",
       "    <path clip-path=\"url(#p66e9e2db6e)\" d=\"M 467.610514 107.1922 \n",
       "L 467.610514 170.490834 \n",
       "\" style=\"fill:none;stroke:#778899;stroke-linecap:square;stroke-width:2;\"/>\n",
       "   </g>\n",
       "   <g id=\"line2d_14\">\n",
       "    <path clip-path=\"url(#p66e9e2db6e)\" d=\"M 465.289266 107.1922 \n",
       "L 465.289266 170.490834 \n",
       "\" style=\"fill:none;stroke:#778899;stroke-linecap:square;stroke-width:2;\"/>\n",
       "   </g>\n",
       "   <g id=\"line2d_15\">\n",
       "    <path clip-path=\"url(#p66e9e2db6e)\" d=\"M 503.322014 71.4807 \n",
       "L 503.322014 170.490834 \n",
       "\" style=\"fill:none;stroke:#778899;stroke-linecap:square;stroke-width:2;\"/>\n",
       "   </g>\n",
       "   <g id=\"line2d_16\">\n",
       "    <path clip-path=\"url(#p66e9e2db6e)\" d=\"M 501.000766 71.4807 \n",
       "L 501.000766 170.490834 \n",
       "\" style=\"fill:none;stroke:#778899;stroke-linecap:square;stroke-width:2;\"/>\n",
       "   </g>\n",
       "   <g id=\"line2d_17\">\n",
       "    <path clip-path=\"url(#p66e9e2db6e)\" d=\"M 539.033514 35.7692 \n",
       "L 539.033514 170.490834 \n",
       "\" style=\"fill:none;stroke:#778899;stroke-linecap:square;stroke-width:2;\"/>\n",
       "   </g>\n",
       "   <g id=\"line2d_18\">\n",
       "    <path clip-path=\"url(#p66e9e2db6e)\" d=\"M 536.712266 35.7692 \n",
       "L 536.712266 170.490834 \n",
       "\" style=\"fill:none;stroke:#778899;stroke-linecap:square;stroke-width:2;\"/>\n",
       "   </g>\n",
       "   <g id=\"line2d_19\">\n",
       "    <path clip-path=\"url(#p66e9e2db6e)\" d=\"M 112.90604 182.18635 \n",
       "L 116.47719 175.04405 \n",
       "\" style=\"fill:none;stroke:#778899;stroke-linecap:square;stroke-width:1.5;\"/>\n",
       "   </g>\n",
       "   <g id=\"patch_9\">\n",
       "    <path clip-path=\"url(#p66e9e2db6e)\" d=\"M 97.728653 83.086938 \n",
       "L 120.941128 83.086938 \n",
       "L 120.941128 59.874463 \n",
       "L 97.728653 59.874463 \n",
       "z\n",
       "\" style=\"fill:#6fa4ff;\"/>\n",
       "   </g>\n",
       "   <g id=\"patch_10\">\n",
       "    <path clip-path=\"url(#p66e9e2db6e)\" d=\"M 97.728653 47.375438 \n",
       "L 120.941128 47.375438 \n",
       "L 120.941128 24.162962 \n",
       "L 97.728653 24.162962 \n",
       "z\n",
       "\" style=\"fill:#6fa4ff;\"/>\n",
       "   </g>\n",
       "   <g id=\"patch_11\">\n",
       "    <path clip-path=\"url(#p66e9e2db6e)\" d=\"M 180.75789 39.251071 \n",
       "C 181.681293 39.251071 182.567 38.884199 183.219945 38.231255 \n",
       "C 183.872889 37.57831 184.239761 36.692603 184.239761 35.7692 \n",
       "C 184.239761 34.845797 183.872889 33.96009 183.219945 33.307145 \n",
       "C 182.567 32.654201 181.681293 32.287329 180.75789 32.287329 \n",
       "C 179.834487 32.287329 178.94878 32.654201 178.295835 33.307145 \n",
       "C 177.642891 33.96009 177.276019 34.845797 177.276019 35.7692 \n",
       "C 177.276019 36.692603 177.642891 37.57831 178.295835 38.231255 \n",
       "C 178.94878 38.884199 179.834487 39.251071 180.75789 39.251071 \n",
       "z\n",
       "\" style=\"fill:#6fa4ff;stroke:#6fa4ff;stroke-linejoin:miter;stroke-width:1.5;\"/>\n",
       "   </g>\n",
       "   <g id=\"patch_12\">\n",
       "    <path clip-path=\"url(#p66e9e2db6e)\" d=\"M 180.75789 151.028066 \n",
       "C 182.912497 151.028066 184.979147 150.172032 186.502684 148.648494 \n",
       "C 188.026222 147.124957 188.882256 145.058307 188.882256 142.9037 \n",
       "C 188.882256 140.749093 188.026222 138.682443 186.502684 137.158906 \n",
       "C 184.979147 135.635368 182.912497 134.779334 180.75789 134.779334 \n",
       "C 178.603283 134.779334 176.536633 135.635368 175.013096 137.158906 \n",
       "C 173.489558 138.682443 172.633524 140.749093 172.633524 142.9037 \n",
       "C 172.633524 145.058307 173.489558 147.124957 175.013096 148.648494 \n",
       "C 176.536633 150.172032 178.603283 151.028066 180.75789 151.028066 \n",
       "z\n",
       "\" style=\"fill:#6fa4ff;stroke:#6fa4ff;stroke-linejoin:miter;stroke-width:2;\"/>\n",
       "   </g>\n",
       "   <g id=\"patch_13\">\n",
       "    <path clip-path=\"url(#p66e9e2db6e)\" d=\"M 216.46939 39.251071 \n",
       "C 217.392793 39.251071 218.2785 38.884199 218.931445 38.231255 \n",
       "C 219.584389 37.57831 219.951261 36.692603 219.951261 35.7692 \n",
       "C 219.951261 34.845797 219.584389 33.96009 218.931445 33.307145 \n",
       "C 218.2785 32.654201 217.392793 32.287329 216.46939 32.287329 \n",
       "C 215.545987 32.287329 214.66028 32.654201 214.007335 33.307145 \n",
       "C 213.354391 33.96009 212.987519 34.845797 212.987519 35.7692 \n",
       "C 212.987519 36.692603 213.354391 37.57831 214.007335 38.231255 \n",
       "C 214.66028 38.884199 215.545987 39.251071 216.46939 39.251071 \n",
       "z\n",
       "\" style=\"fill:#6fa4ff;stroke:#6fa4ff;stroke-linejoin:miter;stroke-width:1.5;\"/>\n",
       "   </g>\n",
       "   <g id=\"patch_14\">\n",
       "    <path clip-path=\"url(#p66e9e2db6e)\" d=\"M 216.46939 115.316566 \n",
       "C 218.623997 115.316566 220.690647 114.460532 222.214184 112.936994 \n",
       "C 223.737722 111.413457 224.593756 109.346807 224.593756 107.1922 \n",
       "C 224.593756 105.037593 223.737722 102.970943 222.214184 101.447406 \n",
       "C 220.690647 99.923868 218.623997 99.067834 216.46939 99.067834 \n",
       "C 214.314783 99.067834 212.248133 99.923868 210.724596 101.447406 \n",
       "C 209.201058 102.970943 208.345024 105.037593 208.345024 107.1922 \n",
       "C 208.345024 109.346807 209.201058 111.413457 210.724596 112.936994 \n",
       "C 212.248133 114.460532 214.314783 115.316566 216.46939 115.316566 \n",
       "z\n",
       "\" style=\"fill:#6fa4ff;stroke:#6fa4ff;stroke-linejoin:miter;stroke-width:2;\"/>\n",
       "   </g>\n",
       "   <g id=\"patch_15\">\n",
       "    <path clip-path=\"url(#p66e9e2db6e)\" d=\"M 252.18089 74.962571 \n",
       "C 253.104293 74.962571 253.99 74.595699 254.642945 73.942755 \n",
       "C 255.295889 73.28981 255.662761 72.404103 255.662761 71.4807 \n",
       "C 255.662761 70.557297 255.295889 69.67159 254.642945 69.018645 \n",
       "C 253.99 68.365701 253.104293 67.998829 252.18089 67.998829 \n",
       "C 251.257487 67.998829 250.37178 68.365701 249.718835 69.018645 \n",
       "C 249.065891 69.67159 248.699019 70.557297 248.699019 71.4807 \n",
       "C 248.699019 72.404103 249.065891 73.28981 249.718835 73.942755 \n",
       "C 250.37178 74.595699 251.257487 74.962571 252.18089 74.962571 \n",
       "z\n",
       "\" style=\"fill:#6fa4ff;stroke:#6fa4ff;stroke-linejoin:miter;stroke-width:1.5;\"/>\n",
       "   </g>\n",
       "   <g id=\"patch_16\">\n",
       "    <path clip-path=\"url(#p66e9e2db6e)\" d=\"M 252.18089 151.028066 \n",
       "C 254.335497 151.028066 256.402147 150.172032 257.925684 148.648494 \n",
       "C 259.449222 147.124957 260.305256 145.058307 260.305256 142.9037 \n",
       "C 260.305256 140.749093 259.449222 138.682443 257.925684 137.158906 \n",
       "C 256.402147 135.635368 254.335497 134.779334 252.18089 134.779334 \n",
       "C 250.026283 134.779334 247.959633 135.635368 246.436096 137.158906 \n",
       "C 244.912558 138.682443 244.056524 140.749093 244.056524 142.9037 \n",
       "C 244.056524 145.058307 244.912558 147.124957 246.436096 148.648494 \n",
       "C 247.959633 150.172032 250.026283 151.028066 252.18089 151.028066 \n",
       "z\n",
       "\" style=\"fill:#6fa4ff;stroke:#6fa4ff;stroke-linejoin:miter;stroke-width:2;\"/>\n",
       "   </g>\n",
       "   <g id=\"patch_17\">\n",
       "    <path clip-path=\"url(#p66e9e2db6e)\" d=\"M 287.89239 74.962571 \n",
       "C 288.815793 74.962571 289.7015 74.595699 290.354445 73.942755 \n",
       "C 291.007389 73.28981 291.374261 72.404103 291.374261 71.4807 \n",
       "C 291.374261 70.557297 291.007389 69.67159 290.354445 69.018645 \n",
       "C 289.7015 68.365701 288.815793 67.998829 287.89239 67.998829 \n",
       "C 286.968987 67.998829 286.08328 68.365701 285.430335 69.018645 \n",
       "C 284.777391 69.67159 284.410519 70.557297 284.410519 71.4807 \n",
       "C 284.410519 72.404103 284.777391 73.28981 285.430335 73.942755 \n",
       "C 286.08328 74.595699 286.968987 74.962571 287.89239 74.962571 \n",
       "z\n",
       "\" style=\"fill:#6fa4ff;stroke:#6fa4ff;stroke-linejoin:miter;stroke-width:1.5;\"/>\n",
       "   </g>\n",
       "   <g id=\"patch_18\">\n",
       "    <path clip-path=\"url(#p66e9e2db6e)\" d=\"M 287.89239 115.316566 \n",
       "C 290.046997 115.316566 292.113647 114.460532 293.637184 112.936994 \n",
       "C 295.160722 111.413457 296.016756 109.346807 296.016756 107.1922 \n",
       "C 296.016756 105.037593 295.160722 102.970943 293.637184 101.447406 \n",
       "C 292.113647 99.923868 290.046997 99.067834 287.89239 99.067834 \n",
       "C 285.737783 99.067834 283.671133 99.923868 282.147596 101.447406 \n",
       "C 280.624058 102.970943 279.768024 105.037593 279.768024 107.1922 \n",
       "C 279.768024 109.346807 280.624058 111.413457 282.147596 112.936994 \n",
       "C 283.671133 114.460532 285.737783 115.316566 287.89239 115.316566 \n",
       "z\n",
       "\" style=\"fill:#6fa4ff;stroke:#6fa4ff;stroke-linejoin:miter;stroke-width:2;\"/>\n",
       "   </g>\n",
       "   <g id=\"patch_19\">\n",
       "    <path clip-path=\"url(#p66e9e2db6e)\" d=\"M 347.709153 83.086938 \n",
       "L 370.921628 83.086938 \n",
       "L 370.921628 59.874463 \n",
       "L 347.709153 59.874463 \n",
       "z\n",
       "\" style=\"fill:#6fa4ff;\"/>\n",
       "   </g>\n",
       "   <g id=\"patch_20\">\n",
       "    <path clip-path=\"url(#p66e9e2db6e)\" d=\"M 347.709153 47.375438 \n",
       "L 370.921628 47.375438 \n",
       "L 370.921628 24.162962 \n",
       "L 347.709153 24.162962 \n",
       "z\n",
       "\" style=\"fill:#6fa4ff;\"/>\n",
       "   </g>\n",
       "   <g id=\"patch_21\">\n",
       "    <path clip-path=\"url(#p66e9e2db6e)\" d=\"M 419.132153 154.509938 \n",
       "L 442.344628 154.509938 \n",
       "L 442.344628 131.297463 \n",
       "L 419.132153 131.297463 \n",
       "z\n",
       "\"/>\n",
       "   </g>\n",
       "   <g id=\"patch_22\">\n",
       "    <path clip-path=\"url(#p66e9e2db6e)\" d=\"M 438.862756 146.385571 \n",
       "C 438.862756 144.231682 438.006214 142.163807 436.483184 140.640777 \n",
       "C 434.960155 139.117747 432.89228 138.261205 430.73839 138.261205 \n",
       "C 428.5845 138.261205 426.516625 139.117747 424.993596 140.640777 \n",
       "C 423.470566 142.163807 422.614024 144.231682 422.614024 146.385571 \n",
       "\" style=\"fill:none;stroke:#ffffff;stroke-linejoin:miter;stroke-width:2;\"/>\n",
       "   </g>\n",
       "   <g id=\"patch_23\">\n",
       "    <path clip-path=\"url(#p66e9e2db6e)\" d=\"M 454.843653 118.798438 \n",
       "L 478.056128 118.798438 \n",
       "L 478.056128 95.585963 \n",
       "L 454.843653 95.585963 \n",
       "z\n",
       "\"/>\n",
       "   </g>\n",
       "   <g id=\"patch_24\">\n",
       "    <path clip-path=\"url(#p66e9e2db6e)\" d=\"M 474.574256 110.674071 \n",
       "C 474.574256 108.520182 473.717714 106.452307 472.194684 104.929277 \n",
       "C 470.671655 103.406247 468.60378 102.549705 466.44989 102.549705 \n",
       "C 464.296 102.549705 462.228125 103.406247 460.705096 104.929277 \n",
       "C 459.182066 106.452307 458.325524 108.520182 458.325524 110.674071 \n",
       "\" style=\"fill:none;stroke:#ffffff;stroke-linejoin:miter;stroke-width:2;\"/>\n",
       "   </g>\n",
       "   <g id=\"patch_25\">\n",
       "    <path clip-path=\"url(#p66e9e2db6e)\" d=\"M 490.555153 83.086938 \n",
       "L 513.767628 83.086938 \n",
       "L 513.767628 59.874463 \n",
       "L 490.555153 59.874463 \n",
       "z\n",
       "\"/>\n",
       "   </g>\n",
       "   <g id=\"patch_26\">\n",
       "    <path clip-path=\"url(#p66e9e2db6e)\" d=\"M 510.285756 74.962571 \n",
       "C 510.285756 72.808682 509.429214 70.740807 507.906184 69.217777 \n",
       "C 506.383155 67.694747 504.31528 66.838205 502.16139 66.838205 \n",
       "C 500.0075 66.838205 497.939625 67.694747 496.416596 69.217777 \n",
       "C 494.893566 70.740807 494.037024 72.808682 494.037024 74.962571 \n",
       "\" style=\"fill:none;stroke:#ffffff;stroke-linejoin:miter;stroke-width:2;\"/>\n",
       "   </g>\n",
       "   <g id=\"patch_27\">\n",
       "    <path clip-path=\"url(#p66e9e2db6e)\" d=\"M 526.266653 47.375438 \n",
       "L 549.479128 47.375438 \n",
       "L 549.479128 24.162962 \n",
       "L 526.266653 24.162962 \n",
       "z\n",
       "\"/>\n",
       "   </g>\n",
       "   <g id=\"patch_28\">\n",
       "    <path clip-path=\"url(#p66e9e2db6e)\" d=\"M 545.997256 39.251071 \n",
       "C 545.997256 37.097182 545.140714 35.029307 543.617684 33.506277 \n",
       "C 542.094655 31.983247 540.02678 31.126705 537.87289 31.126705 \n",
       "C 535.719 31.126705 533.651125 31.983247 532.128096 33.506277 \n",
       "C 530.605066 35.029307 529.748524 37.097182 529.748524 39.251071 \n",
       "\" style=\"fill:none;stroke:#ffffff;stroke-linejoin:miter;stroke-width:2;\"/>\n",
       "   </g>\n",
       "   <g id=\"line2d_20\">\n",
       "    <path clip-path=\"url(#p66e9e2db6e)\" d=\"M 430.73839 146.385571 \n",
       "L 438.862756 138.261205 \n",
       "\" style=\"fill:none;stroke:#ffffff;stroke-linecap:square;stroke-width:2;\"/>\n",
       "   </g>\n",
       "   <g id=\"line2d_21\">\n",
       "    <path clip-path=\"url(#p66e9e2db6e)\" d=\"M 466.44989 110.674071 \n",
       "L 474.574256 102.549705 \n",
       "\" style=\"fill:none;stroke:#ffffff;stroke-linecap:square;stroke-width:2;\"/>\n",
       "   </g>\n",
       "   <g id=\"line2d_22\">\n",
       "    <path clip-path=\"url(#p66e9e2db6e)\" d=\"M 502.16139 74.962571 \n",
       "L 510.285756 66.838205 \n",
       "\" style=\"fill:none;stroke:#ffffff;stroke-linecap:square;stroke-width:2;\"/>\n",
       "   </g>\n",
       "   <g id=\"line2d_23\">\n",
       "    <path clip-path=\"url(#p66e9e2db6e)\" d=\"M 537.87289 39.251071 \n",
       "L 545.997256 31.126705 \n",
       "\" style=\"fill:none;stroke:#ffffff;stroke-linecap:square;stroke-width:2;\"/>\n",
       "   </g>\n",
       "   <g id=\"line2d_24\">\n",
       "    <path clip-path=\"url(#p66e9e2db6e)\" d=\"M 145.04639 125.04795 \n",
       "L 145.04639 160.75945 \n",
       "\" style=\"fill:none;stroke:#000000;stroke-dasharray:3.7,1.6;stroke-dashoffset:0;\"/>\n",
       "   </g>\n",
       "   <g id=\"line2d_25\">\n",
       "    <path clip-path=\"url(#p66e9e2db6e)\" d=\"M 145.04639 89.33645 \n",
       "L 145.04639 125.04795 \n",
       "\" style=\"fill:none;stroke:#000000;stroke-dasharray:3.7,1.6;stroke-dashoffset:0;\"/>\n",
       "   </g>\n",
       "   <g id=\"line2d_26\">\n",
       "    <path clip-path=\"url(#p66e9e2db6e)\" d=\"M 145.04639 53.62495 \n",
       "L 145.04639 89.33645 \n",
       "\" style=\"fill:none;stroke:#000000;stroke-dasharray:3.7,1.6;stroke-dashoffset:0;\"/>\n",
       "   </g>\n",
       "   <g id=\"line2d_27\">\n",
       "    <path clip-path=\"url(#p66e9e2db6e)\" d=\"M 145.04639 17.91345 \n",
       "L 145.04639 53.62495 \n",
       "\" style=\"fill:none;stroke:#000000;stroke-dasharray:3.7,1.6;stroke-dashoffset:0;\"/>\n",
       "   </g>\n",
       "   <g id=\"line2d_28\">\n",
       "    <path clip-path=\"url(#p66e9e2db6e)\" d=\"M 180.75789 147.546195 \n",
       "L 180.75789 138.261205 \n",
       "\" style=\"fill:none;stroke:#ffffff;stroke-linecap:square;stroke-width:2;\"/>\n",
       "   </g>\n",
       "   <g id=\"line2d_29\">\n",
       "    <path clip-path=\"url(#p66e9e2db6e)\" d=\"M 176.115395 142.9037 \n",
       "L 185.400385 142.9037 \n",
       "\" style=\"fill:none;stroke:#ffffff;stroke-linecap:square;stroke-width:2;\"/>\n",
       "   </g>\n",
       "   <g id=\"line2d_30\">\n",
       "    <path clip-path=\"url(#p66e9e2db6e)\" d=\"M 216.46939 111.834695 \n",
       "L 216.46939 102.549705 \n",
       "\" style=\"fill:none;stroke:#ffffff;stroke-linecap:square;stroke-width:2;\"/>\n",
       "   </g>\n",
       "   <g id=\"line2d_31\">\n",
       "    <path clip-path=\"url(#p66e9e2db6e)\" d=\"M 211.826895 107.1922 \n",
       "L 221.111885 107.1922 \n",
       "\" style=\"fill:none;stroke:#ffffff;stroke-linecap:square;stroke-width:2;\"/>\n",
       "   </g>\n",
       "   <g id=\"line2d_32\">\n",
       "    <path clip-path=\"url(#p66e9e2db6e)\" d=\"M 252.18089 147.546195 \n",
       "L 252.18089 138.261205 \n",
       "\" style=\"fill:none;stroke:#ffffff;stroke-linecap:square;stroke-width:2;\"/>\n",
       "   </g>\n",
       "   <g id=\"line2d_33\">\n",
       "    <path clip-path=\"url(#p66e9e2db6e)\" d=\"M 247.538395 142.9037 \n",
       "L 256.823385 142.9037 \n",
       "\" style=\"fill:none;stroke:#ffffff;stroke-linecap:square;stroke-width:2;\"/>\n",
       "   </g>\n",
       "   <g id=\"line2d_34\">\n",
       "    <path clip-path=\"url(#p66e9e2db6e)\" d=\"M 287.89239 111.834695 \n",
       "L 287.89239 102.549705 \n",
       "\" style=\"fill:none;stroke:#ffffff;stroke-linecap:square;stroke-width:2;\"/>\n",
       "   </g>\n",
       "   <g id=\"line2d_35\">\n",
       "    <path clip-path=\"url(#p66e9e2db6e)\" d=\"M 283.249895 107.1922 \n",
       "L 292.534885 107.1922 \n",
       "\" style=\"fill:none;stroke:#ffffff;stroke-linecap:square;stroke-width:2;\"/>\n",
       "   </g>\n",
       "   <g id=\"line2d_36\">\n",
       "    <path clip-path=\"url(#p66e9e2db6e)\" d=\"M 323.60389 125.04795 \n",
       "L 323.60389 160.75945 \n",
       "\" style=\"fill:none;stroke:#000000;stroke-dasharray:3.7,1.6;stroke-dashoffset:0;\"/>\n",
       "   </g>\n",
       "   <g id=\"line2d_37\">\n",
       "    <path clip-path=\"url(#p66e9e2db6e)\" d=\"M 323.60389 89.33645 \n",
       "L 323.60389 125.04795 \n",
       "\" style=\"fill:none;stroke:#000000;stroke-dasharray:3.7,1.6;stroke-dashoffset:0;\"/>\n",
       "   </g>\n",
       "   <g id=\"line2d_38\">\n",
       "    <path clip-path=\"url(#p66e9e2db6e)\" d=\"M 323.60389 53.62495 \n",
       "L 323.60389 89.33645 \n",
       "\" style=\"fill:none;stroke:#000000;stroke-dasharray:3.7,1.6;stroke-dashoffset:0;\"/>\n",
       "   </g>\n",
       "   <g id=\"line2d_39\">\n",
       "    <path clip-path=\"url(#p66e9e2db6e)\" d=\"M 323.60389 17.91345 \n",
       "L 323.60389 53.62495 \n",
       "\" style=\"fill:none;stroke:#000000;stroke-dasharray:3.7,1.6;stroke-dashoffset:0;\"/>\n",
       "   </g>\n",
       "   <g id=\"line2d_40\">\n",
       "    <path clip-path=\"url(#p66e9e2db6e)\" d=\"M 395.02689 125.04795 \n",
       "L 395.02689 160.75945 \n",
       "\" style=\"fill:none;stroke:#000000;stroke-dasharray:3.7,1.6;stroke-dashoffset:0;\"/>\n",
       "   </g>\n",
       "   <g id=\"line2d_41\">\n",
       "    <path clip-path=\"url(#p66e9e2db6e)\" d=\"M 395.02689 89.33645 \n",
       "L 395.02689 125.04795 \n",
       "\" style=\"fill:none;stroke:#000000;stroke-dasharray:3.7,1.6;stroke-dashoffset:0;\"/>\n",
       "   </g>\n",
       "   <g id=\"line2d_42\">\n",
       "    <path clip-path=\"url(#p66e9e2db6e)\" d=\"M 395.02689 53.62495 \n",
       "L 395.02689 89.33645 \n",
       "\" style=\"fill:none;stroke:#000000;stroke-dasharray:3.7,1.6;stroke-dashoffset:0;\"/>\n",
       "   </g>\n",
       "   <g id=\"line2d_43\">\n",
       "    <path clip-path=\"url(#p66e9e2db6e)\" d=\"M 395.02689 17.91345 \n",
       "L 395.02689 53.62495 \n",
       "\" style=\"fill:none;stroke:#000000;stroke-dasharray:3.7,1.6;stroke-dashoffset:0;\"/>\n",
       "   </g>\n",
       "   <g id=\"text_1\">\n",
       "    <g clip-path=\"url(#p66e9e2db6e)\">\n",
       "     <!-- $H$ -->\n",
       "     <defs>\n",
       "      <path d=\"M 16.890625 72.90625 \n",
       "L 26.8125 72.90625 \n",
       "L 21 43.015625 \n",
       "L 56.78125 43.015625 \n",
       "L 62.59375 72.90625 \n",
       "L 72.515625 72.90625 \n",
       "L 58.296875 0 \n",
       "L 48.390625 0 \n",
       "L 55.171875 34.71875 \n",
       "L 19.390625 34.71875 \n",
       "L 12.59375 0 \n",
       "L 2.6875 0 \n",
       "z\n",
       "\" id=\"DejaVuSans-Oblique-72\"/>\n",
       "     </defs>\n",
       "     <g transform=\"translate(104.39489 75.067888)scale(0.13 -0.13)\">\n",
       "      <use transform=\"translate(0 0.09375)\" xlink:href=\"#DejaVuSans-Oblique-72\"/>\n",
       "     </g>\n",
       "    </g>\n",
       "   </g>\n",
       "   <g id=\"text_2\">\n",
       "    <g clip-path=\"url(#p66e9e2db6e)\">\n",
       "     <!-- $H$ -->\n",
       "     <g transform=\"translate(104.39489 39.356388)scale(0.13 -0.13)\">\n",
       "      <use transform=\"translate(0 0.09375)\" xlink:href=\"#DejaVuSans-Oblique-72\"/>\n",
       "     </g>\n",
       "    </g>\n",
       "   </g>\n",
       "   <g id=\"text_3\">\n",
       "    <g clip-path=\"url(#p66e9e2db6e)\">\n",
       "     <!-- $H$ -->\n",
       "     <g transform=\"translate(354.37539 75.067888)scale(0.13 -0.13)\">\n",
       "      <use transform=\"translate(0 0.09375)\" xlink:href=\"#DejaVuSans-Oblique-72\"/>\n",
       "     </g>\n",
       "    </g>\n",
       "   </g>\n",
       "   <g id=\"text_4\">\n",
       "    <g clip-path=\"url(#p66e9e2db6e)\">\n",
       "     <!-- $H$ -->\n",
       "     <g transform=\"translate(354.37539 39.356388)scale(0.13 -0.13)\">\n",
       "      <use transform=\"translate(0 0.09375)\" xlink:href=\"#DejaVuSans-Oblique-72\"/>\n",
       "     </g>\n",
       "    </g>\n",
       "   </g>\n",
       "   <g id=\"text_5\">\n",
       "    <g clip-path=\"url(#p66e9e2db6e)\">\n",
       "     <!-- 0 -->\n",
       "     <defs>\n",
       "      <path d=\"M 31.78125 66.40625 \n",
       "Q 24.171875 66.40625 20.328125 58.90625 \n",
       "Q 16.5 51.421875 16.5 36.375 \n",
       "Q 16.5 21.390625 20.328125 13.890625 \n",
       "Q 24.171875 6.390625 31.78125 6.390625 \n",
       "Q 39.453125 6.390625 43.28125 13.890625 \n",
       "Q 47.125 21.390625 47.125 36.375 \n",
       "Q 47.125 51.421875 43.28125 58.90625 \n",
       "Q 39.453125 66.40625 31.78125 66.40625 \n",
       "z\n",
       "M 31.78125 74.21875 \n",
       "Q 44.046875 74.21875 50.515625 64.515625 \n",
       "Q 56.984375 54.828125 56.984375 36.375 \n",
       "Q 56.984375 17.96875 50.515625 8.265625 \n",
       "Q 44.046875 -1.421875 31.78125 -1.421875 \n",
       "Q 19.53125 -1.421875 13.0625 8.265625 \n",
       "Q 6.59375 17.96875 6.59375 36.375 \n",
       "Q 6.59375 54.828125 13.0625 64.515625 \n",
       "Q 19.53125 74.21875 31.78125 74.21875 \n",
       "z\n",
       "\" id=\"DejaVuSans-48\"/>\n",
       "     </defs>\n",
       "     <g transform=\"translate(439.666265 172.881175)scale(0.104 -0.104)\">\n",
       "      <use xlink:href=\"#DejaVuSans-48\"/>\n",
       "     </g>\n",
       "    </g>\n",
       "   </g>\n",
       "   <g id=\"text_6\">\n",
       "    <g clip-path=\"url(#p66e9e2db6e)\">\n",
       "     <!-- 1 -->\n",
       "     <defs>\n",
       "      <path d=\"M 12.40625 8.296875 \n",
       "L 28.515625 8.296875 \n",
       "L 28.515625 63.921875 \n",
       "L 10.984375 60.40625 \n",
       "L 10.984375 69.390625 \n",
       "L 28.421875 72.90625 \n",
       "L 38.28125 72.90625 \n",
       "L 38.28125 8.296875 \n",
       "L 54.390625 8.296875 \n",
       "L 54.390625 0 \n",
       "L 12.40625 0 \n",
       "z\n",
       "\" id=\"DejaVuSans-49\"/>\n",
       "     </defs>\n",
       "     <g transform=\"translate(475.377765 172.881175)scale(0.104 -0.104)\">\n",
       "      <use xlink:href=\"#DejaVuSans-49\"/>\n",
       "     </g>\n",
       "    </g>\n",
       "   </g>\n",
       "   <g id=\"text_7\">\n",
       "    <g clip-path=\"url(#p66e9e2db6e)\">\n",
       "     <!-- 2 -->\n",
       "     <defs>\n",
       "      <path d=\"M 19.1875 8.296875 \n",
       "L 53.609375 8.296875 \n",
       "L 53.609375 0 \n",
       "L 7.328125 0 \n",
       "L 7.328125 8.296875 \n",
       "Q 12.9375 14.109375 22.625 23.890625 \n",
       "Q 32.328125 33.6875 34.8125 36.53125 \n",
       "Q 39.546875 41.84375 41.421875 45.53125 \n",
       "Q 43.3125 49.21875 43.3125 52.78125 \n",
       "Q 43.3125 58.59375 39.234375 62.25 \n",
       "Q 35.15625 65.921875 28.609375 65.921875 \n",
       "Q 23.96875 65.921875 18.8125 64.3125 \n",
       "Q 13.671875 62.703125 7.8125 59.421875 \n",
       "L 7.8125 69.390625 \n",
       "Q 13.765625 71.78125 18.9375 73 \n",
       "Q 24.125 74.21875 28.421875 74.21875 \n",
       "Q 39.75 74.21875 46.484375 68.546875 \n",
       "Q 53.21875 62.890625 53.21875 53.421875 \n",
       "Q 53.21875 48.921875 51.53125 44.890625 \n",
       "Q 49.859375 40.875 45.40625 35.40625 \n",
       "Q 44.1875 33.984375 37.640625 27.21875 \n",
       "Q 31.109375 20.453125 19.1875 8.296875 \n",
       "z\n",
       "\" id=\"DejaVuSans-50\"/>\n",
       "     </defs>\n",
       "     <g transform=\"translate(511.089265 172.881175)scale(0.104 -0.104)\">\n",
       "      <use xlink:href=\"#DejaVuSans-50\"/>\n",
       "     </g>\n",
       "    </g>\n",
       "   </g>\n",
       "   <g id=\"text_8\">\n",
       "    <g clip-path=\"url(#p66e9e2db6e)\">\n",
       "     <!-- 3 -->\n",
       "     <defs>\n",
       "      <path d=\"M 40.578125 39.3125 \n",
       "Q 47.65625 37.796875 51.625 33 \n",
       "Q 55.609375 28.21875 55.609375 21.1875 \n",
       "Q 55.609375 10.40625 48.1875 4.484375 \n",
       "Q 40.765625 -1.421875 27.09375 -1.421875 \n",
       "Q 22.515625 -1.421875 17.65625 -0.515625 \n",
       "Q 12.796875 0.390625 7.625 2.203125 \n",
       "L 7.625 11.71875 \n",
       "Q 11.71875 9.328125 16.59375 8.109375 \n",
       "Q 21.484375 6.890625 26.8125 6.890625 \n",
       "Q 36.078125 6.890625 40.9375 10.546875 \n",
       "Q 45.796875 14.203125 45.796875 21.1875 \n",
       "Q 45.796875 27.640625 41.28125 31.265625 \n",
       "Q 36.765625 34.90625 28.71875 34.90625 \n",
       "L 20.21875 34.90625 \n",
       "L 20.21875 43.015625 \n",
       "L 29.109375 43.015625 \n",
       "Q 36.375 43.015625 40.234375 45.921875 \n",
       "Q 44.09375 48.828125 44.09375 54.296875 \n",
       "Q 44.09375 59.90625 40.109375 62.90625 \n",
       "Q 36.140625 65.921875 28.71875 65.921875 \n",
       "Q 24.65625 65.921875 20.015625 65.03125 \n",
       "Q 15.375 64.15625 9.8125 62.3125 \n",
       "L 9.8125 71.09375 \n",
       "Q 15.4375 72.65625 20.34375 73.4375 \n",
       "Q 25.25 74.21875 29.59375 74.21875 \n",
       "Q 40.828125 74.21875 47.359375 69.109375 \n",
       "Q 53.90625 64.015625 53.90625 55.328125 \n",
       "Q 53.90625 49.265625 50.4375 45.09375 \n",
       "Q 46.96875 40.921875 40.578125 39.3125 \n",
       "z\n",
       "\" id=\"DejaVuSans-51\"/>\n",
       "     </defs>\n",
       "     <g transform=\"translate(546.800765 172.881175)scale(0.104 -0.104)\">\n",
       "      <use xlink:href=\"#DejaVuSans-51\"/>\n",
       "     </g>\n",
       "    </g>\n",
       "   </g>\n",
       "   <g id=\"text_9\">\n",
       "    <g clip-path=\"url(#p66e9e2db6e)\">\n",
       "     <!-- ${q}_{3}$ -->\n",
       "     <defs>\n",
       "      <path d=\"M 41.703125 8.203125 \n",
       "Q 38.09375 3.46875 33.171875 1.015625 \n",
       "Q 28.265625 -1.421875 22.3125 -1.421875 \n",
       "Q 14.015625 -1.421875 9.296875 4.171875 \n",
       "Q 4.59375 9.765625 4.59375 19.578125 \n",
       "Q 4.59375 27.484375 7.5 34.859375 \n",
       "Q 10.40625 42.234375 15.828125 48.09375 \n",
       "Q 19.34375 51.90625 23.90625 53.953125 \n",
       "Q 28.46875 56 33.5 56 \n",
       "Q 39.546875 56 43.453125 53.609375 \n",
       "Q 47.359375 51.21875 49.125 46.390625 \n",
       "L 50.6875 54.59375 \n",
       "L 59.71875 54.59375 \n",
       "L 45.125 -20.609375 \n",
       "L 36.078125 -20.609375 \n",
       "z\n",
       "M 13.921875 20.90625 \n",
       "Q 13.921875 13.671875 16.9375 9.890625 \n",
       "Q 19.96875 6.109375 25.6875 6.109375 \n",
       "Q 34.1875 6.109375 40.1875 14.234375 \n",
       "Q 46.1875 22.359375 46.1875 33.984375 \n",
       "Q 46.1875 41.015625 43.078125 44.75 \n",
       "Q 39.984375 48.484375 34.1875 48.484375 \n",
       "Q 29.9375 48.484375 26.3125 46.5 \n",
       "Q 22.703125 44.53125 20.015625 40.71875 \n",
       "Q 17.1875 36.71875 15.546875 31.34375 \n",
       "Q 13.921875 25.984375 13.921875 20.90625 \n",
       "z\n",
       "\" id=\"DejaVuSans-Oblique-113\"/>\n",
       "     </defs>\n",
       "     <g transform=\"translate(55.58589 40.220177)scale(0.1625 -0.1625)\">\n",
       "      <use xlink:href=\"#DejaVuSans-Oblique-113\"/>\n",
       "      <use transform=\"translate(63.476562 -16.40625)scale(0.7)\" xlink:href=\"#DejaVuSans-51\"/>\n",
       "     </g>\n",
       "    </g>\n",
       "   </g>\n",
       "   <g id=\"text_10\">\n",
       "    <g clip-path=\"url(#p66e9e2db6e)\">\n",
       "     <!-- ${q}_{2}$ -->\n",
       "     <g transform=\"translate(55.58589 75.931677)scale(0.1625 -0.1625)\">\n",
       "      <use xlink:href=\"#DejaVuSans-Oblique-113\"/>\n",
       "      <use transform=\"translate(63.476562 -16.40625)scale(0.7)\" xlink:href=\"#DejaVuSans-50\"/>\n",
       "     </g>\n",
       "    </g>\n",
       "   </g>\n",
       "   <g id=\"text_11\">\n",
       "    <g clip-path=\"url(#p66e9e2db6e)\">\n",
       "     <!-- ${q}_{1}$ -->\n",
       "     <g transform=\"translate(55.58589 111.643177)scale(0.1625 -0.1625)\">\n",
       "      <use xlink:href=\"#DejaVuSans-Oblique-113\"/>\n",
       "      <use transform=\"translate(63.476562 -16.40625)scale(0.7)\" xlink:href=\"#DejaVuSans-49\"/>\n",
       "     </g>\n",
       "    </g>\n",
       "   </g>\n",
       "   <g id=\"text_12\">\n",
       "    <g clip-path=\"url(#p66e9e2db6e)\">\n",
       "     <!-- ${q}_{0}$ -->\n",
       "     <g transform=\"translate(55.58589 147.354677)scale(0.1625 -0.1625)\">\n",
       "      <use xlink:href=\"#DejaVuSans-Oblique-113\"/>\n",
       "      <use transform=\"translate(63.476562 -16.40625)scale(0.7)\" xlink:href=\"#DejaVuSans-48\"/>\n",
       "     </g>\n",
       "    </g>\n",
       "   </g>\n",
       "   <g id=\"text_13\">\n",
       "    <g clip-path=\"url(#p66e9e2db6e)\">\n",
       "     <!-- 4 -->\n",
       "     <defs>\n",
       "      <path d=\"M 37.796875 64.3125 \n",
       "L 12.890625 25.390625 \n",
       "L 37.796875 25.390625 \n",
       "z\n",
       "M 35.203125 72.90625 \n",
       "L 47.609375 72.90625 \n",
       "L 47.609375 25.390625 \n",
       "L 58.015625 25.390625 \n",
       "L 58.015625 17.1875 \n",
       "L 47.609375 17.1875 \n",
       "L 47.609375 0 \n",
       "L 37.796875 0 \n",
       "L 37.796875 17.1875 \n",
       "L 4.890625 17.1875 \n",
       "L 4.890625 26.703125 \n",
       "z\n",
       "\" id=\"DejaVuSans-52\"/>\n",
       "     </defs>\n",
       "     <g transform=\"translate(109.33489 172.881175)scale(0.104 -0.104)\">\n",
       "      <use xlink:href=\"#DejaVuSans-52\"/>\n",
       "     </g>\n",
       "    </g>\n",
       "   </g>\n",
       "   <g id=\"text_14\">\n",
       "    <g clip-path=\"url(#p66e9e2db6e)\">\n",
       "     <!-- $measure$ -->\n",
       "     <defs>\n",
       "      <path d=\"M 89.796875 33.015625 \n",
       "L 83.40625 0 \n",
       "L 74.421875 0 \n",
       "L 80.71875 32.71875 \n",
       "Q 81.109375 34.8125 81.296875 36.328125 \n",
       "Q 81.5 37.84375 81.5 38.921875 \n",
       "Q 81.5 43.3125 79.046875 45.75 \n",
       "Q 76.609375 48.1875 72.21875 48.1875 \n",
       "Q 65.671875 48.1875 60.546875 43.28125 \n",
       "Q 55.421875 38.375 53.90625 30.515625 \n",
       "L 47.90625 0 \n",
       "L 38.921875 0 \n",
       "L 45.3125 32.71875 \n",
       "Q 45.703125 34.515625 45.890625 36.046875 \n",
       "Q 46.09375 37.59375 46.09375 38.8125 \n",
       "Q 46.09375 43.265625 43.65625 45.71875 \n",
       "Q 41.21875 48.1875 36.921875 48.1875 \n",
       "Q 30.28125 48.1875 25.140625 43.28125 \n",
       "Q 20.015625 38.375 18.5 30.515625 \n",
       "L 12.5 0 \n",
       "L 3.515625 0 \n",
       "L 14.203125 54.6875 \n",
       "L 23.1875 54.6875 \n",
       "L 21.484375 46.1875 \n",
       "Q 25.140625 50.984375 30.046875 53.484375 \n",
       "Q 34.96875 56 40.578125 56 \n",
       "Q 46.53125 56 50.359375 52.875 \n",
       "Q 54.203125 49.75 54.984375 44.1875 \n",
       "Q 59.078125 49.953125 64.46875 52.96875 \n",
       "Q 69.875 56 75.875 56 \n",
       "Q 82.90625 56 86.734375 51.953125 \n",
       "Q 90.578125 47.90625 90.578125 40.484375 \n",
       "Q 90.578125 38.875 90.375 36.9375 \n",
       "Q 90.1875 35.015625 89.796875 33.015625 \n",
       "z\n",
       "\" id=\"DejaVuSans-Oblique-109\"/>\n",
       "      <path d=\"M 48.09375 32.234375 \n",
       "Q 48.25 33.015625 48.3125 33.84375 \n",
       "Q 48.390625 34.671875 48.390625 35.5 \n",
       "Q 48.390625 41.453125 44.890625 44.921875 \n",
       "Q 41.40625 48.390625 35.40625 48.390625 \n",
       "Q 28.71875 48.390625 23.578125 44.15625 \n",
       "Q 18.453125 39.9375 15.828125 32.171875 \n",
       "z\n",
       "M 55.90625 25.203125 \n",
       "L 14.109375 25.203125 \n",
       "Q 13.8125 23.34375 13.71875 22.265625 \n",
       "Q 13.625 21.1875 13.625 20.40625 \n",
       "Q 13.625 13.625 17.796875 9.90625 \n",
       "Q 21.96875 6.203125 29.59375 6.203125 \n",
       "Q 35.453125 6.203125 40.671875 7.515625 \n",
       "Q 45.90625 8.84375 50.390625 11.375 \n",
       "L 48.6875 2.484375 \n",
       "Q 43.84375 0.53125 38.6875 -0.4375 \n",
       "Q 33.546875 -1.421875 28.21875 -1.421875 \n",
       "Q 16.84375 -1.421875 10.71875 4.015625 \n",
       "Q 4.59375 9.46875 4.59375 19.484375 \n",
       "Q 4.59375 28.03125 7.640625 35.375 \n",
       "Q 10.6875 42.71875 16.609375 48.484375 \n",
       "Q 20.40625 52.09375 25.65625 54.046875 \n",
       "Q 30.90625 56 36.8125 56 \n",
       "Q 46.09375 56 51.578125 50.4375 \n",
       "Q 57.078125 44.875 57.078125 35.5 \n",
       "Q 57.078125 33.25 56.78125 30.6875 \n",
       "Q 56.5 28.125 55.90625 25.203125 \n",
       "z\n",
       "\" id=\"DejaVuSans-Oblique-101\"/>\n",
       "      <path d=\"M 53.71875 31.203125 \n",
       "L 47.609375 0 \n",
       "L 38.625 0 \n",
       "L 40.28125 8.296875 \n",
       "Q 36.328125 3.421875 31.265625 1 \n",
       "Q 26.21875 -1.421875 20.015625 -1.421875 \n",
       "Q 13.03125 -1.421875 8.5625 2.84375 \n",
       "Q 4.109375 7.125 4.109375 13.8125 \n",
       "Q 4.109375 23.390625 11.75 28.953125 \n",
       "Q 19.390625 34.515625 32.8125 34.515625 \n",
       "L 45.3125 34.515625 \n",
       "L 45.796875 36.921875 \n",
       "Q 45.90625 37.3125 45.953125 37.765625 \n",
       "Q 46 38.234375 46 39.203125 \n",
       "Q 46 43.5625 42.453125 45.96875 \n",
       "Q 38.921875 48.390625 32.515625 48.390625 \n",
       "Q 28.125 48.390625 23.5 47.265625 \n",
       "Q 18.890625 46.140625 14.015625 43.890625 \n",
       "L 15.578125 52.203125 \n",
       "Q 20.65625 54.109375 25.515625 55.046875 \n",
       "Q 30.375 56 34.90625 56 \n",
       "Q 44.578125 56 49.625 51.796875 \n",
       "Q 54.6875 47.609375 54.6875 39.59375 \n",
       "Q 54.6875 37.984375 54.4375 35.8125 \n",
       "Q 54.203125 33.640625 53.71875 31.203125 \n",
       "z\n",
       "M 44 27.484375 \n",
       "L 35.015625 27.484375 \n",
       "Q 23.96875 27.484375 18.671875 24.53125 \n",
       "Q 13.375 21.578125 13.375 15.375 \n",
       "Q 13.375 11.078125 16.078125 8.640625 \n",
       "Q 18.796875 6.203125 23.578125 6.203125 \n",
       "Q 30.90625 6.203125 36.375 11.453125 \n",
       "Q 41.84375 16.703125 43.609375 25.484375 \n",
       "z\n",
       "\" id=\"DejaVuSans-Oblique-97\"/>\n",
       "      <path d=\"M 50 53.078125 \n",
       "L 48.296875 44.578125 \n",
       "Q 44.734375 46.53125 40.765625 47.5 \n",
       "Q 36.8125 48.484375 32.625 48.484375 \n",
       "Q 25.53125 48.484375 21.453125 46.0625 \n",
       "Q 17.390625 43.65625 17.390625 39.5 \n",
       "Q 17.390625 34.671875 26.859375 32.078125 \n",
       "Q 27.59375 31.890625 27.9375 31.78125 \n",
       "L 30.8125 30.90625 \n",
       "Q 39.796875 28.421875 42.796875 25.6875 \n",
       "Q 45.796875 22.953125 45.796875 18.21875 \n",
       "Q 45.796875 9.515625 38.890625 4.046875 \n",
       "Q 31.984375 -1.421875 20.796875 -1.421875 \n",
       "Q 16.453125 -1.421875 11.671875 -0.578125 \n",
       "Q 6.890625 0.25 1.125 2 \n",
       "L 2.875 11.28125 \n",
       "Q 7.8125 8.734375 12.59375 7.421875 \n",
       "Q 17.390625 6.109375 21.78125 6.109375 \n",
       "Q 28.375 6.109375 32.5 8.9375 \n",
       "Q 36.625 11.765625 36.625 16.109375 \n",
       "Q 36.625 20.796875 25.78125 23.6875 \n",
       "L 24.859375 23.921875 \n",
       "L 21.78125 24.703125 \n",
       "Q 14.9375 26.515625 11.765625 29.46875 \n",
       "Q 8.59375 32.421875 8.59375 37.015625 \n",
       "Q 8.59375 45.75 15.15625 50.875 \n",
       "Q 21.734375 56 33.015625 56 \n",
       "Q 37.453125 56 41.671875 55.265625 \n",
       "Q 45.90625 54.546875 50 53.078125 \n",
       "z\n",
       "\" id=\"DejaVuSans-Oblique-115\"/>\n",
       "      <path d=\"M 6.6875 21.6875 \n",
       "L 13.09375 54.6875 \n",
       "L 22.125 54.6875 \n",
       "L 15.71875 22.015625 \n",
       "Q 15.234375 19.625 15.015625 17.921875 \n",
       "Q 14.796875 16.21875 14.796875 15.09375 \n",
       "Q 14.796875 10.9375 17.328125 8.65625 \n",
       "Q 19.875 6.390625 24.515625 6.390625 \n",
       "Q 31.734375 6.390625 37 11.265625 \n",
       "Q 42.28125 16.15625 43.890625 24.421875 \n",
       "L 49.90625 54.6875 \n",
       "L 58.890625 54.6875 \n",
       "L 48.296875 0 \n",
       "L 39.3125 0 \n",
       "L 41.109375 8.59375 \n",
       "Q 37.3125 3.8125 32.0625 1.1875 \n",
       "Q 26.8125 -1.421875 20.90625 -1.421875 \n",
       "Q 13.71875 -1.421875 9.71875 2.515625 \n",
       "Q 5.71875 6.453125 5.71875 13.484375 \n",
       "Q 5.71875 14.9375 5.953125 17.140625 \n",
       "Q 6.203125 19.34375 6.6875 21.6875 \n",
       "z\n",
       "\" id=\"DejaVuSans-Oblique-117\"/>\n",
       "      <path d=\"M 44.578125 46.390625 \n",
       "Q 43.21875 47.125 41.453125 47.515625 \n",
       "Q 39.703125 47.90625 37.703125 47.90625 \n",
       "Q 30.515625 47.90625 25.140625 42.453125 \n",
       "Q 19.78125 37.015625 18.015625 27.875 \n",
       "L 12.5 0 \n",
       "L 3.515625 0 \n",
       "L 14.203125 54.6875 \n",
       "L 23.1875 54.6875 \n",
       "L 21.484375 46.1875 \n",
       "Q 25.046875 50.921875 30 53.453125 \n",
       "Q 34.96875 56 40.578125 56 \n",
       "Q 42.046875 56 43.453125 55.828125 \n",
       "Q 44.875 55.671875 46.296875 55.28125 \n",
       "z\n",
       "\" id=\"DejaVuSans-Oblique-114\"/>\n",
       "     </defs>\n",
       "     <g transform=\"translate(-11.98161 183.995981)scale(0.195 -0.195)\">\n",
       "      <use xlink:href=\"#DejaVuSans-Oblique-109\"/>\n",
       "      <use transform=\"translate(97.412109 0)\" xlink:href=\"#DejaVuSans-Oblique-101\"/>\n",
       "      <use transform=\"translate(158.935547 0)\" xlink:href=\"#DejaVuSans-Oblique-97\"/>\n",
       "      <use transform=\"translate(220.214844 0)\" xlink:href=\"#DejaVuSans-Oblique-115\"/>\n",
       "      <use transform=\"translate(272.314453 0)\" xlink:href=\"#DejaVuSans-Oblique-117\"/>\n",
       "      <use transform=\"translate(335.693359 0)\" xlink:href=\"#DejaVuSans-Oblique-114\"/>\n",
       "      <use transform=\"translate(376.806641 0)\" xlink:href=\"#DejaVuSans-Oblique-101\"/>\n",
       "     </g>\n",
       "    </g>\n",
       "   </g>\n",
       "  </g>\n",
       " </g>\n",
       " <defs>\n",
       "  <clipPath id=\"p66e9e2db6e\">\n",
       "   <rect height=\"192.8421\" width=\"569.95554\" x=\"7.2\" y=\"7.2\"/>\n",
       "  </clipPath>\n",
       " </defs>\n",
       "</svg>\n"
      ],
      "text/plain": [
       "<Figure size 754.908x255.42 with 1 Axes>"
      ]
     },
     "execution_count": 101,
     "metadata": {},
     "output_type": "execute_result"
    }
   ],
   "source": [
    "simonCircuit.draw(output='mpl',scale=0.55,reverse_bits=\"true\")"
   ]
  },
  {
   "cell_type": "markdown",
   "metadata": {
    "slideshow": {
     "slide_type": "slide"
    }
   },
   "source": [
    "## Experiment with QASM simulator"
   ]
  },
  {
   "cell_type": "code",
   "execution_count": 106,
   "metadata": {
    "slideshow": {
     "slide_type": "-"
    }
   },
   "outputs": [
    {
     "data": {
      "image/svg+xml": [
       "<?xml version=\"1.0\" encoding=\"utf-8\" standalone=\"no\"?>\n",
       "<!DOCTYPE svg PUBLIC \"-//W3C//DTD SVG 1.1//EN\"\n",
       "  \"http://www.w3.org/Graphics/SVG/1.1/DTD/svg11.dtd\">\n",
       "<!-- Created with matplotlib (https://matplotlib.org/) -->\n",
       "<svg height=\"317.265063pt\" version=\"1.1\" viewBox=\"0 0 460.72125 317.265063\" width=\"460.72125pt\" xmlns=\"http://www.w3.org/2000/svg\" xmlns:xlink=\"http://www.w3.org/1999/xlink\">\n",
       " <defs>\n",
       "  <style type=\"text/css\">\n",
       "*{stroke-linecap:butt;stroke-linejoin:round;}\n",
       "  </style>\n",
       " </defs>\n",
       " <g id=\"figure_1\">\n",
       "  <g id=\"patch_1\">\n",
       "   <path d=\"M 0 317.265063 \n",
       "L 460.72125 317.265063 \n",
       "L 460.72125 0 \n",
       "L 0 0 \n",
       "z\n",
       "\" style=\"fill:none;\"/>\n",
       "  </g>\n",
       "  <g id=\"axes_1\">\n",
       "   <g id=\"patch_2\">\n",
       "    <path d=\"M 62.92125 281.69028 \n",
       "L 453.52125 281.69028 \n",
       "L 453.52125 9.89028 \n",
       "L 62.92125 9.89028 \n",
       "z\n",
       "\" style=\"fill:#ffffff;\"/>\n",
       "   </g>\n",
       "   <g id=\"matplotlib.axis_1\">\n",
       "    <g id=\"xtick_1\">\n",
       "     <g id=\"line2d_1\">\n",
       "      <defs>\n",
       "       <path d=\"M 0 0 \n",
       "L 0 3.5 \n",
       "\" id=\"m5d50a6d3fb\" style=\"stroke:#000000;stroke-width:0.8;\"/>\n",
       "      </defs>\n",
       "      <g>\n",
       "       <use style=\"stroke:#000000;stroke-width:0.8;\" x=\"139.857614\" xlink:href=\"#m5d50a6d3fb\" y=\"281.69028\"/>\n",
       "      </g>\n",
       "     </g>\n",
       "     <g id=\"text_1\">\n",
       "      <!-- 00 -->\n",
       "      <defs>\n",
       "       <path d=\"M 31.78125 66.40625 \n",
       "Q 24.171875 66.40625 20.328125 58.90625 \n",
       "Q 16.5 51.421875 16.5 36.375 \n",
       "Q 16.5 21.390625 20.328125 13.890625 \n",
       "Q 24.171875 6.390625 31.78125 6.390625 \n",
       "Q 39.453125 6.390625 43.28125 13.890625 \n",
       "Q 47.125 21.390625 47.125 36.375 \n",
       "Q 47.125 51.421875 43.28125 58.90625 \n",
       "Q 39.453125 66.40625 31.78125 66.40625 \n",
       "z\n",
       "M 31.78125 74.21875 \n",
       "Q 44.046875 74.21875 50.515625 64.515625 \n",
       "Q 56.984375 54.828125 56.984375 36.375 \n",
       "Q 56.984375 17.96875 50.515625 8.265625 \n",
       "Q 44.046875 -1.421875 31.78125 -1.421875 \n",
       "Q 19.53125 -1.421875 13.0625 8.265625 \n",
       "Q 6.59375 17.96875 6.59375 36.375 \n",
       "Q 6.59375 54.828125 13.0625 64.515625 \n",
       "Q 19.53125 74.21875 31.78125 74.21875 \n",
       "z\n",
       "\" id=\"DejaVuSans-48\"/>\n",
       "      </defs>\n",
       "      <g transform=\"translate(140.441219 309.06925)rotate(-70)scale(0.14 -0.14)\">\n",
       "       <use xlink:href=\"#DejaVuSans-48\"/>\n",
       "       <use x=\"63.623047\" xlink:href=\"#DejaVuSans-48\"/>\n",
       "      </g>\n",
       "     </g>\n",
       "    </g>\n",
       "    <g id=\"xtick_2\">\n",
       "     <g id=\"line2d_2\">\n",
       "      <g>\n",
       "       <use style=\"stroke:#000000;stroke-width:0.8;\" x=\"376.584886\" xlink:href=\"#m5d50a6d3fb\" y=\"281.69028\"/>\n",
       "      </g>\n",
       "     </g>\n",
       "     <g id=\"text_2\">\n",
       "      <!-- 11 -->\n",
       "      <defs>\n",
       "       <path d=\"M 12.40625 8.296875 \n",
       "L 28.515625 8.296875 \n",
       "L 28.515625 63.921875 \n",
       "L 10.984375 60.40625 \n",
       "L 10.984375 69.390625 \n",
       "L 28.421875 72.90625 \n",
       "L 38.28125 72.90625 \n",
       "L 38.28125 8.296875 \n",
       "L 54.390625 8.296875 \n",
       "L 54.390625 0 \n",
       "L 12.40625 0 \n",
       "z\n",
       "\" id=\"DejaVuSans-49\"/>\n",
       "      </defs>\n",
       "      <g transform=\"translate(377.168492 309.06925)rotate(-70)scale(0.14 -0.14)\">\n",
       "       <use xlink:href=\"#DejaVuSans-49\"/>\n",
       "       <use x=\"63.623047\" xlink:href=\"#DejaVuSans-49\"/>\n",
       "      </g>\n",
       "     </g>\n",
       "    </g>\n",
       "   </g>\n",
       "   <g id=\"matplotlib.axis_2\">\n",
       "    <g id=\"ytick_1\">\n",
       "     <g id=\"line2d_3\">\n",
       "      <path clip-path=\"url(#p0b80fe2073)\" d=\"M 62.92125 281.69028 \n",
       "L 453.52125 281.69028 \n",
       "\" style=\"fill:none;stroke:#b0b0b0;stroke-dasharray:2.96,1.28;stroke-dashoffset:0;stroke-width:0.8;\"/>\n",
       "     </g>\n",
       "     <g id=\"line2d_4\">\n",
       "      <defs>\n",
       "       <path d=\"M 0 0 \n",
       "L -3.5 0 \n",
       "\" id=\"mb1e4bfca42\" style=\"stroke:#000000;stroke-width:0.8;\"/>\n",
       "      </defs>\n",
       "      <g>\n",
       "       <use style=\"stroke:#000000;stroke-width:0.8;\" x=\"62.92125\" xlink:href=\"#mb1e4bfca42\" y=\"281.69028\"/>\n",
       "      </g>\n",
       "     </g>\n",
       "     <g id=\"text_3\">\n",
       "      <!-- 0.00 -->\n",
       "      <defs>\n",
       "       <path d=\"M 10.6875 12.40625 \n",
       "L 21 12.40625 \n",
       "L 21 0 \n",
       "L 10.6875 0 \n",
       "z\n",
       "\" id=\"DejaVuSans-46\"/>\n",
       "      </defs>\n",
       "      <g transform=\"translate(24.749375 287.009186)scale(0.14 -0.14)\">\n",
       "       <use xlink:href=\"#DejaVuSans-48\"/>\n",
       "       <use x=\"63.623047\" xlink:href=\"#DejaVuSans-46\"/>\n",
       "       <use x=\"95.410156\" xlink:href=\"#DejaVuSans-48\"/>\n",
       "       <use x=\"159.033203\" xlink:href=\"#DejaVuSans-48\"/>\n",
       "      </g>\n",
       "     </g>\n",
       "    </g>\n",
       "    <g id=\"ytick_2\">\n",
       "     <g id=\"line2d_5\">\n",
       "      <path clip-path=\"url(#p0b80fe2073)\" d=\"M 62.92125 214.397436 \n",
       "L 453.52125 214.397436 \n",
       "\" style=\"fill:none;stroke:#b0b0b0;stroke-dasharray:2.96,1.28;stroke-dashoffset:0;stroke-width:0.8;\"/>\n",
       "     </g>\n",
       "     <g id=\"line2d_6\">\n",
       "      <g>\n",
       "       <use style=\"stroke:#000000;stroke-width:0.8;\" x=\"62.92125\" xlink:href=\"#mb1e4bfca42\" y=\"214.397436\"/>\n",
       "      </g>\n",
       "     </g>\n",
       "     <g id=\"text_4\">\n",
       "      <!-- 0.15 -->\n",
       "      <defs>\n",
       "       <path d=\"M 10.796875 72.90625 \n",
       "L 49.515625 72.90625 \n",
       "L 49.515625 64.59375 \n",
       "L 19.828125 64.59375 \n",
       "L 19.828125 46.734375 \n",
       "Q 21.96875 47.46875 24.109375 47.828125 \n",
       "Q 26.265625 48.1875 28.421875 48.1875 \n",
       "Q 40.625 48.1875 47.75 41.5 \n",
       "Q 54.890625 34.8125 54.890625 23.390625 \n",
       "Q 54.890625 11.625 47.5625 5.09375 \n",
       "Q 40.234375 -1.421875 26.90625 -1.421875 \n",
       "Q 22.3125 -1.421875 17.546875 -0.640625 \n",
       "Q 12.796875 0.140625 7.71875 1.703125 \n",
       "L 7.71875 11.625 \n",
       "Q 12.109375 9.234375 16.796875 8.0625 \n",
       "Q 21.484375 6.890625 26.703125 6.890625 \n",
       "Q 35.15625 6.890625 40.078125 11.328125 \n",
       "Q 45.015625 15.765625 45.015625 23.390625 \n",
       "Q 45.015625 31 40.078125 35.4375 \n",
       "Q 35.15625 39.890625 26.703125 39.890625 \n",
       "Q 22.75 39.890625 18.8125 39.015625 \n",
       "Q 14.890625 38.140625 10.796875 36.28125 \n",
       "z\n",
       "\" id=\"DejaVuSans-53\"/>\n",
       "      </defs>\n",
       "      <g transform=\"translate(24.749375 219.716342)scale(0.14 -0.14)\">\n",
       "       <use xlink:href=\"#DejaVuSans-48\"/>\n",
       "       <use x=\"63.623047\" xlink:href=\"#DejaVuSans-46\"/>\n",
       "       <use x=\"95.410156\" xlink:href=\"#DejaVuSans-49\"/>\n",
       "       <use x=\"159.033203\" xlink:href=\"#DejaVuSans-53\"/>\n",
       "      </g>\n",
       "     </g>\n",
       "    </g>\n",
       "    <g id=\"ytick_3\">\n",
       "     <g id=\"line2d_7\">\n",
       "      <path clip-path=\"url(#p0b80fe2073)\" d=\"M 62.92125 147.104593 \n",
       "L 453.52125 147.104593 \n",
       "\" style=\"fill:none;stroke:#b0b0b0;stroke-dasharray:2.96,1.28;stroke-dashoffset:0;stroke-width:0.8;\"/>\n",
       "     </g>\n",
       "     <g id=\"line2d_8\">\n",
       "      <g>\n",
       "       <use style=\"stroke:#000000;stroke-width:0.8;\" x=\"62.92125\" xlink:href=\"#mb1e4bfca42\" y=\"147.104593\"/>\n",
       "      </g>\n",
       "     </g>\n",
       "     <g id=\"text_5\">\n",
       "      <!-- 0.30 -->\n",
       "      <defs>\n",
       "       <path d=\"M 40.578125 39.3125 \n",
       "Q 47.65625 37.796875 51.625 33 \n",
       "Q 55.609375 28.21875 55.609375 21.1875 \n",
       "Q 55.609375 10.40625 48.1875 4.484375 \n",
       "Q 40.765625 -1.421875 27.09375 -1.421875 \n",
       "Q 22.515625 -1.421875 17.65625 -0.515625 \n",
       "Q 12.796875 0.390625 7.625 2.203125 \n",
       "L 7.625 11.71875 \n",
       "Q 11.71875 9.328125 16.59375 8.109375 \n",
       "Q 21.484375 6.890625 26.8125 6.890625 \n",
       "Q 36.078125 6.890625 40.9375 10.546875 \n",
       "Q 45.796875 14.203125 45.796875 21.1875 \n",
       "Q 45.796875 27.640625 41.28125 31.265625 \n",
       "Q 36.765625 34.90625 28.71875 34.90625 \n",
       "L 20.21875 34.90625 \n",
       "L 20.21875 43.015625 \n",
       "L 29.109375 43.015625 \n",
       "Q 36.375 43.015625 40.234375 45.921875 \n",
       "Q 44.09375 48.828125 44.09375 54.296875 \n",
       "Q 44.09375 59.90625 40.109375 62.90625 \n",
       "Q 36.140625 65.921875 28.71875 65.921875 \n",
       "Q 24.65625 65.921875 20.015625 65.03125 \n",
       "Q 15.375 64.15625 9.8125 62.3125 \n",
       "L 9.8125 71.09375 \n",
       "Q 15.4375 72.65625 20.34375 73.4375 \n",
       "Q 25.25 74.21875 29.59375 74.21875 \n",
       "Q 40.828125 74.21875 47.359375 69.109375 \n",
       "Q 53.90625 64.015625 53.90625 55.328125 \n",
       "Q 53.90625 49.265625 50.4375 45.09375 \n",
       "Q 46.96875 40.921875 40.578125 39.3125 \n",
       "z\n",
       "\" id=\"DejaVuSans-51\"/>\n",
       "      </defs>\n",
       "      <g transform=\"translate(24.749375 152.423499)scale(0.14 -0.14)\">\n",
       "       <use xlink:href=\"#DejaVuSans-48\"/>\n",
       "       <use x=\"63.623047\" xlink:href=\"#DejaVuSans-46\"/>\n",
       "       <use x=\"95.410156\" xlink:href=\"#DejaVuSans-51\"/>\n",
       "       <use x=\"159.033203\" xlink:href=\"#DejaVuSans-48\"/>\n",
       "      </g>\n",
       "     </g>\n",
       "    </g>\n",
       "    <g id=\"ytick_4\">\n",
       "     <g id=\"line2d_9\">\n",
       "      <path clip-path=\"url(#p0b80fe2073)\" d=\"M 62.92125 79.81175 \n",
       "L 453.52125 79.81175 \n",
       "\" style=\"fill:none;stroke:#b0b0b0;stroke-dasharray:2.96,1.28;stroke-dashoffset:0;stroke-width:0.8;\"/>\n",
       "     </g>\n",
       "     <g id=\"line2d_10\">\n",
       "      <g>\n",
       "       <use style=\"stroke:#000000;stroke-width:0.8;\" x=\"62.92125\" xlink:href=\"#mb1e4bfca42\" y=\"79.81175\"/>\n",
       "      </g>\n",
       "     </g>\n",
       "     <g id=\"text_6\">\n",
       "      <!-- 0.45 -->\n",
       "      <defs>\n",
       "       <path d=\"M 37.796875 64.3125 \n",
       "L 12.890625 25.390625 \n",
       "L 37.796875 25.390625 \n",
       "z\n",
       "M 35.203125 72.90625 \n",
       "L 47.609375 72.90625 \n",
       "L 47.609375 25.390625 \n",
       "L 58.015625 25.390625 \n",
       "L 58.015625 17.1875 \n",
       "L 47.609375 17.1875 \n",
       "L 47.609375 0 \n",
       "L 37.796875 0 \n",
       "L 37.796875 17.1875 \n",
       "L 4.890625 17.1875 \n",
       "L 4.890625 26.703125 \n",
       "z\n",
       "\" id=\"DejaVuSans-52\"/>\n",
       "      </defs>\n",
       "      <g transform=\"translate(24.749375 85.130656)scale(0.14 -0.14)\">\n",
       "       <use xlink:href=\"#DejaVuSans-48\"/>\n",
       "       <use x=\"63.623047\" xlink:href=\"#DejaVuSans-46\"/>\n",
       "       <use x=\"95.410156\" xlink:href=\"#DejaVuSans-52\"/>\n",
       "       <use x=\"159.033203\" xlink:href=\"#DejaVuSans-53\"/>\n",
       "      </g>\n",
       "     </g>\n",
       "    </g>\n",
       "    <g id=\"ytick_5\">\n",
       "     <g id=\"line2d_11\">\n",
       "      <path clip-path=\"url(#p0b80fe2073)\" d=\"M 62.92125 12.518906 \n",
       "L 453.52125 12.518906 \n",
       "\" style=\"fill:none;stroke:#b0b0b0;stroke-dasharray:2.96,1.28;stroke-dashoffset:0;stroke-width:0.8;\"/>\n",
       "     </g>\n",
       "     <g id=\"line2d_12\">\n",
       "      <g>\n",
       "       <use style=\"stroke:#000000;stroke-width:0.8;\" x=\"62.92125\" xlink:href=\"#mb1e4bfca42\" y=\"12.518906\"/>\n",
       "      </g>\n",
       "     </g>\n",
       "     <g id=\"text_7\">\n",
       "      <!-- 0.60 -->\n",
       "      <defs>\n",
       "       <path d=\"M 33.015625 40.375 \n",
       "Q 26.375 40.375 22.484375 35.828125 \n",
       "Q 18.609375 31.296875 18.609375 23.390625 \n",
       "Q 18.609375 15.53125 22.484375 10.953125 \n",
       "Q 26.375 6.390625 33.015625 6.390625 \n",
       "Q 39.65625 6.390625 43.53125 10.953125 \n",
       "Q 47.40625 15.53125 47.40625 23.390625 \n",
       "Q 47.40625 31.296875 43.53125 35.828125 \n",
       "Q 39.65625 40.375 33.015625 40.375 \n",
       "z\n",
       "M 52.59375 71.296875 \n",
       "L 52.59375 62.3125 \n",
       "Q 48.875 64.0625 45.09375 64.984375 \n",
       "Q 41.3125 65.921875 37.59375 65.921875 \n",
       "Q 27.828125 65.921875 22.671875 59.328125 \n",
       "Q 17.53125 52.734375 16.796875 39.40625 \n",
       "Q 19.671875 43.65625 24.015625 45.921875 \n",
       "Q 28.375 48.1875 33.59375 48.1875 \n",
       "Q 44.578125 48.1875 50.953125 41.515625 \n",
       "Q 57.328125 34.859375 57.328125 23.390625 \n",
       "Q 57.328125 12.15625 50.6875 5.359375 \n",
       "Q 44.046875 -1.421875 33.015625 -1.421875 \n",
       "Q 20.359375 -1.421875 13.671875 8.265625 \n",
       "Q 6.984375 17.96875 6.984375 36.375 \n",
       "Q 6.984375 53.65625 15.1875 63.9375 \n",
       "Q 23.390625 74.21875 37.203125 74.21875 \n",
       "Q 40.921875 74.21875 44.703125 73.484375 \n",
       "Q 48.484375 72.75 52.59375 71.296875 \n",
       "z\n",
       "\" id=\"DejaVuSans-54\"/>\n",
       "      </defs>\n",
       "      <g transform=\"translate(24.749375 17.837812)scale(0.14 -0.14)\">\n",
       "       <use xlink:href=\"#DejaVuSans-48\"/>\n",
       "       <use x=\"63.623047\" xlink:href=\"#DejaVuSans-46\"/>\n",
       "       <use x=\"95.410156\" xlink:href=\"#DejaVuSans-54\"/>\n",
       "       <use x=\"159.033203\" xlink:href=\"#DejaVuSans-48\"/>\n",
       "      </g>\n",
       "     </g>\n",
       "    </g>\n",
       "    <g id=\"text_8\">\n",
       "     <!-- Probabilities -->\n",
       "     <defs>\n",
       "      <path d=\"M 19.671875 64.796875 \n",
       "L 19.671875 37.40625 \n",
       "L 32.078125 37.40625 \n",
       "Q 38.96875 37.40625 42.71875 40.96875 \n",
       "Q 46.484375 44.53125 46.484375 51.125 \n",
       "Q 46.484375 57.671875 42.71875 61.234375 \n",
       "Q 38.96875 64.796875 32.078125 64.796875 \n",
       "z\n",
       "M 9.8125 72.90625 \n",
       "L 32.078125 72.90625 \n",
       "Q 44.34375 72.90625 50.609375 67.359375 \n",
       "Q 56.890625 61.8125 56.890625 51.125 \n",
       "Q 56.890625 40.328125 50.609375 34.8125 \n",
       "Q 44.34375 29.296875 32.078125 29.296875 \n",
       "L 19.671875 29.296875 \n",
       "L 19.671875 0 \n",
       "L 9.8125 0 \n",
       "z\n",
       "\" id=\"DejaVuSans-80\"/>\n",
       "      <path d=\"M 41.109375 46.296875 \n",
       "Q 39.59375 47.171875 37.8125 47.578125 \n",
       "Q 36.03125 48 33.890625 48 \n",
       "Q 26.265625 48 22.1875 43.046875 \n",
       "Q 18.109375 38.09375 18.109375 28.8125 \n",
       "L 18.109375 0 \n",
       "L 9.078125 0 \n",
       "L 9.078125 54.6875 \n",
       "L 18.109375 54.6875 \n",
       "L 18.109375 46.1875 \n",
       "Q 20.953125 51.171875 25.484375 53.578125 \n",
       "Q 30.03125 56 36.53125 56 \n",
       "Q 37.453125 56 38.578125 55.875 \n",
       "Q 39.703125 55.765625 41.0625 55.515625 \n",
       "z\n",
       "\" id=\"DejaVuSans-114\"/>\n",
       "      <path d=\"M 30.609375 48.390625 \n",
       "Q 23.390625 48.390625 19.1875 42.75 \n",
       "Q 14.984375 37.109375 14.984375 27.296875 \n",
       "Q 14.984375 17.484375 19.15625 11.84375 \n",
       "Q 23.34375 6.203125 30.609375 6.203125 \n",
       "Q 37.796875 6.203125 41.984375 11.859375 \n",
       "Q 46.1875 17.53125 46.1875 27.296875 \n",
       "Q 46.1875 37.015625 41.984375 42.703125 \n",
       "Q 37.796875 48.390625 30.609375 48.390625 \n",
       "z\n",
       "M 30.609375 56 \n",
       "Q 42.328125 56 49.015625 48.375 \n",
       "Q 55.71875 40.765625 55.71875 27.296875 \n",
       "Q 55.71875 13.875 49.015625 6.21875 \n",
       "Q 42.328125 -1.421875 30.609375 -1.421875 \n",
       "Q 18.84375 -1.421875 12.171875 6.21875 \n",
       "Q 5.515625 13.875 5.515625 27.296875 \n",
       "Q 5.515625 40.765625 12.171875 48.375 \n",
       "Q 18.84375 56 30.609375 56 \n",
       "z\n",
       "\" id=\"DejaVuSans-111\"/>\n",
       "      <path d=\"M 48.6875 27.296875 \n",
       "Q 48.6875 37.203125 44.609375 42.84375 \n",
       "Q 40.53125 48.484375 33.40625 48.484375 \n",
       "Q 26.265625 48.484375 22.1875 42.84375 \n",
       "Q 18.109375 37.203125 18.109375 27.296875 \n",
       "Q 18.109375 17.390625 22.1875 11.75 \n",
       "Q 26.265625 6.109375 33.40625 6.109375 \n",
       "Q 40.53125 6.109375 44.609375 11.75 \n",
       "Q 48.6875 17.390625 48.6875 27.296875 \n",
       "z\n",
       "M 18.109375 46.390625 \n",
       "Q 20.953125 51.265625 25.265625 53.625 \n",
       "Q 29.59375 56 35.59375 56 \n",
       "Q 45.5625 56 51.78125 48.09375 \n",
       "Q 58.015625 40.1875 58.015625 27.296875 \n",
       "Q 58.015625 14.40625 51.78125 6.484375 \n",
       "Q 45.5625 -1.421875 35.59375 -1.421875 \n",
       "Q 29.59375 -1.421875 25.265625 0.953125 \n",
       "Q 20.953125 3.328125 18.109375 8.203125 \n",
       "L 18.109375 0 \n",
       "L 9.078125 0 \n",
       "L 9.078125 75.984375 \n",
       "L 18.109375 75.984375 \n",
       "z\n",
       "\" id=\"DejaVuSans-98\"/>\n",
       "      <path d=\"M 34.28125 27.484375 \n",
       "Q 23.390625 27.484375 19.1875 25 \n",
       "Q 14.984375 22.515625 14.984375 16.5 \n",
       "Q 14.984375 11.71875 18.140625 8.90625 \n",
       "Q 21.296875 6.109375 26.703125 6.109375 \n",
       "Q 34.1875 6.109375 38.703125 11.40625 \n",
       "Q 43.21875 16.703125 43.21875 25.484375 \n",
       "L 43.21875 27.484375 \n",
       "z\n",
       "M 52.203125 31.203125 \n",
       "L 52.203125 0 \n",
       "L 43.21875 0 \n",
       "L 43.21875 8.296875 \n",
       "Q 40.140625 3.328125 35.546875 0.953125 \n",
       "Q 30.953125 -1.421875 24.3125 -1.421875 \n",
       "Q 15.921875 -1.421875 10.953125 3.296875 \n",
       "Q 6 8.015625 6 15.921875 \n",
       "Q 6 25.140625 12.171875 29.828125 \n",
       "Q 18.359375 34.515625 30.609375 34.515625 \n",
       "L 43.21875 34.515625 \n",
       "L 43.21875 35.40625 \n",
       "Q 43.21875 41.609375 39.140625 45 \n",
       "Q 35.0625 48.390625 27.6875 48.390625 \n",
       "Q 23 48.390625 18.546875 47.265625 \n",
       "Q 14.109375 46.140625 10.015625 43.890625 \n",
       "L 10.015625 52.203125 \n",
       "Q 14.9375 54.109375 19.578125 55.046875 \n",
       "Q 24.21875 56 28.609375 56 \n",
       "Q 40.484375 56 46.34375 49.84375 \n",
       "Q 52.203125 43.703125 52.203125 31.203125 \n",
       "z\n",
       "\" id=\"DejaVuSans-97\"/>\n",
       "      <path d=\"M 9.421875 54.6875 \n",
       "L 18.40625 54.6875 \n",
       "L 18.40625 0 \n",
       "L 9.421875 0 \n",
       "z\n",
       "M 9.421875 75.984375 \n",
       "L 18.40625 75.984375 \n",
       "L 18.40625 64.59375 \n",
       "L 9.421875 64.59375 \n",
       "z\n",
       "\" id=\"DejaVuSans-105\"/>\n",
       "      <path d=\"M 9.421875 75.984375 \n",
       "L 18.40625 75.984375 \n",
       "L 18.40625 0 \n",
       "L 9.421875 0 \n",
       "z\n",
       "\" id=\"DejaVuSans-108\"/>\n",
       "      <path d=\"M 18.3125 70.21875 \n",
       "L 18.3125 54.6875 \n",
       "L 36.8125 54.6875 \n",
       "L 36.8125 47.703125 \n",
       "L 18.3125 47.703125 \n",
       "L 18.3125 18.015625 \n",
       "Q 18.3125 11.328125 20.140625 9.421875 \n",
       "Q 21.96875 7.515625 27.59375 7.515625 \n",
       "L 36.8125 7.515625 \n",
       "L 36.8125 0 \n",
       "L 27.59375 0 \n",
       "Q 17.1875 0 13.234375 3.875 \n",
       "Q 9.28125 7.765625 9.28125 18.015625 \n",
       "L 9.28125 47.703125 \n",
       "L 2.6875 47.703125 \n",
       "L 2.6875 54.6875 \n",
       "L 9.28125 54.6875 \n",
       "L 9.28125 70.21875 \n",
       "z\n",
       "\" id=\"DejaVuSans-116\"/>\n",
       "      <path d=\"M 56.203125 29.59375 \n",
       "L 56.203125 25.203125 \n",
       "L 14.890625 25.203125 \n",
       "Q 15.484375 15.921875 20.484375 11.0625 \n",
       "Q 25.484375 6.203125 34.421875 6.203125 \n",
       "Q 39.59375 6.203125 44.453125 7.46875 \n",
       "Q 49.3125 8.734375 54.109375 11.28125 \n",
       "L 54.109375 2.78125 \n",
       "Q 49.265625 0.734375 44.1875 -0.34375 \n",
       "Q 39.109375 -1.421875 33.890625 -1.421875 \n",
       "Q 20.796875 -1.421875 13.15625 6.1875 \n",
       "Q 5.515625 13.8125 5.515625 26.8125 \n",
       "Q 5.515625 40.234375 12.765625 48.109375 \n",
       "Q 20.015625 56 32.328125 56 \n",
       "Q 43.359375 56 49.78125 48.890625 \n",
       "Q 56.203125 41.796875 56.203125 29.59375 \n",
       "z\n",
       "M 47.21875 32.234375 \n",
       "Q 47.125 39.59375 43.09375 43.984375 \n",
       "Q 39.0625 48.390625 32.421875 48.390625 \n",
       "Q 24.90625 48.390625 20.390625 44.140625 \n",
       "Q 15.875 39.890625 15.1875 32.171875 \n",
       "z\n",
       "\" id=\"DejaVuSans-101\"/>\n",
       "      <path d=\"M 44.28125 53.078125 \n",
       "L 44.28125 44.578125 \n",
       "Q 40.484375 46.53125 36.375 47.5 \n",
       "Q 32.28125 48.484375 27.875 48.484375 \n",
       "Q 21.1875 48.484375 17.84375 46.4375 \n",
       "Q 14.5 44.390625 14.5 40.28125 \n",
       "Q 14.5 37.15625 16.890625 35.375 \n",
       "Q 19.28125 33.59375 26.515625 31.984375 \n",
       "L 29.59375 31.296875 \n",
       "Q 39.15625 29.25 43.1875 25.515625 \n",
       "Q 47.21875 21.78125 47.21875 15.09375 \n",
       "Q 47.21875 7.46875 41.1875 3.015625 \n",
       "Q 35.15625 -1.421875 24.609375 -1.421875 \n",
       "Q 20.21875 -1.421875 15.453125 -0.5625 \n",
       "Q 10.6875 0.296875 5.421875 2 \n",
       "L 5.421875 11.28125 \n",
       "Q 10.40625 8.6875 15.234375 7.390625 \n",
       "Q 20.0625 6.109375 24.8125 6.109375 \n",
       "Q 31.15625 6.109375 34.5625 8.28125 \n",
       "Q 37.984375 10.453125 37.984375 14.40625 \n",
       "Q 37.984375 18.0625 35.515625 20.015625 \n",
       "Q 33.0625 21.96875 24.703125 23.78125 \n",
       "L 21.578125 24.515625 \n",
       "Q 13.234375 26.265625 9.515625 29.90625 \n",
       "Q 5.8125 33.546875 5.8125 39.890625 \n",
       "Q 5.8125 47.609375 11.28125 51.796875 \n",
       "Q 16.75 56 26.8125 56 \n",
       "Q 31.78125 56 36.171875 55.265625 \n",
       "Q 40.578125 54.546875 44.28125 53.078125 \n",
       "z\n",
       "\" id=\"DejaVuSans-115\"/>\n",
       "     </defs>\n",
       "     <g transform=\"translate(17.837813 188.82278)rotate(-90)scale(0.14 -0.14)\">\n",
       "      <use xlink:href=\"#DejaVuSans-80\"/>\n",
       "      <use x=\"60.287109\" xlink:href=\"#DejaVuSans-114\"/>\n",
       "      <use x=\"101.369141\" xlink:href=\"#DejaVuSans-111\"/>\n",
       "      <use x=\"162.550781\" xlink:href=\"#DejaVuSans-98\"/>\n",
       "      <use x=\"226.027344\" xlink:href=\"#DejaVuSans-97\"/>\n",
       "      <use x=\"287.306641\" xlink:href=\"#DejaVuSans-98\"/>\n",
       "      <use x=\"350.783203\" xlink:href=\"#DejaVuSans-105\"/>\n",
       "      <use x=\"378.566406\" xlink:href=\"#DejaVuSans-108\"/>\n",
       "      <use x=\"406.349609\" xlink:href=\"#DejaVuSans-105\"/>\n",
       "      <use x=\"434.132812\" xlink:href=\"#DejaVuSans-116\"/>\n",
       "      <use x=\"473.341797\" xlink:href=\"#DejaVuSans-105\"/>\n",
       "      <use x=\"501.125\" xlink:href=\"#DejaVuSans-101\"/>\n",
       "      <use x=\"562.648438\" xlink:href=\"#DejaVuSans-115\"/>\n",
       "     </g>\n",
       "    </g>\n",
       "   </g>\n",
       "   <g id=\"patch_3\">\n",
       "    <path clip-path=\"url(#p0b80fe2073)\" d=\"M 80.675795 281.69028 \n",
       "L 199.039432 281.69028 \n",
       "L 199.039432 55.19028 \n",
       "L 80.675795 55.19028 \n",
       "z\n",
       "\" style=\"fill:#648fff;\"/>\n",
       "   </g>\n",
       "   <g id=\"patch_4\">\n",
       "    <path clip-path=\"url(#p0b80fe2073)\" d=\"M 317.403068 281.69028 \n",
       "L 435.766705 281.69028 \n",
       "L 435.766705 59.571324 \n",
       "L 317.403068 59.571324 \n",
       "z\n",
       "\" style=\"fill:#648fff;\"/>\n",
       "   </g>\n",
       "   <g id=\"patch_5\">\n",
       "    <path d=\"M 62.92125 281.69028 \n",
       "L 62.92125 9.89028 \n",
       "\" style=\"fill:none;stroke:#000000;stroke-linecap:square;stroke-linejoin:miter;stroke-width:0.8;\"/>\n",
       "   </g>\n",
       "   <g id=\"patch_6\">\n",
       "    <path d=\"M 453.52125 281.69028 \n",
       "L 453.52125 9.89028 \n",
       "\" style=\"fill:none;stroke:#000000;stroke-linecap:square;stroke-linejoin:miter;stroke-width:0.8;\"/>\n",
       "   </g>\n",
       "   <g id=\"patch_7\">\n",
       "    <path d=\"M 62.92125 281.69028 \n",
       "L 453.52125 281.69028 \n",
       "\" style=\"fill:none;stroke:#000000;stroke-linecap:square;stroke-linejoin:miter;stroke-width:0.8;\"/>\n",
       "   </g>\n",
       "   <g id=\"patch_8\">\n",
       "    <path d=\"M 62.92125 9.89028 \n",
       "L 453.52125 9.89028 \n",
       "\" style=\"fill:none;stroke:#000000;stroke-linecap:square;stroke-linejoin:miter;stroke-width:0.8;\"/>\n",
       "   </g>\n",
       "   <g id=\"text_9\">\n",
       "    <!-- 0.505 -->\n",
       "    <g transform=\"translate(125.543551 41.785592)scale(0.1 -0.1)\">\n",
       "     <use xlink:href=\"#DejaVuSans-48\"/>\n",
       "     <use x=\"63.623047\" xlink:href=\"#DejaVuSans-46\"/>\n",
       "     <use x=\"95.410156\" xlink:href=\"#DejaVuSans-53\"/>\n",
       "     <use x=\"159.033203\" xlink:href=\"#DejaVuSans-48\"/>\n",
       "     <use x=\"222.65625\" xlink:href=\"#DejaVuSans-53\"/>\n",
       "    </g>\n",
       "   </g>\n",
       "   <g id=\"text_10\">\n",
       "    <!-- 0.495 -->\n",
       "    <defs>\n",
       "     <path d=\"M 10.984375 1.515625 \n",
       "L 10.984375 10.5 \n",
       "Q 14.703125 8.734375 18.5 7.8125 \n",
       "Q 22.3125 6.890625 25.984375 6.890625 \n",
       "Q 35.75 6.890625 40.890625 13.453125 \n",
       "Q 46.046875 20.015625 46.78125 33.40625 \n",
       "Q 43.953125 29.203125 39.59375 26.953125 \n",
       "Q 35.25 24.703125 29.984375 24.703125 \n",
       "Q 19.046875 24.703125 12.671875 31.3125 \n",
       "Q 6.296875 37.9375 6.296875 49.421875 \n",
       "Q 6.296875 60.640625 12.9375 67.421875 \n",
       "Q 19.578125 74.21875 30.609375 74.21875 \n",
       "Q 43.265625 74.21875 49.921875 64.515625 \n",
       "Q 56.59375 54.828125 56.59375 36.375 \n",
       "Q 56.59375 19.140625 48.40625 8.859375 \n",
       "Q 40.234375 -1.421875 26.421875 -1.421875 \n",
       "Q 22.703125 -1.421875 18.890625 -0.6875 \n",
       "Q 15.09375 0.046875 10.984375 1.515625 \n",
       "z\n",
       "M 30.609375 32.421875 \n",
       "Q 37.25 32.421875 41.125 36.953125 \n",
       "Q 45.015625 41.5 45.015625 49.421875 \n",
       "Q 45.015625 57.28125 41.125 61.84375 \n",
       "Q 37.25 66.40625 30.609375 66.40625 \n",
       "Q 23.96875 66.40625 20.09375 61.84375 \n",
       "Q 16.21875 57.28125 16.21875 49.421875 \n",
       "Q 16.21875 41.5 20.09375 36.953125 \n",
       "Q 23.96875 32.421875 30.609375 32.421875 \n",
       "z\n",
       "\" id=\"DejaVuSans-57\"/>\n",
       "    </defs>\n",
       "    <g transform=\"translate(362.270824 46.385689)scale(0.1 -0.1)\">\n",
       "     <use xlink:href=\"#DejaVuSans-48\"/>\n",
       "     <use x=\"63.623047\" xlink:href=\"#DejaVuSans-46\"/>\n",
       "     <use x=\"95.410156\" xlink:href=\"#DejaVuSans-52\"/>\n",
       "     <use x=\"159.033203\" xlink:href=\"#DejaVuSans-57\"/>\n",
       "     <use x=\"222.65625\" xlink:href=\"#DejaVuSans-53\"/>\n",
       "    </g>\n",
       "   </g>\n",
       "  </g>\n",
       " </g>\n",
       " <defs>\n",
       "  <clipPath id=\"p0b80fe2073\">\n",
       "   <rect height=\"271.8\" width=\"390.6\" x=\"62.92125\" y=\"9.89028\"/>\n",
       "  </clipPath>\n",
       " </defs>\n",
       "</svg>\n"
      ],
      "text/plain": [
       "<Figure size 504x360 with 1 Axes>"
      ]
     },
     "execution_count": 106,
     "metadata": {},
     "output_type": "execute_result"
    }
   ],
   "source": [
    "# use local simulator\n",
    "results = execute(simonCircuit, backend=backendQASM, shots=1024).result()\n",
    "answer = results.get_counts()\n",
    "\n",
    "# Categorize measurements by input register values [c3,c2,c1,c0]\n",
    "answer_plot = {}\n",
    "for measresult in answer.keys():\n",
    "    measresult_input = measresult[0:2]\n",
    "    if measresult_input in answer_plot:\n",
    "        answer_plot[measresult_input] += answer[measresult]\n",
    "    else:\n",
    "        answer_plot[measresult_input] = answer[measresult] \n",
    "\n",
    "# Plot the categorized results\n",
    "plot_histogram(answer_plot)"
   ]
  },
  {
   "cell_type": "code",
   "execution_count": 107,
   "metadata": {
    "scrolled": true,
    "slideshow": {
     "slide_type": "fragment"
    }
   },
   "outputs": [
    {
     "name": "stdout",
     "output_type": "stream",
     "text": [
      "s, z, s.z (mod 2)\n",
      "s=( 0 0 ),z=( 1 1 ),sz= 0\n",
      "s=( 0 0 ),z=( 0 0 ),sz= 0\n",
      "s=( 0 1 ),z=( 1 1 ),sz= 1\n",
      "s=( 0 1 ),z=( 0 0 ),sz= 0\n",
      "s=( 1 0 ),z=( 1 1 ),sz= 1\n",
      "s=( 1 0 ),z=( 0 0 ),sz= 0\n",
      "s=( 1 1 ),z=( 1 1 ),sz= 0\n",
      "s=( 1 1 ),z=( 0 0 ),sz= 0\n"
     ]
    }
   ],
   "source": [
    "# Brute force calculation of s\n",
    "print('s, z, s.z (mod 2)')\n",
    "for s1 in [0,1]:\n",
    "    for s0 in [0,1]:\n",
    "        for measuredz in answer_plot:\n",
    "            z1 = int(measuredz[0])\n",
    "            z0 = int(measuredz[1])\n",
    "            print(\"s=(\",s1,s0,\"),z=(\",z1,z0,\"),sz=\",s1*z1^s0*z0)"
   ]
  },
  {
   "cell_type": "markdown",
   "metadata": {
    "cell_style": "center",
    "slideshow": {
     "slide_type": "slide"
    }
   },
   "source": [
    "Using these results, we can recover the value of $s = 11$."
   ]
  },
  {
   "cell_type": "markdown",
   "metadata": {
    "slideshow": {
     "slide_type": "slide"
    }
   },
   "source": [
    "# Recap"
   ]
  },
  {
   "cell_type": "markdown",
   "metadata": {
    "slideshow": {
     "slide_type": "slide"
    }
   },
   "source": [
    "* Why quantum computing?\n",
    "  * It promises speedups\n",
    "  * Ready to be programmed\n",
    "* 101 quantum computation\n",
    "  * Qubit registers are normalized complex vectors\n",
    "  * Gates are unitary transformations\n",
    "  * Measurement probability is proportional to the square of the amplitude\n",
    "* Boolean functions can be embedded into unitaries\n",
    "* Basic algorithms give speedups for not so interesting problems\n",
    "* Many more! linear systems of equations, factorization, etc."
   ]
  },
  {
   "cell_type": "markdown",
   "metadata": {
    "cell_style": "center",
    "slideshow": {
     "slide_type": "slide"
    }
   },
   "source": [
    "# Quantum Computing Seminar\n",
    "David Elkouss\n",
    "<div>\n",
    "<img src=https://delkouss.github.io/qctutorial/QuTech_Main.svg width=300px></div>"
   ]
  }
 ],
 "metadata": {
  "celltoolbar": "Slideshow",
  "kernelspec": {
   "display_name": "Python 3",
   "language": "python",
   "name": "python3"
  },
  "language_info": {
   "codemirror_mode": {
    "name": "ipython",
    "version": 3
   },
   "file_extension": ".py",
   "mimetype": "text/x-python",
   "name": "python",
   "nbconvert_exporter": "python",
   "pygments_lexer": "ipython3",
   "version": "3.7.3"
  }
 },
 "nbformat": 4,
 "nbformat_minor": 2
}
